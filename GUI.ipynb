{
 "cells": [
  {
   "cell_type": "markdown",
   "id": "17d162e4",
   "metadata": {},
   "source": [
    "# GUI"
   ]
  },
  {
   "cell_type": "code",
   "execution_count": 2,
   "id": "42b88d2a",
   "metadata": {},
   "outputs": [],
   "source": [
    "import tkinter\n",
    "\n",
    "root = tkinter.Tk()\n",
    "my_label = tkinter.Label(root, text=\"Hello World!\")\n",
    "\n",
    "my_label.pack()\n",
    "root.mainloop()"
   ]
  },
  {
   "cell_type": "markdown",
   "id": "60f821f8",
   "metadata": {},
   "source": [
    "# Grid positioning"
   ]
  },
  {
   "cell_type": "code",
   "execution_count": 7,
   "id": "d67498f2",
   "metadata": {},
   "outputs": [],
   "source": [
    "import tkinter\n",
    "\n",
    "root = tkinter.Tk()\n",
    "my_label1 = tkinter.Label(root, text=\"Hello World!\")\n",
    "my_label2 = tkinter.Label(root, text=\"GUI\")\n",
    "\n",
    "my_label1.grid(row=0, column=0)\n",
    "my_label2.grid(row=1, column=0)\n",
    "root.mainloop()"
   ]
  },
  {
   "cell_type": "code",
   "execution_count": 6,
   "id": "869f1347",
   "metadata": {},
   "outputs": [],
   "source": [
    "import tkinter\n",
    "\n",
    "root = tkinter.Tk()\n",
    "my_label1 = tkinter.Label(root, text=\"Hello World!\")\n",
    "my_label2 = tkinter.Label(root, text=\"GUI\")\n",
    "\n",
    "my_label1.grid(row=0, column=0)\n",
    "my_label2.grid(row=1, column=5)\n",
    "root.mainloop()"
   ]
  },
  {
   "cell_type": "code",
   "execution_count": 8,
   "id": "8f7fd5e9",
   "metadata": {},
   "outputs": [],
   "source": [
    "import tkinter\n",
    "\n",
    "root = tkinter.Tk()\n",
    "my_label1 = tkinter.Label(root, text=\"Hello World!\")\n",
    "my_label2 = tkinter.Label(root, text=\"GUI\")\n",
    "my_label3 = tkinter.Label(root, text=\" Hello GUI\")\n",
    "\n",
    "my_label1.grid(row=0, column=0)\n",
    "my_label2.grid(row=1, column=0)\n",
    "my_label3.grid(row=1, column=1)\n",
    "root.mainloop()"
   ]
  },
  {
   "cell_type": "markdown",
   "id": "d8dd4280",
   "metadata": {},
   "source": [
    "# How to create a button"
   ]
  },
  {
   "cell_type": "code",
   "execution_count": 16,
   "id": "37f92ce1",
   "metadata": {},
   "outputs": [],
   "source": [
    "import tkinter\n",
    "\n",
    "root = tkinter.Tk()\n",
    "\n",
    "def click():\n",
    "    write = tkinter.Label(root, text=\"button pressed\")\n",
    "    write.pack()\n",
    "\n",
    "my_button = tkinter.Button(root, text=\"Click me!\", command=click, padx=30, pady=20)\n",
    "my_button.pack()\n",
    "\n",
    "root.mainloop()"
   ]
  }
 ],
 "metadata": {
  "kernelspec": {
   "display_name": "env_learning",
   "language": "python",
   "name": "python3"
  },
  "language_info": {
   "codemirror_mode": {
    "name": "ipython",
    "version": 3
   },
   "file_extension": ".py",
   "mimetype": "text/x-python",
   "name": "python",
   "nbconvert_exporter": "python",
   "pygments_lexer": "ipython3",
   "version": "3.10.12"
  }
 },
 "nbformat": 4,
 "nbformat_minor": 5
}
