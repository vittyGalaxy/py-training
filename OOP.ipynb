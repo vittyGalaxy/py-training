{
 "cells": [
  {
   "cell_type": "markdown",
   "id": "e39f6f20",
   "metadata": {},
   "source": [
    "# Classes and objects\n",
    "la classe é formata da attributi e metodi, gli attributi sono le variabili della classe invece i metodi sono le funzioni della classe."
   ]
  },
  {
   "cell_type": "code",
   "execution_count": 1,
   "id": "d2711a2f",
   "metadata": {},
   "outputs": [
    {
     "name": "stdout",
     "output_type": "stream",
     "text": [
      "<class '__main__.Trial'>\n"
     ]
    }
   ],
   "source": [
    "class Trial:\n",
    "    pass\n",
    "\n",
    "tria1 = Trial()\n",
    "print(type(tria1))"
   ]
  },
  {
   "cell_type": "markdown",
   "id": "821594fc",
   "metadata": {},
   "source": [
    "# Variables and methods in classes"
   ]
  },
  {
   "cell_type": "code",
   "execution_count": 1,
   "id": "3301ace8",
   "metadata": {},
   "outputs": [
    {
     "name": "stdout",
     "output_type": "stream",
     "text": [
      "Today is a good day!\n",
      "Today is a good day!\n"
     ]
    }
   ],
   "source": [
    "class Weather:\n",
    "    sun = \"Today is a good day!\"\n",
    "\n",
    "day1 = Weather()\n",
    "day2 = Weather()\n",
    "\n",
    "print(day1.sun)\n",
    "print(day2.sun)"
   ]
  },
  {
   "cell_type": "code",
   "execution_count": 8,
   "id": "accd2447",
   "metadata": {},
   "outputs": [
    {
     "name": "stdout",
     "output_type": "stream",
     "text": [
      "Dogs are 7 years old every year\n"
     ]
    }
   ],
   "source": [
    "class Dog:\n",
    "    dog_age_difference = 7\n",
    "\n",
    "    def explanation_time(self):\n",
    "        print(\"Dogs are {} years old every year\".format(self.dog_age_difference))\n",
    "\n",
    "bobbi = Dog()\n",
    "bobbi.explanation_time()"
   ]
  },
  {
   "cell_type": "code",
   "execution_count": 9,
   "id": "bbacb786",
   "metadata": {},
   "outputs": [
    {
     "name": "stdout",
     "output_type": "stream",
     "text": [
      "2826.0\n"
     ]
    }
   ],
   "source": [
    "class Circle:\n",
    "    pi = 3.14\n",
    "\n",
    "    def area(self, radius):\n",
    "        return Circle.pi * radius ** 2\n",
    "\n",
    "circle = Circle()\n",
    "square = circle.area(30)\n",
    "print(square)"
   ]
  },
  {
   "cell_type": "markdown",
   "id": "efc1e419",
   "metadata": {},
   "source": [
    "# Instance variables"
   ]
  },
  {
   "cell_type": "code",
   "execution_count": 1,
   "id": "04dd31b8",
   "metadata": {},
   "outputs": [
    {
     "name": "stdout",
     "output_type": "stream",
     "text": [
      "Mandolinoage\n",
      "Rocchettari\n"
     ]
    }
   ],
   "source": [
    "class Music_shop:\n",
    "    pass\n",
    "\n",
    "music_new_age = Music_shop()\n",
    "music_rock = Music_shop()\n",
    "music_new_age.name_album = \"Mandolinoage\"\n",
    "music_rock.name_album = \"Rocchettari\"\n",
    "print(music_new_age.name_album)\n",
    "print(music_rock.name_album)"
   ]
  },
  {
   "cell_type": "markdown",
   "id": "daea6b5b",
   "metadata": {},
   "source": [
    "# Builder\n",
    "Per il costruttore si mette __ init__"
   ]
  },
  {
   "cell_type": "code",
   "execution_count": 1,
   "id": "8738562c",
   "metadata": {},
   "outputs": [
    {
     "name": "stdout",
     "output_type": "stream",
     "text": [
      "The new rim has a diameter of: 55\n"
     ]
    }
   ],
   "source": [
    "class Circle:\n",
    "    pi = 3.14\n",
    "\n",
    "    def __init__(self, diameter):\n",
    "        print(\"The new rim has a diameter of: {diameter}\".format(diameter = diameter))\n",
    "\n",
    "round_table = Circle(55)"
   ]
  },
  {
   "cell_type": "code",
   "execution_count": 3,
   "id": "fd751b95",
   "metadata": {},
   "outputs": [
    {
     "name": "stdout",
     "output_type": "stream",
     "text": [
      "HELLO\n",
      "WORLD!\n"
     ]
    }
   ],
   "source": [
    "class High_voice:\n",
    "        def __init__(self, phrase):\n",
    "                if type(phrase) == str:\n",
    "                    print(phrase.upper())\n",
    "\n",
    "phrase1 = High_voice(\"Hello\")\n",
    "phrase2 = High_voice(\"World!\")"
   ]
  },
  {
   "cell_type": "markdown",
   "id": "74855b0f",
   "metadata": {},
   "source": [
    "# Self"
   ]
  },
  {
   "cell_type": "code",
   "execution_count": 4,
   "id": "9f2829cf",
   "metadata": {},
   "outputs": [
    {
     "name": "stdout",
     "output_type": "stream",
     "text": [
      "Create a circle with diameter 50\n",
      "157.0\n"
     ]
    }
   ],
   "source": [
    "class Circle:\n",
    "    pi = 3.14\n",
    "    def __init__(self, diameter):\n",
    "        print(\"Create a circle with diameter {diameter}\".format(diameter = diameter))\n",
    "        self.radius = diameter / 2\n",
    "    \n",
    "    def circumference(self):\n",
    "        return 2 * self.pi * self.radius\n",
    "\n",
    "round_table = Circle(50)\n",
    "print(round_table.circumference())"
   ]
  }
 ],
 "metadata": {
  "kernelspec": {
   "display_name": "env_learning",
   "language": "python",
   "name": "python3"
  },
  "language_info": {
   "codemirror_mode": {
    "name": "ipython",
    "version": 3
   },
   "file_extension": ".py",
   "mimetype": "text/x-python",
   "name": "python",
   "nbconvert_exporter": "python",
   "pygments_lexer": "ipython3",
   "version": "3.10.12"
  }
 },
 "nbformat": 4,
 "nbformat_minor": 5
}
