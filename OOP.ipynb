{
 "cells": [
  {
   "cell_type": "markdown",
   "id": "e39f6f20",
   "metadata": {},
   "source": [
    "# OOP (classes and objects)\n",
    "la classe é formata da attributi e metodi, gli attributi sono le variabili della classe invece i metodi sono le funzioni della classe."
   ]
  },
  {
   "cell_type": "code",
   "execution_count": 1,
   "id": "d2711a2f",
   "metadata": {},
   "outputs": [
    {
     "name": "stdout",
     "output_type": "stream",
     "text": [
      "<class '__main__.Trial'>\n"
     ]
    }
   ],
   "source": [
    "class Trial:\n",
    "    pass\n",
    "\n",
    "tria1 = Trial()\n",
    "print(type(tria1))"
   ]
  },
  {
   "cell_type": "markdown",
   "id": "821594fc",
   "metadata": {},
   "source": [
    "# Variables and methods in classes"
   ]
  },
  {
   "cell_type": "code",
   "execution_count": 1,
   "id": "3301ace8",
   "metadata": {},
   "outputs": [
    {
     "name": "stdout",
     "output_type": "stream",
     "text": [
      "Today is a good day!\n",
      "Today is a good day!\n"
     ]
    }
   ],
   "source": [
    "class Weather:\n",
    "    sun = \"Today is a good day!\"\n",
    "\n",
    "day1 = Weather()\n",
    "day2 = Weather()\n",
    "\n",
    "print(day1.sun)\n",
    "print(day2.sun)"
   ]
  },
  {
   "cell_type": "code",
   "execution_count": 8,
   "id": "accd2447",
   "metadata": {},
   "outputs": [
    {
     "name": "stdout",
     "output_type": "stream",
     "text": [
      "Dogs are 7 years old every year\n"
     ]
    }
   ],
   "source": [
    "class Dog:\n",
    "    dog_age_difference = 7\n",
    "\n",
    "    def explanation_time(self):\n",
    "        print(\"Dogs are {} years old every year\".format(self.dog_age_difference))\n",
    "\n",
    "bobbi = Dog()\n",
    "bobbi.explanation_time()"
   ]
  },
  {
   "cell_type": "code",
   "execution_count": 9,
   "id": "bbacb786",
   "metadata": {},
   "outputs": [
    {
     "name": "stdout",
     "output_type": "stream",
     "text": [
      "2826.0\n"
     ]
    }
   ],
   "source": [
    "class Circle:\n",
    "    pi = 3.14\n",
    "\n",
    "    def area(self, radius):\n",
    "        return Circle.pi * radius ** 2\n",
    "\n",
    "circle = Circle()\n",
    "square = circle.area(30)\n",
    "print(square)"
   ]
  }
 ],
 "metadata": {
  "kernelspec": {
   "display_name": "env_learning",
   "language": "python",
   "name": "python3"
  },
  "language_info": {
   "codemirror_mode": {
    "name": "ipython",
    "version": 3
   },
   "file_extension": ".py",
   "mimetype": "text/x-python",
   "name": "python",
   "nbconvert_exporter": "python",
   "pygments_lexer": "ipython3",
   "version": "3.10.12"
  }
 },
 "nbformat": 4,
 "nbformat_minor": 5
}
