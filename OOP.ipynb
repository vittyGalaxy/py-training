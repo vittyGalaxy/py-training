{
 "cells": [
  {
   "cell_type": "markdown",
   "id": "e39f6f20",
   "metadata": {},
   "source": [
    "# Classes and objects\n",
    "la classe é formata da attributi e metodi, gli attributi sono le variabili della classe invece i metodi sono le funzioni della classe."
   ]
  },
  {
   "cell_type": "code",
   "execution_count": 1,
   "id": "d2711a2f",
   "metadata": {},
   "outputs": [
    {
     "name": "stdout",
     "output_type": "stream",
     "text": [
      "<class '__main__.Trial'>\n"
     ]
    }
   ],
   "source": [
    "class Trial:\n",
    "    pass\n",
    "\n",
    "tria1 = Trial()\n",
    "print(type(tria1))"
   ]
  },
  {
   "cell_type": "markdown",
   "id": "821594fc",
   "metadata": {},
   "source": [
    "# Variables and methods in classes"
   ]
  },
  {
   "cell_type": "code",
   "execution_count": 1,
   "id": "3301ace8",
   "metadata": {},
   "outputs": [
    {
     "name": "stdout",
     "output_type": "stream",
     "text": [
      "Today is a good day!\n",
      "Today is a good day!\n"
     ]
    }
   ],
   "source": [
    "class Weather:\n",
    "    sun = \"Today is a good day!\"\n",
    "\n",
    "day1 = Weather()\n",
    "day2 = Weather()\n",
    "\n",
    "print(day1.sun)\n",
    "print(day2.sun)"
   ]
  },
  {
   "cell_type": "code",
   "execution_count": 8,
   "id": "accd2447",
   "metadata": {},
   "outputs": [
    {
     "name": "stdout",
     "output_type": "stream",
     "text": [
      "Dogs are 7 years old every year\n"
     ]
    }
   ],
   "source": [
    "class Dog:\n",
    "    dog_age_difference = 7\n",
    "\n",
    "    def explanation_time(self):\n",
    "        print(\"Dogs are {} years old every year\".format(self.dog_age_difference))\n",
    "\n",
    "bobbi = Dog()\n",
    "bobbi.explanation_time()"
   ]
  },
  {
   "cell_type": "code",
   "execution_count": 9,
   "id": "bbacb786",
   "metadata": {},
   "outputs": [
    {
     "name": "stdout",
     "output_type": "stream",
     "text": [
      "2826.0\n"
     ]
    }
   ],
   "source": [
    "class Circle:\n",
    "    pi = 3.14\n",
    "\n",
    "    def area(self, radius):\n",
    "        return Circle.pi * radius ** 2\n",
    "\n",
    "circle = Circle()\n",
    "square = circle.area(30)\n",
    "print(square)"
   ]
  },
  {
   "cell_type": "markdown",
   "id": "efc1e419",
   "metadata": {},
   "source": [
    "# Instance variables"
   ]
  },
  {
   "cell_type": "code",
   "execution_count": 1,
   "id": "04dd31b8",
   "metadata": {},
   "outputs": [
    {
     "name": "stdout",
     "output_type": "stream",
     "text": [
      "Mandolinoage\n",
      "Rocchettari\n"
     ]
    }
   ],
   "source": [
    "class Music_shop:\n",
    "    pass\n",
    "\n",
    "music_new_age = Music_shop()\n",
    "music_rock = Music_shop()\n",
    "music_new_age.name_album = \"Mandolinoage\"\n",
    "music_rock.name_album = \"Rocchettari\"\n",
    "print(music_new_age.name_album)\n",
    "print(music_rock.name_album)"
   ]
  },
  {
   "cell_type": "markdown",
   "id": "daea6b5b",
   "metadata": {},
   "source": [
    "# Builder\n",
    "Per il costruttore si mette __ init__"
   ]
  },
  {
   "cell_type": "code",
   "execution_count": 1,
   "id": "8738562c",
   "metadata": {},
   "outputs": [
    {
     "name": "stdout",
     "output_type": "stream",
     "text": [
      "The new rim has a diameter of: 55\n"
     ]
    }
   ],
   "source": [
    "class Circle:\n",
    "    pi = 3.14\n",
    "\n",
    "    def __init__(self, diameter):\n",
    "        print(\"The new rim has a diameter of: {diameter}\".format(diameter = diameter))\n",
    "\n",
    "round_table = Circle(55)"
   ]
  },
  {
   "cell_type": "code",
   "execution_count": 3,
   "id": "fd751b95",
   "metadata": {},
   "outputs": [
    {
     "name": "stdout",
     "output_type": "stream",
     "text": [
      "HELLO\n",
      "WORLD!\n"
     ]
    }
   ],
   "source": [
    "class High_voice:\n",
    "        def __init__(self, phrase):\n",
    "                if type(phrase) == str:\n",
    "                    print(phrase.upper())\n",
    "\n",
    "phrase1 = High_voice(\"Hello\")\n",
    "phrase2 = High_voice(\"World!\")"
   ]
  },
  {
   "cell_type": "markdown",
   "id": "74855b0f",
   "metadata": {},
   "source": [
    "# Self"
   ]
  },
  {
   "cell_type": "code",
   "execution_count": 4,
   "id": "9f2829cf",
   "metadata": {},
   "outputs": [
    {
     "name": "stdout",
     "output_type": "stream",
     "text": [
      "Create a circle with diameter 50\n",
      "157.0\n"
     ]
    }
   ],
   "source": [
    "class Circle:\n",
    "    pi = 3.14\n",
    "    def __init__(self, diameter):\n",
    "        print(\"Create a circle with diameter {diameter}\".format(diameter = diameter))\n",
    "        self.radius = diameter / 2\n",
    "    \n",
    "    def circumference(self):\n",
    "        return 2 * self.pi * self.radius\n",
    "\n",
    "round_table = Circle(50)\n",
    "print(round_table.circumference())"
   ]
  },
  {
   "cell_type": "markdown",
   "id": "38ec1b16",
   "metadata": {},
   "source": [
    "# D_under methods"
   ]
  },
  {
   "cell_type": "code",
   "execution_count": 5,
   "id": "1cc77ffb",
   "metadata": {},
   "outputs": [
    {
     "name": "stdout",
     "output_type": "stream",
     "text": [
      "My name is Luca\n"
     ]
    }
   ],
   "source": [
    "class Name:\n",
    "    def __init__(self, name):\n",
    "        self.name = name\n",
    "    \n",
    "    def __repr__(self):\n",
    "        return \"My name is \" + self.name # Repr deve restituire una stringa\n",
    "\n",
    "luca = Name(\"Luca\")\n",
    "\n",
    "print(luca)"
   ]
  },
  {
   "cell_type": "markdown",
   "id": "f1df0e03",
   "metadata": {},
   "source": [
    "# Inheritance\n",
    "Quando una classe eredita attributi e metodi a un'altra classe"
   ]
  },
  {
   "cell_type": "code",
   "execution_count": null,
   "id": "5ef09e27",
   "metadata": {},
   "outputs": [],
   "source": [
    "class A:\n",
    "    pass\n",
    "\n",
    "class B(A): # Eredita dalla classe A\n",
    "    pass"
   ]
  },
  {
   "cell_type": "code",
   "execution_count": 1,
   "id": "55e6f161",
   "metadata": {},
   "outputs": [
    {
     "name": "stdout",
     "output_type": "stream",
     "text": [
      "True\n"
     ]
    }
   ],
   "source": [
    "class User:\n",
    "    admin = False\n",
    "    def __init__(self, name_user):\n",
    "        self.name_user = name_user\n",
    "\n",
    "class Admin(User):\n",
    "    admin = True\n",
    "\n",
    "print(issubclass(Admin, User)) # issubclass ci dá in output True o False e dice \"Admin é una sottoclasse di User?\""
   ]
  },
  {
   "cell_type": "code",
   "execution_count": 2,
   "id": "5037c505",
   "metadata": {},
   "outputs": [],
   "source": [
    "class Message:\n",
    "    def __init__(self, sender, object, text):\n",
    "        self.sender = sender\n",
    "        self.object = object\n",
    "        self.text = text\n",
    "\n",
    "class User:\n",
    "    def __init__(self, name_user):\n",
    "        self.name_user = name_user\n",
    "    \n",
    "    def edit_message(self, message, new_text):\n",
    "        if message.sender == self.name_user:\n",
    "            message.text = new_text\n",
    "\n",
    "class Admin(User):\n",
    "    def edit_message(self, message, new_text):\n",
    "        message.text = new_text"
   ]
  },
  {
   "cell_type": "code",
   "execution_count": 3,
   "id": "3a0ab1c1",
   "metadata": {},
   "outputs": [],
   "source": [
    "class Salad:\n",
    "    def __init__(self, tomatoes, onion, beans):\n",
    "        self.tomatoes = tomatoes\n",
    "        self.onion = onion\n",
    "        self.beans = beans\n",
    "\n",
    "class Salad_top(Salad):\n",
    "    def __init__(self, tomatoes, onion, beans):\n",
    "        super().__init__(tomatoes, onion, beans)\n",
    "        self.garlic = True"
   ]
  },
  {
   "cell_type": "markdown",
   "id": "c437447a",
   "metadata": {},
   "source": [
    "# Polymorphism"
   ]
  },
  {
   "cell_type": "code",
   "execution_count": 4,
   "id": "77790042",
   "metadata": {},
   "outputs": [
    {
     "name": "stdout",
     "output_type": "stream",
     "text": [
      "2\n",
      "5\n"
     ]
    }
   ],
   "source": [
    "a = [1, 2]\n",
    "b = \"Hello\"\n",
    "\n",
    "print(len(a))\n",
    "print(len(b)) # Len si adatterá ai tipi di dato ma fa lo stesso scopo"
   ]
  },
  {
   "cell_type": "markdown",
   "id": "56a1efe5",
   "metadata": {},
   "source": [
    "# Polymorphism in classes"
   ]
  },
  {
   "cell_type": "code",
   "execution_count": 8,
   "id": "c386c6e1",
   "metadata": {},
   "outputs": [
    {
     "name": "stdout",
     "output_type": "stream",
     "text": [
      "Color in RGB = 255, 0, 255\n"
     ]
    }
   ],
   "source": [
    "class Color:\n",
    "    def __init__(self, red, blue, green):\n",
    "        self.red = red\n",
    "        self.blue = blue\n",
    "        self.green = green\n",
    "    \n",
    "    def __repr__(self):\n",
    "        return \"Color in RGB = {red}, {green}, {blue}\".format(red = self.red, green = self.green, blue = self.blue)\n",
    "    \n",
    "    def sum(self, other):\n",
    "        new_red = min(self.red + other.red, 255)\n",
    "        new_blue = min(self.blue + other.blue, 255)\n",
    "        new_green = min(self.green + other.green, 255)\n",
    "        return Color(new_red, new_green, new_blue)\n",
    "\n",
    "red = Color(255, 0, 0)\n",
    "green = Color(0, 0, 255)\n",
    "yellow = red.sum(green)\n",
    "print(yellow)"
   ]
  }
 ],
 "metadata": {
  "kernelspec": {
   "display_name": "env_learning",
   "language": "python",
   "name": "python3"
  },
  "language_info": {
   "codemirror_mode": {
    "name": "ipython",
    "version": 3
   },
   "file_extension": ".py",
   "mimetype": "text/x-python",
   "name": "python",
   "nbconvert_exporter": "python",
   "pygments_lexer": "ipython3",
   "version": "3.10.12"
  }
 },
 "nbformat": 4,
 "nbformat_minor": 5
}
