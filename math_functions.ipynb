{
 "cells": [
  {
   "cell_type": "markdown",
   "id": "081e7402",
   "metadata": {},
   "source": [
    "# Qua scriviamo le funzioni matematiche\n",
    "\n",
    "### Dominio\n",
    "### Immagine\n",
    "### Retta\n",
    "### Parabola\n",
    "\n",
    "### polinomi\n",
    "### triangolo di tartaglia"
   ]
  }
 ],
 "metadata": {
  "kernelspec": {
   "display_name": "env_learning",
   "language": "python",
   "name": "python3"
  },
  "language_info": {
   "name": "python",
   "version": "3.10.12"
  }
 },
 "nbformat": 4,
 "nbformat_minor": 5
}
