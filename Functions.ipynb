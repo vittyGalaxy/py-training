{
 "cells": [
  {
   "cell_type": "markdown",
   "id": "a88067ea",
   "metadata": {},
   "source": [
    "# Functions\n",
    "Le funzioni sono pezzi di codice richiamabili quando si vuole e possono avere un valore di ritono o meno. Per crearla basta mettere def nome_funzione e le tonde in cui si possono mettere dei paramentri in ingresso della funzione ma possono anche non averli, poi bisogna mettere i due punti e scrivere ció che serve. Per richiamarli basta mettere il nome delle funzioni e i parametri."
   ]
  },
  {
   "cell_type": "code",
   "execution_count": 1,
   "id": "fb287161",
   "metadata": {},
   "outputs": [
    {
     "name": "stdout",
     "output_type": "stream",
     "text": [
      "Ciao\n",
      "io sono: Marco\n",
      "Ciao\n",
      "io sono: Giulio\n"
     ]
    }
   ],
   "source": [
    "def presentazione(nome):\n",
    "    print(\"Ciao\")\n",
    "    print(\"io sono: \" + nome)\n",
    "\n",
    "presentazione(\"Marco\")\n",
    "presentazione(\"Giulio\")"
   ]
  }
 ],
 "metadata": {
  "kernelspec": {
   "display_name": "env_learning",
   "language": "python",
   "name": "python3"
  },
  "language_info": {
   "codemirror_mode": {
    "name": "ipython",
    "version": 3
   },
   "file_extension": ".py",
   "mimetype": "text/x-python",
   "name": "python",
   "nbconvert_exporter": "python",
   "pygments_lexer": "ipython3",
   "version": "3.10.12"
  }
 },
 "nbformat": 4,
 "nbformat_minor": 5
}
