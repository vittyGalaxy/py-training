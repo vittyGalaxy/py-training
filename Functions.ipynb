{
 "cells": [
  {
   "cell_type": "markdown",
   "id": "a88067ea",
   "metadata": {},
   "source": [
    "# Functions\n",
    "Le funzioni sono pezzi di codice richiamabili quando si vuole e possono avere un valore di ritono o meno. Per crearla basta mettere def nome_funzione e le tonde in cui si possono mettere dei paramentri in ingresso della funzione ma possono anche non averli, poi bisogna mettere i due punti e scrivere ció che serve. Per richiamarli basta mettere il nome delle funzioni e i parametri."
   ]
  },
  {
   "cell_type": "code",
   "execution_count": 1,
   "id": "fb287161",
   "metadata": {},
   "outputs": [
    {
     "name": "stdout",
     "output_type": "stream",
     "text": [
      "Ciao\n",
      "io sono: Marco\n",
      "Ciao\n",
      "io sono: Giulio\n"
     ]
    }
   ],
   "source": [
    "def presentazione(nome):\n",
    "    print(\"Ciao\")\n",
    "    print(\"io sono: \" + nome)\n",
    "\n",
    "presentazione(\"Marco\")\n",
    "presentazione(\"Giulio\")"
   ]
  },
  {
   "cell_type": "markdown",
   "id": "8a1397f8",
   "metadata": {},
   "source": [
    "# Functions 2\n"
   ]
  },
  {
   "cell_type": "code",
   "execution_count": 3,
   "id": "f022b4dc",
   "metadata": {},
   "outputs": [
    {
     "name": "stdout",
     "output_type": "stream",
     "text": [
      "12\n",
      "3\n"
     ]
    }
   ],
   "source": [
    "def somma (n1, n2):\n",
    "    print(n1 + n2)\n",
    "\n",
    "somma(3, 9)\n",
    "\n",
    "def sottrazione(n1, n2=5): # Keyword argument cioé che un parametro\n",
    "    print(n1 - n2)         # é gia stato messo\n",
    "\n",
    "sottrazione(8)"
   ]
  },
  {
   "cell_type": "markdown",
   "id": "8363cf25",
   "metadata": {},
   "source": [
    "# None\n",
    "Il none é l'assenza di valore.\n"
   ]
  },
  {
   "cell_type": "code",
   "execution_count": null,
   "id": "cf66bf1e",
   "metadata": {},
   "outputs": [
    {
     "name": "stdout",
     "output_type": "stream",
     "text": [
      "ciao\n",
      "ciao\n",
      "None\n"
     ]
    }
   ],
   "source": [
    "def stampa():\n",
    "    print(\"ciao\")\n",
    "\n",
    "stampa()\n",
    "v = stampa() # la variabile v non ottiene valore quindi stamperá none\n",
    "print(v)"
   ]
  },
  {
   "cell_type": "markdown",
   "id": "376c58e3",
   "metadata": {},
   "source": [
    "# Return\n",
    "Il return serve a fare ritornare un valore dalla funzione. Quando ritornerá uno o piú valori uscirá dalla funzione.\n"
   ]
  },
  {
   "cell_type": "code",
   "execution_count": 10,
   "id": "69510609",
   "metadata": {},
   "outputs": [
    {
     "name": "stdout",
     "output_type": "stream",
     "text": [
      "6\n",
      "5\n",
      "(4, 9)\n",
      "4\n",
      "9\n",
      "2\n"
     ]
    }
   ],
   "source": [
    "def moltiplicazione(n1, n2):\n",
    "    return n1 * n2          # Si puó ritornare un calcolo\n",
    "\n",
    "print(moltiplicazione(3, 2))\n",
    "#---------------------------------------------------------------\n",
    "def somma(n1, n2):\n",
    "    x = n1 + n2 # Ritorna direttamente il valore dalla variabile\n",
    "    return x    # creata in questa funzione\n",
    "\n",
    "print(somma(2, 3))\n",
    "#---------------------------------------------------------------\n",
    "def restituire(n1, n2):\n",
    "    x = n1 ** 2\n",
    "    y = n2 ** 2\n",
    "    return x,y # Ritorna 2 valori\n",
    "\n",
    "print(restituire(2, 3))\n",
    "\n",
    "numero1, numero2 = restituire(2, 3) # Assegno 2 variabili nello\n",
    "print(numero1)                      # stesso rigo dal return di\n",
    "print(numero2)                      # una funzione\n",
    "#---------------------------------------------------------------\n",
    "a = 3\n",
    "def sottrazione(n):\n",
    "    s = n - a # La fu nzione puó usare variabili globali\n",
    "    return s\n",
    "\n",
    "print(sottrazione(5))"
   ]
  },
  {
   "cell_type": "markdown",
   "id": "9ce67c85",
   "metadata": {},
   "source": [
    "# Useful functions\n",
    "Nell'esempio di sotto troviamo le funzioni utili.\n"
   ]
  },
  {
   "cell_type": "code",
   "execution_count": 6,
   "id": "bd880a81",
   "metadata": {},
   "outputs": [
    {
     "name": "stdout",
     "output_type": "stream",
     "text": [
      "Anna, Giulio, Marco\n",
      "Hello Saro!\n",
      "hello wolrd\n",
      "HELLO WORLD\n",
      "['Hello', 'World']\n",
      "0\n",
      "10\n",
      "50\n",
      "46\n",
      "35\n",
      "34.57\n"
     ]
    }
   ],
   "source": [
    "lista = [\"Anna\", \"Giulio\", \"Marco\"]\n",
    "print(\", \".join(lista)) # In questo print mete ad ogni elemento la virgola\n",
    "\n",
    "print(\"Hello World!\".replace(\"World\", \"Saro\")) # Rimpiazza la parola scelta con la parola scritta dopo\n",
    "\n",
    "print(\"HELLO WOLRD\".lower()) # Mette le parole in minuscolo\n",
    "\n",
    "print(\"hello world\".upper()) # Mette le parole in maiuscolo\n",
    "\n",
    "print(\"Hello, World\".split(\", \")) # divide la stringa dalla parte che si mette nei parametri\n",
    "\n",
    "print(min(1, 2, 3, 0, 10)) # Trova il numero minore\n",
    "print(max(1, 2, 3, 0, 10)) # Trova il numero maggiore\n",
    "\n",
    "print(abs(-50)) # L'assoluto toglie il segno\n",
    "\n",
    "print(sum([1, 34, 3, 8])) # Somma i numeri\n",
    "\n",
    "print(round(34.5678)) # Arrotonda il numero\n",
    "print(round(34.5678, 2)) # Arrotonda il numero anche con quanti decimali"
   ]
  },
  {
   "cell_type": "markdown",
   "id": "9ef587ac",
   "metadata": {},
   "source": [
    "# Recursion\n",
    "Una funzione per terminare il suo compito richiama se stessa, come un fattoriale di un numero.\n"
   ]
  },
  {
   "cell_type": "code",
   "execution_count": 8,
   "id": "27a4ac17",
   "metadata": {},
   "outputs": [
    {
     "name": "stdout",
     "output_type": "stream",
     "text": [
      "120\n"
     ]
    }
   ],
   "source": [
    "def fattoriale(x):\n",
    "    if x == 1:\n",
    "        return 1\n",
    "    else:\n",
    "        return x * fattoriale(x - 1)\n",
    "\n",
    "print(fattoriale(5)) # 5! = 5 * 4 * 3 * 2 * 1 = 120"
   ]
  }
 ],
 "metadata": {
  "kernelspec": {
   "display_name": "env_learning",
   "language": "python",
   "name": "python3"
  },
  "language_info": {
   "codemirror_mode": {
    "name": "ipython",
    "version": 3
   },
   "file_extension": ".py",
   "mimetype": "text/x-python",
   "name": "python",
   "nbconvert_exporter": "python",
   "pygments_lexer": "ipython3",
   "version": "3.10.12"
  }
 },
 "nbformat": 4,
 "nbformat_minor": 5
}
