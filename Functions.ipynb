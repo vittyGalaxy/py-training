{
 "cells": [
  {
   "cell_type": "markdown",
   "id": "a88067ea",
   "metadata": {},
   "source": [
    "# Functions\n",
    "Le funzioni sono pezzi di codice richiamabili quando si vuole e possono avere un valore di ritono o meno. Per crearla basta mettere def nome_funzione e le tonde in cui si possono mettere dei paramentri in ingresso della funzione ma possono anche non averli, poi bisogna mettere i due punti e scrivere ció che serve. Per richiamarli basta mettere il nome delle funzioni e i parametri."
   ]
  },
  {
   "cell_type": "code",
   "execution_count": 1,
   "id": "fb287161",
   "metadata": {},
   "outputs": [
    {
     "name": "stdout",
     "output_type": "stream",
     "text": [
      "Ciao\n",
      "io sono: Marco\n",
      "Ciao\n",
      "io sono: Giulio\n"
     ]
    }
   ],
   "source": [
    "def presentazione(nome):\n",
    "    print(\"Ciao\")\n",
    "    print(\"io sono: \" + nome)\n",
    "\n",
    "presentazione(\"Marco\")\n",
    "presentazione(\"Giulio\")"
   ]
  },
  {
   "cell_type": "markdown",
   "id": "8a1397f8",
   "metadata": {},
   "source": [
    "# Functions 2\n"
   ]
  },
  {
   "cell_type": "code",
   "execution_count": 3,
   "id": "f022b4dc",
   "metadata": {},
   "outputs": [
    {
     "name": "stdout",
     "output_type": "stream",
     "text": [
      "12\n",
      "3\n"
     ]
    }
   ],
   "source": [
    "def somma (n1, n2):\n",
    "    print(n1 + n2)\n",
    "\n",
    "somma(3, 9)\n",
    "\n",
    "def sottrazione(n1, n2=5): # Keyword argument cioé che un parametro\n",
    "    print(n1 - n2)         # é gia stato messo\n",
    "\n",
    "sottrazione(8)"
   ]
  }
 ],
 "metadata": {
  "kernelspec": {
   "display_name": "env_learning",
   "language": "python",
   "name": "python3"
  },
  "language_info": {
   "codemirror_mode": {
    "name": "ipython",
    "version": 3
   },
   "file_extension": ".py",
   "mimetype": "text/x-python",
   "name": "python",
   "nbconvert_exporter": "python",
   "pygments_lexer": "ipython3",
   "version": "3.10.12"
  }
 },
 "nbformat": 4,
 "nbformat_minor": 5
}
