{
 "cells": [
  {
   "cell_type": "markdown",
   "id": "b2a6dae8",
   "metadata": {},
   "source": [
    "# Getting Started with Numpy and Arrays"
   ]
  },
  {
   "cell_type": "code",
   "execution_count": 1,
   "id": "aab05f50",
   "metadata": {},
   "outputs": [
    {
     "name": "stdout",
     "output_type": "stream",
     "text": [
      "[1 2 3 4 5]\n"
     ]
    }
   ],
   "source": [
    "import numpy as np\n",
    "\n",
    "my_array = np.array([1, 2, 3, 4, 5])\n",
    "print(my_array)"
   ]
  },
  {
   "cell_type": "code",
   "execution_count": 2,
   "id": "9dac46f5",
   "metadata": {},
   "outputs": [
    {
     "name": "stdout",
     "output_type": "stream",
     "text": [
      "[1 2 3 4]\n"
     ]
    }
   ],
   "source": [
    "import numpy as np\n",
    "\n",
    "date = [1, 2, 3, 4]\n",
    "array = np.array(date)\n",
    "print(array)"
   ]
  },
  {
   "cell_type": "code",
   "execution_count": 3,
   "id": "28b5b1e2",
   "metadata": {},
   "outputs": [
    {
     "name": "stdout",
     "output_type": "stream",
     "text": [
      "[0. 0. 0. 0. 0.]\n",
      "[1. 1. 1. 1. 1.]\n"
     ]
    }
   ],
   "source": [
    "import numpy as np\n",
    "\n",
    "zeros_array = np.zeros(5)\n",
    "ones_array = np.ones(5)\n",
    "\n",
    "print(zeros_array)\n",
    "print(ones_array)"
   ]
  },
  {
   "cell_type": "code",
   "execution_count": 6,
   "id": "7a0aef06",
   "metadata": {},
   "outputs": [
    {
     "name": "stdout",
     "output_type": "stream",
     "text": [
      "Empty: [5.47683936e-310 0.00000000e+000 0.00000000e+000]\n",
      "Range: [0 1 2 3 4]\n"
     ]
    }
   ],
   "source": [
    "import numpy as np\n",
    "\n",
    "empty_array = np.empty(3)\n",
    "range_array = np.arange(5)\n",
    "\n",
    "print(\"Empty: \" + str(empty_array))\n",
    "print(\"Range: \" + str(range_array))"
   ]
  },
  {
   "cell_type": "code",
   "execution_count": 8,
   "id": "1423ea5a",
   "metadata": {},
   "outputs": [
    {
     "name": "stdout",
     "output_type": "stream",
     "text": [
      "[[1 2 3]\n",
      " [4 5 6]]\n"
     ]
    }
   ],
   "source": [
    "import numpy as np\n",
    "\n",
    "matrix = np.array([[1, 2, 3], [4, 5, 6]])\n",
    "print(matrix)"
   ]
  },
  {
   "cell_type": "markdown",
   "id": "9890c6d5",
   "metadata": {},
   "source": [
    "# Array Data Types and Attributes\n",
    "ndim: indica il numero di dimensioni dell'array.\n",
    "shape: una tupla che rappresenta la dimensione di ciascuna dimensione dell'array.\n",
    "size: il numero totale di elementi all'interno dell'array.\n",
    "dtype: il tipo di dati degli elementi dell'array.\n",
    "itemsize: la dimensione in byte di ciascun elemento dell'array."
   ]
  },
  {
   "cell_type": "code",
   "execution_count": 11,
   "id": "7701c7df",
   "metadata": {},
   "outputs": [
    {
     "name": "stdout",
     "output_type": "stream",
     "text": [
      "Array of integers: [1 2 3 4]\n",
      "Array of float: [1. 2. 3.]\n"
     ]
    }
   ],
   "source": [
    "import numpy as np\n",
    "\n",
    "int_array = np.array([1, 2, 3, 4], dtype=\"int32\")\n",
    "float_array = np.array([1.0, 2.0, 3.0], dtype=\"float64\")\n",
    "print(\"Array of integers: \" + str(int_array))\n",
    "print(\"Array of float: \" + str(float_array))"
   ]
  },
  {
   "cell_type": "code",
   "execution_count": null,
   "id": "cb7dc073",
   "metadata": {},
   "outputs": [
    {
     "name": "stdout",
     "output_type": "stream",
     "text": [
      "Number of sizes:  2\n",
      "Array shape:  (2, 3)\n",
      "Total array size:  6\n",
      "Tipo di dati dell'array:  int64\n",
      "Dimensione in byte degli elementi: 8 byte\n"
     ]
    }
   ],
   "source": [
    "import numpy as np\n",
    "\n",
    "date = np.array([[1, 2, 3], [4, 5, 6]], dtype=\"int64\")\n",
    "print(\"Number of sizes: \", date.ndim)\n",
    "print(\"Array shape: \", date.shape)\n",
    "print(\"Total array size: \", date.size)\n",
    "print(\"Tipo di dati dell'array: \", date.dtype)\n",
    "print(\"Size of elements in bytes: \", date.itemsize, \"byte\")"
   ]
  },
  {
   "cell_type": "markdown",
   "id": "31a1deb7",
   "metadata": {},
   "source": [
    "# Array Indexing and Slicing"
   ]
  },
  {
   "cell_type": "code",
   "execution_count": 13,
   "id": "4075b1b9",
   "metadata": {},
   "outputs": [
    {
     "name": "stdout",
     "output_type": "stream",
     "text": [
      "First element:  10\n",
      "Fourth element:  40\n"
     ]
    }
   ],
   "source": [
    "import numpy as np\n",
    "\n",
    "array = np.array([10, 20, 30, 40, 50])\n",
    "first_element = array[0]\n",
    "fourth_element = array[3]\n",
    "print(\"First element: \", first_element)\n",
    "print(\"Fourth element: \", fourth_element)"
   ]
  },
  {
   "cell_type": "code",
   "execution_count": 14,
   "id": "fcb21c72",
   "metadata": {},
   "outputs": [
    {
     "name": "stdout",
     "output_type": "stream",
     "text": [
      "Subsequence:  [20 30 40]\n"
     ]
    }
   ],
   "source": [
    "import numpy as np\n",
    "\n",
    "array = np.array([10, 20, 30, 40, 50])\n",
    "\n",
    "subsequence = array[1:4]\n",
    "print(\"Subsequence: \", subsequence)"
   ]
  },
  {
   "cell_type": "code",
   "execution_count": 15,
   "id": "53d3198e",
   "metadata": {},
   "outputs": [
    {
     "name": "stdout",
     "output_type": "stream",
     "text": [
      "First row:  [1 2 3]\n",
      "Second row:  [2 5 8]\n",
      "Sub_matrix:\n",
      " [[2 3]\n",
      " [5 6]]\n"
     ]
    }
   ],
   "source": [
    "import numpy as np\n",
    "\n",
    "matrix = np.array([[1, 2, 3], [4, 5, 6], [7, 8, 9]])\n",
    "first_row = matrix[0]\n",
    "second_row = matrix[:, 1]\n",
    "print(\"First row: \", first_row)\n",
    "print(\"Second row: \", second_row)\n",
    "\n",
    "sub_matrix = matrix[0:2, 1:3]\n",
    "print(\"Sub_matrix:\\n\", sub_matrix)"
   ]
  },
  {
   "cell_type": "code",
   "execution_count": 16,
   "id": "b9968b09",
   "metadata": {},
   "outputs": [
    {
     "name": "stdout",
     "output_type": "stream",
     "text": [
      "Matrix updated:\n",
      " [[ 1  2  3]\n",
      " [ 4  5  6]\n",
      " [ 7  8 99]]\n"
     ]
    }
   ],
   "source": [
    "import numpy as np\n",
    "\n",
    "matrix = np.array([[1, 2, 3], [4, 5, 6], [7, 8, 9]])\n",
    "\n",
    "matrix[2, 2] = 99\n",
    "print(\"Matrix updated:\\n\", matrix)"
   ]
  },
  {
   "cell_type": "markdown",
   "id": "dccb1424",
   "metadata": {},
   "source": [
    "# Basic operations"
   ]
  },
  {
   "cell_type": "code",
   "execution_count": 3,
   "id": "967bbc45",
   "metadata": {},
   "outputs": [
    {
     "name": "stdout",
     "output_type": "stream",
     "text": [
      "Sum: [11 22 33 44]\n",
      "Sub: [ -9 -18 -27 -36]\n",
      "Mul: [ 10  40  90 160]\n",
      "Div: [0.1 0.1 0.1 0.1]\n"
     ]
    }
   ],
   "source": [
    "import numpy as np\n",
    "\n",
    "a = np.array([1, 2, 3, 4])\n",
    "b = np.array([10, 20, 30, 40])\n",
    "\n",
    "sum = a + b\n",
    "sub = a - b\n",
    "mul = a * b\n",
    "div = a / b\n",
    "\n",
    "print(\"Sum: \" + str(sum))\n",
    "print(\"Sub: \" + str(sub))\n",
    "print(\"Mul: \" + str(mul))\n",
    "print(\"Div: \" + str(div))"
   ]
  },
  {
   "cell_type": "code",
   "execution_count": 4,
   "id": "1f922ab3",
   "metadata": {},
   "outputs": [
    {
     "name": "stdout",
     "output_type": "stream",
     "text": [
      "Square_roots: [1.         1.41421356 1.73205081 2.        ]\n",
      "Exponential: [ 2.71828183  7.3890561  20.08553692 54.59815003]\n"
     ]
    }
   ],
   "source": [
    "import numpy as np\n",
    "\n",
    "array = np.array([1, 2, 3, 4])\n",
    "\n",
    "square_roots = np.sqrt(array)\n",
    "exponential = np.exp(array)\n",
    "\n",
    "print(\"Square_roots: \" + str(square_roots))\n",
    "print(\"Exponential: \" + str(exponential))"
   ]
  },
  {
   "cell_type": "code",
   "execution_count": 6,
   "id": "952d8068",
   "metadata": {},
   "outputs": [
    {
     "name": "stdout",
     "output_type": "stream",
     "text": [
      "The result of broadcasting with a scalar:[11 12 13]\n",
      "The result of broadcasting with a matrix:[[2 3 4]\n",
      " [3 4 5]\n",
      " [4 5 6]]\n"
     ]
    }
   ],
   "source": [
    "import numpy as np\n",
    "\n",
    "c = np.array([1, 2, 3])\n",
    "d = 10\n",
    "risult = c + d\n",
    "print(\"The result of broadcasting with a scalar:\" + str(risult))\n",
    "\n",
    "x = np.array([1, 2, 3])\n",
    "y = np.array([[1], [2], [3]])\n",
    "risult_matrix = x + y\n",
    "print(\"The result of broadcasting with a matrix:\" + str(risult_matrix))"
   ]
  }
 ],
 "metadata": {
  "kernelspec": {
   "display_name": "env_learning",
   "language": "python",
   "name": "python3"
  },
  "language_info": {
   "codemirror_mode": {
    "name": "ipython",
    "version": 3
   },
   "file_extension": ".py",
   "mimetype": "text/x-python",
   "name": "python",
   "nbconvert_exporter": "python",
   "pygments_lexer": "ipython3",
   "version": "3.10.12"
  }
 },
 "nbformat": 4,
 "nbformat_minor": 5
}
