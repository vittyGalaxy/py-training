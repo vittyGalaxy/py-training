{
 "cells": [
  {
   "cell_type": "markdown",
   "id": "b2a6dae8",
   "metadata": {},
   "source": [
    "# Getting Started with Numpy and Arrays"
   ]
  },
  {
   "cell_type": "code",
   "execution_count": 1,
   "id": "aab05f50",
   "metadata": {},
   "outputs": [
    {
     "name": "stdout",
     "output_type": "stream",
     "text": [
      "[1 2 3 4 5]\n"
     ]
    }
   ],
   "source": [
    "import numpy as np\n",
    "\n",
    "my_array = np.array([1, 2, 3, 4, 5])\n",
    "print(my_array)"
   ]
  },
  {
   "cell_type": "code",
   "execution_count": 2,
   "id": "9dac46f5",
   "metadata": {},
   "outputs": [
    {
     "name": "stdout",
     "output_type": "stream",
     "text": [
      "[1 2 3 4]\n"
     ]
    }
   ],
   "source": [
    "import numpy as np\n",
    "\n",
    "date = [1, 2, 3, 4]\n",
    "array = np.array(date)\n",
    "print(array)"
   ]
  },
  {
   "cell_type": "code",
   "execution_count": 3,
   "id": "28b5b1e2",
   "metadata": {},
   "outputs": [
    {
     "name": "stdout",
     "output_type": "stream",
     "text": [
      "[0. 0. 0. 0. 0.]\n",
      "[1. 1. 1. 1. 1.]\n"
     ]
    }
   ],
   "source": [
    "import numpy as np\n",
    "\n",
    "zeros_array = np.zeros(5)\n",
    "ones_array = np.ones(5)\n",
    "\n",
    "print(zeros_array)\n",
    "print(ones_array)"
   ]
  },
  {
   "cell_type": "code",
   "execution_count": 6,
   "id": "7a0aef06",
   "metadata": {},
   "outputs": [
    {
     "name": "stdout",
     "output_type": "stream",
     "text": [
      "Empty: [5.47683936e-310 0.00000000e+000 0.00000000e+000]\n",
      "Range: [0 1 2 3 4]\n"
     ]
    }
   ],
   "source": [
    "import numpy as np\n",
    "\n",
    "empty_array = np.empty(3)\n",
    "range_array = np.arange(5)\n",
    "\n",
    "print(\"Empty: \" + str(empty_array))\n",
    "print(\"Range: \" + str(range_array))"
   ]
  },
  {
   "cell_type": "code",
   "execution_count": 8,
   "id": "1423ea5a",
   "metadata": {},
   "outputs": [
    {
     "name": "stdout",
     "output_type": "stream",
     "text": [
      "[[1 2 3]\n",
      " [4 5 6]]\n"
     ]
    }
   ],
   "source": [
    "import numpy as np\n",
    "\n",
    "matrix = np.array([[1, 2, 3], [4, 5, 6]])\n",
    "print(matrix)"
   ]
  },
  {
   "cell_type": "markdown",
   "id": "9890c6d5",
   "metadata": {},
   "source": [
    "# Array Data Types and Attributes\n",
    "ndim: indica il numero di dimensioni dell'array.\n",
    "shape: una tupla che rappresenta la dimensione di ciascuna dimensione dell'array.\n",
    "size: il numero totale di elementi all'interno dell'array.\n",
    "dtype: il tipo di dati degli elementi dell'array.\n",
    "itemsize: la dimensione in byte di ciascun elemento dell'array."
   ]
  },
  {
   "cell_type": "code",
   "execution_count": 11,
   "id": "7701c7df",
   "metadata": {},
   "outputs": [
    {
     "name": "stdout",
     "output_type": "stream",
     "text": [
      "Array of integers: [1 2 3 4]\n",
      "Array of float: [1. 2. 3.]\n"
     ]
    }
   ],
   "source": [
    "import numpy as np\n",
    "\n",
    "int_array = np.array([1, 2, 3, 4], dtype=\"int32\")\n",
    "float_array = np.array([1.0, 2.0, 3.0], dtype=\"float64\")\n",
    "print(\"Array of integers: \" + str(int_array))\n",
    "print(\"Array of float: \" + str(float_array))"
   ]
  },
  {
   "cell_type": "code",
   "execution_count": 12,
   "id": "cb7dc073",
   "metadata": {},
   "outputs": [
    {
     "name": "stdout",
     "output_type": "stream",
     "text": [
      "Number of sizes:  2\n",
      "Array shape:  (2, 3)\n",
      "Total array size:  6\n",
      "Tipo di dati dell'array:  int64\n",
      "Dimensione in byte degli elementi: 8 byte\n"
     ]
    }
   ],
   "source": [
    "import numpy as np\n",
    "\n",
    "date = np.array([[1, 2, 3], [4, 5, 6]], dtype=\"int64\")\n",
    "print(\"Number of sizes: \", date.ndim)\n",
    "print(\"Array shape: \", date.shape)\n",
    "print(\"Total array size: \", date.size)\n",
    "print(\"Tipo di dati dell'array: \", date.dtype)\n",
    "print(\"Dimensione in byte degli elementi:\", date.itemsize, \"byte\")"
   ]
  }
 ],
 "metadata": {
  "kernelspec": {
   "display_name": "env_learning",
   "language": "python",
   "name": "python3"
  },
  "language_info": {
   "codemirror_mode": {
    "name": "ipython",
    "version": 3
   },
   "file_extension": ".py",
   "mimetype": "text/x-python",
   "name": "python",
   "nbconvert_exporter": "python",
   "pygments_lexer": "ipython3",
   "version": "3.10.12"
  }
 },
 "nbformat": 4,
 "nbformat_minor": 5
}
