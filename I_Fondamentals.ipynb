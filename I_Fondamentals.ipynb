{
 "cells": [
  {
   "cell_type": "markdown",
   "id": "8855e390",
   "metadata": {},
   "source": [
    "# Introduzione\n",
    "Quello che possiamo vedere qui sotto é un codice python molto banale ma é solo per introdurre l'inizio di questo linguaggio. Piano piano vedremo cosa faranno ogni riga di codice, tipo una funzione, variabili etc..."
   ]
  },
  {
   "cell_type": "code",
   "execution_count": null,
   "id": "d26a0f22",
   "metadata": {},
   "outputs": [
    {
     "name": "stdout",
     "output_type": "stream",
     "text": [
      "0.0\n",
      "2.0\n"
     ]
    }
   ],
   "source": [
    "# Gli # servono per mettere i commenti nei codici e il computer\n",
    "# non lo conterá\n",
    "\n",
    "def my_q(num, den, rec=False, neg=False):\n",
    "    if rec:\n",
    "        if neg:\n",
    "            return print(den / -num)\n",
    "        else:\n",
    "            return print(den / num)\n",
    "    else:\n",
    "        return print(num / den)\n",
    "\n",
    "my_q(20.0, 0.0, rec = True)\n",
    "my_q(4.0, 2.0, rec = False, neg = True)"
   ]
  },
  {
   "cell_type": "markdown",
   "id": "b46d2583",
   "metadata": {},
   "source": [
    "# Stampa\n",
    "Per far vedere all'utente o magari al programmatore stesso un valore di una variabile o un output in python si mette la scritta \"print()\" dove dentro le tonde si mettono le virgolette per scrivere un messaggio in output oppure si mette la variabile ci stampa il valore della variabile, se volete mettere in output sia un messaggio o un operazione o una variabile basterá mettere un \"+\" per concatenare le cose. Il print se ha un messaggio tutte le concatenazioni devono essere stringhe quindi se la variabile é intera si casta con str."
   ]
  },
  {
   "cell_type": "code",
   "execution_count": 9,
   "id": "080fca67",
   "metadata": {},
   "outputs": [
    {
     "name": "stdout",
     "output_type": "stream",
     "text": [
      "Hello World!\n",
      "5\n",
      "valore di a: 5\n",
      "somma: 7\n"
     ]
    }
   ],
   "source": [
    "print(\"Hello World!\")       # stampa messaggio\n",
    "a = 5                       # Assegnazione 5 alla variabile a\n",
    "print(a)                    # Stampa il valore della variabile a\n",
    "print(\"valore di a: \" + str(a)) # Messagio concatenato al valore di a\n",
    "\n",
    "b = 2                       # Assegnazione 2 alla variabile b\n",
    "print(\"somma: \" + str(a + b))  # Messaggio concatenato ad una operazione"
   ]
  },
  {
   "cell_type": "markdown",
   "id": "fbe06d3a",
   "metadata": {},
   "source": [
    "# Variabili\n",
    "Le variabili possiamo vederle come delle scatole con dentro dei valori richiamabili con un nome scelto dal programmatore. Possiamo meterle in input con \"variabile = input()\" e l'utente puó inserire il valore che desidera, dentro le tonde si puó mettere un messaggio che verrá visualizzato prima che l'input venga messo. La variabile puó essere assegnato un valore anche senza input."
   ]
  },
  {
   "cell_type": "code",
   "execution_count": 13,
   "id": "113db839",
   "metadata": {},
   "outputs": [
    {
     "name": "stdout",
     "output_type": "stream",
     "text": [
      "a: 5\n",
      "b: 4\n",
      "c: 3\n"
     ]
    }
   ],
   "source": [
    "a = 5 # variabile a assegnato il valore 5\n",
    "print(\"a: \" + str(a))\n",
    "\n",
    "b = input(\"Inserisci numero: \") # b messo in input con un messaggio prima\n",
    "print(\"b: \" + str(b))\n",
    "\n",
    "c = input() # c messo in input senza messaggio\n",
    "print(\"c: \" + str(c))"
   ]
  },
  {
   "cell_type": "markdown",
   "id": "8059ce19",
   "metadata": {},
   "source": [
    "# Operatori\n",
    "Gli operatori servono per: sommare, sottrarre, moltiplicare e dividere o qualsiasi altra cosa che interagiscono con numeri stringhe e variabili. Altri tipi di operatori: >, <, >=, <=, ==, !=, and, or, not."
   ]
  },
  {
   "cell_type": "code",
   "execution_count": 6,
   "id": "114c66ff",
   "metadata": {},
   "outputs": [
    {
     "name": "stdout",
     "output_type": "stream",
     "text": [
      "c: 15\n",
      "c: -5\n",
      "c: 50\n",
      "c: 0.5\n",
      "c: 5\n",
      "c: False\n",
      "c: True\n",
      "c: False\n",
      "c: True\n",
      "c: False\n",
      "c: True\n",
      "c: False\n",
      "c: True\n",
      "c: False\n",
      "c: True\n",
      "True\n",
      "True\n"
     ]
    }
   ],
   "source": [
    "a = 5\n",
    "b = 10\n",
    "\n",
    "c = a + b # Somma gli elementi\n",
    "print(\"c: \" + str(c))\n",
    "\n",
    "c = a - b # Sottrae gli elementi\n",
    "print(\"c: \" + str(c))\n",
    "\n",
    "c = a * b # Moltiplica gli elementi\n",
    "print(\"c: \" + str(c))\n",
    "\n",
    "c = a / b # Divide gli elementi\n",
    "print(\"c: \" + str(c))\n",
    "\n",
    "c = a % b # Ricava il resto dalla divisione a / b\n",
    "print(\"c: \" + str(c))\n",
    "\n",
    "c = a > b # a é maggiore di b\n",
    "print(\"c: \" + str(c))\n",
    "\n",
    "c = a < b # a é minore di b\n",
    "print(\"c: \" + str(c))\n",
    "\n",
    "c = a >= b # a é maggiore uguale di b\n",
    "print(\"c: \" + str(c))\n",
    "\n",
    "c = a <= b # a é minore uguale di b\n",
    "print(\"c: \" + str(c))\n",
    "\n",
    "c = a == b # a é uguale a b\n",
    "print(\"c: \" + str(c))\n",
    "\n",
    "c = a != b # a é diverso di b\n",
    "print(\"c: \" + str(c))\n",
    "\n",
    "c = (a > b) and (b == 10) # a é maggiore di b E b é uguale a 10\n",
    "print(\"c: \" + str(c))\n",
    "\n",
    "c = (a > b) or (b == 10) # a é maggiore di b O b é uguale a 10\n",
    "print(\"c: \" + str(c))\n",
    "\n",
    "c = not(a < b)  # a non é minore di b\n",
    "print(\"c: \" + str(c))\n",
    "\n",
    "c = not(a > b) # a non é maggiore di b\n",
    "print(\"c: \" + str(c))\n",
    "\n",
    "a = \"Hello\"\n",
    "print(\"e\" in a) # La lettera e é in a\n",
    "\n",
    "a = 5\n",
    "b = 5\n",
    "print(a is b) # a ha lo stesso valore di b"
   ]
  }
 ],
 "metadata": {
  "kernelspec": {
   "display_name": "env_learning",
   "language": "python",
   "name": "python3"
  },
  "language_info": {
   "codemirror_mode": {
    "name": "ipython",
    "version": 3
   },
   "file_extension": ".py",
   "mimetype": "text/x-python",
   "name": "python",
   "nbconvert_exporter": "python",
   "pygments_lexer": "ipython3",
   "version": "3.10.12"
  }
 },
 "nbformat": 4,
 "nbformat_minor": 5
}
