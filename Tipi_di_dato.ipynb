{
 "cells": [
  {
   "cell_type": "markdown",
   "id": "cc10020c",
   "metadata": {},
   "source": [
    "# Dati numerici\n",
    "I dati numerici possono essere Interi, decimali e complessi che nel codice si scrivono int, float, complex. Vedremo anche come fare l'elevazione di un numero."
   ]
  },
  {
   "cell_type": "code",
   "execution_count": 2,
   "id": "d9826ad3",
   "metadata": {},
   "outputs": [
    {
     "name": "stdout",
     "output_type": "stream",
     "text": [
      "<class 'float'>\n",
      "6\n",
      "25\n",
      "244140625\n",
      "2.0\n"
     ]
    }
   ],
   "source": [
    "a = 5   # intero\n",
    "b = 6.0 # float\n",
    "\n",
    "print(type(b))\n",
    "\n",
    "b = int(b)\n",
    "print(b)\n",
    "\n",
    "a = a ** 2 # Gli ** dicono praticamente a elevato a 2\n",
    "print(a)\n",
    "\n",
    "a = a ** b\n",
    "print(a)\n",
    "\n",
    "a = 4\n",
    "a = a ** 0.5 # Se si eleva un numero intero con un numero decimale\n",
    "print(a)     # il numero sará decimale"
   ]
  },
  {
   "cell_type": "markdown",
   "id": "b66d7770",
   "metadata": {},
   "source": [
    "# Stringhe\n",
    "Le strinche sono delle frasi o parole assegnabili a una variabile."
   ]
  },
  {
   "cell_type": "code",
   "execution_count": null,
   "id": "d95de2fe",
   "metadata": {},
   "outputs": [
    {
     "name": "stdout",
     "output_type": "stream",
     "text": [
      "ciaocome stai\n",
      "ciaocome stai5\n",
      "c\n",
      "ciao \"io\" sono\n",
      "una persona\n"
     ]
    }
   ],
   "source": [
    "a = \"ciao\"\n",
    "b = \"come stai\"  # Stringhe\n",
    "\n",
    "print(a + b) # Somma di stringhe\n",
    "\n",
    "c = str(5) # Castato un numero in stringa\n",
    "\n",
    "print(a + b + c) # Concatenazione stringhe\n",
    "\n",
    "d = a[:1]\n",
    "print(d)\n",
    "\n",
    "a = \"\"\"ciao \"io\" sono\n",
    "una persona\"\"\"\n",
    "print(a)"
   ]
  },
  {
   "cell_type": "markdown",
   "id": "f48a1c6c",
   "metadata": {},
   "source": [
    "# Boolean\n",
    "Il tipo booleano ha 2 valori che sono True e False (True: 1, False:0), qunado si mette in confronto con l'altro con and per essere True devono avere entrambi un True se uo ha un False il risultato sará un False, con or invece basta un True e il risultato sará un False."
   ]
  },
  {
   "cell_type": "code",
   "execution_count": 9,
   "id": "aa9b4d7d",
   "metadata": {},
   "outputs": [
    {
     "name": "stdout",
     "output_type": "stream",
     "text": [
      "a and b:False\n",
      "b and a:False\n",
      "a or b:False\n",
      "b or a:False\n",
      "a and b:True\n",
      "b and a:True\n",
      "a or b:True\n",
      "b or a:True\n",
      "a and b:False\n",
      "b and a:False\n",
      "a or b:True\n",
      "b or a:True\n",
      "a and b:False\n",
      "b and a:False\n",
      "a or b:True\n",
      "b or a:True\n"
     ]
    }
   ],
   "source": [
    "a = False\n",
    "b = False\n",
    "print (\"a and b:\" + str(a and b))\n",
    "print (\"b and a:\" + str(b and a))\n",
    "print (\"a or b:\" + str(a or b))\n",
    "print (\"b or a:\" + str(b or a))\n",
    "\n",
    "a = True\n",
    "b = True\n",
    "print (\"a and b:\" + str(a and b))\n",
    "print (\"b and a:\" + str(b and a))\n",
    "print (\"a or b:\" + str(a or b))\n",
    "print (\"b or a:\" + str(b or a))\n",
    "\n",
    "a = False\n",
    "print (\"a and b:\" + str(a and b))\n",
    "print (\"b and a:\" + str(b and a))\n",
    "print (\"a or b:\" + str(a or b))\n",
    "print (\"b or a:\" + str(b or a))\n",
    "\n",
    "a = True\n",
    "b = False\n",
    "print (\"a and b:\" + str(a and b))\n",
    "print (\"b and a:\" + str(b and a))\n",
    "print (\"a or b:\" + str(a or b))\n",
    "print (\"b or a:\" + str(b or a))\n",
    "\n"
   ]
  },
  {
   "cell_type": "markdown",
   "id": "70ee962a",
   "metadata": {},
   "source": [
    "# List\n",
    "La lista é un insieme di elementi, ha un indice che va da 0 a n-1. Si possono mettere quanti tipi si vogliono. Una lista si crea con nome_lista = [] dentro le quadre si possono mettere gli elementi. Con un semplice print si stampano tutti gli elementi, o se vuoi stampare un elemento preciso basta che metti l'indice o un valore che cerchi, come nel seguente codice."
   ]
  },
  {
   "cell_type": "code",
   "execution_count": 11,
   "id": "9d968373",
   "metadata": {},
   "outputs": [
    {
     "name": "stdout",
     "output_type": "stream",
     "text": [
      "[5, 6, 7, 8]\n",
      "[4, 6, 7, 8]\n",
      "True\n",
      "False\n",
      "[4, 6, 7, 8, 9, 10]\n",
      "[9, 10, 9, 10]\n"
     ]
    }
   ],
   "source": [
    "lista = [5, 6, 7, 8] # Lista creata con 4 elementi da 0 a 3\n",
    "print(lista) # Stampa tutti gli elementi\n",
    "\n",
    "lista[0] = 4 # Nella cella 0 inserisci 4 al posto del valore\n",
    "print(lista)\n",
    "print(6 in lista) # Cerca se il valore 6 é nella lista\n",
    "print(3 in lista) # Cerca se il valore 3 é nella lista\n",
    "\n",
    "lista2 = [9, 10]\n",
    "print(lista + lista2) # La somma unisce le due liste\n",
    "\n",
    "print(lista2 * 2) # Stampa la lista 2 volte\n",
    "\n"
   ]
  },
  {
   "cell_type": "markdown",
   "id": "e89e36bb",
   "metadata": {},
   "source": [
    "# Tuple\n",
    "La tupla fa la stessa cosa della lista ma NON é modificabile."
   ]
  },
  {
   "cell_type": "code",
   "execution_count": null,
   "id": "5bd5b6e5",
   "metadata": {},
   "outputs": [
    {
     "name": "stdout",
     "output_type": "stream",
     "text": [
      "(5, 6, 7, 8)\n"
     ]
    }
   ],
   "source": [
    "lista = (5, 6, 7, 8)\n",
    "\n",
    "print(lista)\n",
    "\n",
    "# Se facessi lista[0] = 2 darebbe ERRORE perché non é modificabile"
   ]
  },
  {
   "cell_type": "markdown",
   "id": "5644b896",
   "metadata": {},
   "source": [
    "# List function\n",
    "Per le liste ci sono delle funzioni che servono ad aggiungere, modificare o anche eliminare elementi."
   ]
  },
  {
   "cell_type": "code",
   "execution_count": null,
   "id": "d1420ca2",
   "metadata": {},
   "outputs": [
    {
     "name": "stdout",
     "output_type": "stream",
     "text": [
      "[1, 2, 3, 4, 5]\n",
      "[1, 2, 3, 4, 5, 6]\n",
      "[7, 1, 2, 3, 4, 5, 6]\n",
      "7\n",
      "3\n",
      "0\n",
      "[1, 2, 3, 4, 5, 6, 7]\n",
      "[7, 6, 5, 4, 3, 2, 1]\n",
      "[7, 6, 5, 4, 3, 1]\n",
      "[5, 4, 3, 1]\n",
      "[1]\n",
      "[5]\n"
     ]
    }
   ],
   "source": [
    "lista = [1, 2, 3, 4, 5]\n",
    "print(lista)\n",
    "\n",
    "lista.append(6) # Aggiunge un nuovo elemento con valore 6\n",
    "print(lista)\n",
    "\n",
    "lista.insert(0, 7) # Nell'elemento 0 aggiungo il valore 7\n",
    "print(lista)       # e gli altri davanti slittano di 1\n",
    "\n",
    "print(len(lista)) # Tira fuori il numero di elementi della lista\n",
    "\n",
    "print(lista.index(3)) # Cerca e tira fuori l'elemento che contiene\n",
    "print(lista.index(7)) # il valore 3\n",
    "\n",
    "lista.sort() # Ordina la lista\n",
    "print(lista)\n",
    "\n",
    "lista.reverse() # Inverte l'ordine della lista\n",
    "print(lista)\n",
    "\n",
    "lista.remove(2) # Rimuove nella lista il valore 2\n",
    "print(lista)\n",
    "\n",
    "# del sta per delete\n",
    "del lista[0:2] # Cancella gli elementi da 0 fino a 2\n",
    "print(lista)\n",
    "\n",
    "del lista[:3] # Per ottenere in questo caso l'ultimo elemento\n",
    "print(lista)\n",
    "\n",
    "lista = [5, 4, 3, 2, 1]\n",
    "del lista[1:] # Per ottenere in questo caso il primo elemento\n",
    "print(lista)"
   ]
  },
  {
   "cell_type": "markdown",
   "id": "1f80f42c",
   "metadata": {},
   "source": [
    "# In-depth analysis lists\n",
    "Questo é l'approfondimento sulle liste."
   ]
  },
  {
   "cell_type": "code",
   "execution_count": null,
   "id": "ce4e647c",
   "metadata": {},
   "outputs": [
    {
     "name": "stdout",
     "output_type": "stream",
     "text": [
      "[['Hello', 18], ['World', 20]]\n",
      "[('Hello', 18), ('World', 20)]\n",
      "['Hello', 'World', 18, 20]\n",
      "['Hello', 'World', 4]\n",
      "range(0, 10)\n",
      "[0, 1, 2, 3, 4, 5, 6, 7, 8, 9]\n",
      "range(2, 10)\n",
      "[2, 3, 4, 5, 6, 7, 8, 9]\n",
      "range(2, 10, 2)\n",
      "[2, 4, 6, 8]\n"
     ]
    }
   ],
   "source": [
    "lista = [[\"Hello\", 18], [\"World\", 20]] # Questa é una\n",
    "print(lista)                           # lista di lista\n",
    "\n",
    "lista = [\"Hello\", \"World\"]\n",
    "lista2 = [18, 20]\n",
    "\n",
    "unione = zip(lista, lista2) # Unisce passo passo le liste\n",
    "print(list(unione)) # Castato in lista e tira fuori una lista di TUPLE\n",
    "\n",
    "unione = lista + lista2 # Una semplice unione di liste\n",
    "print(unione)\n",
    "\n",
    "# Per aggiungere un elemento nella lista non si puó mettere tipo 5\n",
    "# ma bisogna fare:\n",
    "unione = lista + [4] # Aggiunge un elemento con valore 4\n",
    "print(unione)\n",
    "\n",
    "num = range(10) # Crea un range da 0 a 10 (da 0 a 9 conta pure lo 0)\n",
    "print(num) # Dirá é un range da 0 a 10\n",
    "print(list(num)) # Fará una lista da 0 a 9\n",
    "\n",
    "num = range(2, 10)\n",
    "print(num)\n",
    "print(list(num))\n",
    "\n",
    "num = range(2, 10, 2) # Dice praticamente un range da 2 a 10 a\n",
    "print(num)            # multipli di 2 (gli elementi NON valori)\n",
    "print(list(num))"
   ]
  },
  {
   "cell_type": "markdown",
   "id": "1a61b01e",
   "metadata": {},
   "source": [
    "# In-depth analysis tuple\n",
    "Questo é l'approfondimento sulle tuple."
   ]
  },
  {
   "cell_type": "code",
   "execution_count": 38,
   "id": "099055dd",
   "metadata": {},
   "outputs": [
    {
     "name": "stdout",
     "output_type": "stream",
     "text": [
      "<class 'int'>\n",
      "<class 'tuple'>\n",
      "5\n",
      "6\n",
      "7\n"
     ]
    }
   ],
   "source": [
    "t = (5)\n",
    "print(type(t)) # In output uscirá che é un intero\n",
    "\n",
    "t = (5,)\n",
    "print(type(t)) # Se mettiamo la virgola uscirá che é una tupla\n",
    "\n",
    "tupla = (5, 6, 7)\n",
    "(primo, secondo, terzo) = tupla # Si puó fare piú assegnazioni nella\n",
    "print(primo)                    # stessa riga\n",
    "print(secondo)\n",
    "print(terzo)"
   ]
  },
  {
   "cell_type": "markdown",
   "id": "e67a6e20",
   "metadata": {},
   "source": [
    "# Dictionary\n",
    "Il Dictionary é tipo una lista ma con delle \"key\" dove ognuna di loro chiama un valore. Inizano e terminano con le graffe, tra key e valori si metono i due punti, gli elementi vengono separati da una virgola, le key possono essere numeri e stringhe ma non liste, invece i valori possono essere liste."
   ]
  },
  {
   "cell_type": "code",
   "execution_count": 42,
   "id": "17ca4a9c",
   "metadata": {},
   "outputs": [
    {
     "name": "stdout",
     "output_type": "stream",
     "text": [
      "{'a': 1, 'b': 2, 'c': 3}\n",
      "1\n",
      "2\n",
      "3\n"
     ]
    }
   ],
   "source": [
    "dictionary = {\"a\": 1, \"b\": 2, \"c\": 3} # Creato una dictionary\n",
    "\n",
    "print(dictionary)\n",
    "print(dictionary[\"a\"]) # Ho chiamato il nome della chiave\n",
    "print(dictionary[\"b\"]) # in output dovrebbe uscire il valore\n",
    "print(dictionary[\"c\"]) # della chiave che abbiamo dato\n",
    "\n",
    "# Se mettiamo il nome della chiave una lista uscirá un errore\n",
    "# Uscirá errore lo stesso quando chiami una chiave che non esiste"
   ]
  }
 ],
 "metadata": {
  "kernelspec": {
   "display_name": "env_learning",
   "language": "python",
   "name": "python3"
  },
  "language_info": {
   "codemirror_mode": {
    "name": "ipython",
    "version": 3
   },
   "file_extension": ".py",
   "mimetype": "text/x-python",
   "name": "python",
   "nbconvert_exporter": "python",
   "pygments_lexer": "ipython3",
   "version": "3.10.12"
  }
 },
 "nbformat": 4,
 "nbformat_minor": 5
}
