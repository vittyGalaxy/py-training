{
 "cells": [
  {
   "cell_type": "markdown",
   "id": "fbf66f03",
   "metadata": {},
   "source": [
    "# File management"
   ]
  },
  {
   "cell_type": "code",
   "execution_count": 7,
   "id": "878e27dc",
   "metadata": {},
   "outputs": [
    {
     "name": "stdout",
     "output_type": "stream",
     "text": [
      "\n"
     ]
    }
   ],
   "source": [
    "f = open(\"foo.txt\", \"r\") # Mettere nome file e mettere r per read e w per write\n",
    "content = f.read() # Legge dentro il file\n",
    "print(content)\n",
    "f.close() # File chiuso"
   ]
  },
  {
   "cell_type": "code",
   "execution_count": 9,
   "id": "03d63566",
   "metadata": {},
   "outputs": [
    {
     "name": "stdout",
     "output_type": "stream",
     "text": [
      "Hello World!\n"
     ]
    }
   ],
   "source": [
    "f = open(\"foo.txt\", \"w\") \n",
    "f.write(\"Hello World!\") # scrive dentro il file\n",
    "f.close() # File chiuso\\\n",
    "\n",
    "f = open(\"foo.txt\", \"r\")\n",
    "content = f.read()\n",
    "print(content)\n",
    "f.close() # File chiuso"
   ]
  },
  {
   "cell_type": "code",
   "execution_count": 10,
   "id": "81567754",
   "metadata": {},
   "outputs": [
    {
     "name": "stdout",
     "output_type": "stream",
     "text": [
      "Hello World!\n"
     ]
    }
   ],
   "source": [
    "with open(\"foo.txt\") as name_file:\n",
    "    content = name_file.read()\n",
    "\n",
    "print(content)"
   ]
  },
  {
   "cell_type": "code",
   "execution_count": 15,
   "id": "64983ce2",
   "metadata": {},
   "outputs": [
    {
     "name": "stdout",
     "output_type": "stream",
     "text": [
      "Hello World!Hello\n"
     ]
    }
   ],
   "source": [
    "with open(\"foo.txt\", \"a\") as name_file:\n",
    "    name_file.write(\"Hello\")\n",
    "\n",
    "with open(\"foo.txt\") as name_file:\n",
    "    content = name_file.readline() # Legge linea per linea\n",
    "\n",
    "print(content)"
   ]
  }
 ],
 "metadata": {
  "kernelspec": {
   "display_name": "env_learning",
   "language": "python",
   "name": "python3"
  },
  "language_info": {
   "codemirror_mode": {
    "name": "ipython",
    "version": 3
   },
   "file_extension": ".py",
   "mimetype": "text/x-python",
   "name": "python",
   "nbconvert_exporter": "python",
   "pygments_lexer": "ipython3",
   "version": "3.10.12"
  }
 },
 "nbformat": 4,
 "nbformat_minor": 5
}
