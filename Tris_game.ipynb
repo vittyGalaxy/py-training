{
 "cells": [
  {
   "cell_type": "markdown",
   "id": "714a4c09",
   "metadata": {},
   "source": [
    "# Tris game"
   ]
  },
  {
   "cell_type": "code",
   "execution_count": 10,
   "id": "cd13ffb1",
   "metadata": {},
   "outputs": [
    {
     "name": "stdout",
     "output_type": "stream",
     "text": [
      " |   |\n",
      " |   |    \n",
      " |   |\n",
      "-------------------\n",
      " |   |\n",
      " |   |    \n",
      " |   |\n",
      "-------------------\n",
      " |   |\n",
      " |   |   \n",
      " |   |\n"
     ]
    }
   ],
   "source": [
    "import random\n",
    "\n",
    "def disegna_tabella(tabella):\n",
    "    print(\" |   |\")\n",
    "    print(\"\" + tabella[7] + \"|  \" + tabella[8] + \"|   \" + tabella[9])\n",
    "    print(\" |   |\")\n",
    "    print(\"-------------------\")\n",
    "    print(\" |   |\")\n",
    "    print(\"\" + tabella[4] + \"|  \" + tabella[5] + \"|   \" + tabella[6])\n",
    "    print(\" |   |\")\n",
    "    print(\"-------------------\")\n",
    "    print(\" |   |\")\n",
    "    print(\"\" + tabella[4] + \"|  \" + tabella[5] + \"|  \" + tabella[6])\n",
    "    print(\" |   |\")\n",
    "\n",
    "disegna_tabella([\" \"] * 10)\n",
    "\n",
    "def letteraGiocatore():\n",
    "    lettera = \"\"\n",
    "    while not(lettera == \"x\" or lettera == \"o\"):\n",
    "        print(\"Vuoi la X o la O\")\n",
    "        lettera = input().upper()\n",
    "    \n",
    "    if lettera == \"X\":\n",
    "        return (\"X\", \"O\")\n",
    "    else:\n",
    "        return (\"O\", \"X\")\n",
    "\n",
    "def chi_inizia():\n",
    "    if random.randint(0, 1) == 0:\n",
    "        return \"computer\"\n",
    "    else:\n",
    "        return \"giocatore\"\n",
    "\n",
    "def gioca_ancora():\n",
    "    print(\"Vuoi giocare ancora? (s = Si , n = No)\")\n",
    "    return input().lower.startswith(\"s\")\n",
    "\n",
    "def mossa(tabella, lettera, mossa):\n",
    "    tabella[mossa] = lettera\n",
    "\n",
    "def vincitore(tabella, lettera):\n",
    "    return ((tabella[7] == lettera and tabella[8] == lettera and tabella[9] == lettera) or\n",
    "            (tabella[4] == lettera and tabella[5] == lettera and tabella[6] == lettera) or\n",
    "            (tabella[1] == lettera and tabella[2] == lettera and tabella[3] == lettera) or\n",
    "            (tabella[7] == lettera and tabella[4] == lettera and tabella[1] == lettera) or \n",
    "            (tabella[8] == lettera and tabella[5] == lettera and tabella[2] == lettera) or\n",
    "            (tabella[9] == lettera and tabella[6] == lettera and tabella[3] == lettera) or\n",
    "            (tabella[7] == lettera and tabella[5] == lettera and tabella[3] == lettera) or\n",
    "            (tabella[9] == lettera and tabella[5] == lettera and tabella[1] == lettera))\n",
    "\n",
    "def spazio_libero(tabella, mossa):\n",
    "    return tabella[mossa] == \" \"\n",
    "\n",
    "def crea_copia_tabella(tabella):\n",
    "    copiaTab = []\n",
    "    for i in tabella:\n",
    "        copiaTab.append[i]\n",
    "    return copiaTab\n",
    "\n",
    "def mossa_giocatore(tabella):\n",
    "    mossa = \" \"\n",
    "    while mossa not in \"1 2 3 4 5 6 7 8 9\".split() or not spazio_libero(tabella, int(mossa)):\n",
    "        print(\"QUale sará la tua prossima mossa? (1-9)\")\n",
    "        mossa = input()\n",
    "    return int(mossa)\n",
    "\n",
    "def mossa_casuale(tabella, lista_mosse):\n",
    "    possibili_mosse = []\n",
    "    for i in lista_mosse:\n",
    "        possibili_mosse.append[i]\n",
    "    \n",
    "    if len(possibili_mosse) != 0:\n",
    "        return random.choice(possibili_mosse)\n",
    "    else:\n",
    "        return None"
   ]
  }
 ],
 "metadata": {
  "kernelspec": {
   "display_name": "env_learning",
   "language": "python",
   "name": "python3"
  },
  "language_info": {
   "codemirror_mode": {
    "name": "ipython",
    "version": 3
   },
   "file_extension": ".py",
   "mimetype": "text/x-python",
   "name": "python",
   "nbconvert_exporter": "python",
   "pygments_lexer": "ipython3",
   "version": "3.10.12"
  }
 },
 "nbformat": 4,
 "nbformat_minor": 5
}
