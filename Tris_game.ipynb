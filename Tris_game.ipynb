{
 "cells": [
  {
   "cell_type": "markdown",
   "id": "714a4c09",
   "metadata": {},
   "source": [
    "# Tris game"
   ]
  },
  {
   "cell_type": "code",
   "execution_count": null,
   "id": "cd13ffb1",
   "metadata": {},
   "outputs": [],
   "source": [
    "import random\n",
    "\n",
    "def disegna_tabella(tabella):\n",
    "    print(\" |   |\")\n",
    "    print(\" \" + tabella[7] + \"  |   \" + tabella[8] + \"  |   \" + tabella[9])\n",
    "    print(\" |   |\")\n",
    "    print(\"-------------------\")\n",
    "    print(\" |   |\")\n",
    "    print(\" \" + tabella[4] + \"  |   \" + tabella[5] + \"  |   \" + tabella[6])\n",
    "    print(\" |   |\")\n",
    "    print(\"-------------------\")\n",
    "    print(\" |   |\")\n",
    "    print(\" \" + tabella[4] + \"  |   \" + tabella[5] + \"  |   \" + tabella[6])\n",
    "    print(\" |   |\")\n",
    "\n",
    "disegna_tabella([\" \"] * 10)\n",
    "\n",
    "def letteraGiocatore():\n",
    "    lettera = \"\"\n",
    "    while not(lettera == \"x\" or lettera == \"o\"):\n",
    "        print(\"Vuoi la X o la O\")\n",
    "        lettera = input().upper()\n",
    "    \n",
    "    if lettera == \"X\":\n",
    "        return (\"X\", \"O\")\n",
    "    else:\n",
    "        return (\"O\", \"X\")"
   ]
  }
 ],
 "metadata": {
  "language_info": {
   "name": "python"
  }
 },
 "nbformat": 4,
 "nbformat_minor": 5
}
