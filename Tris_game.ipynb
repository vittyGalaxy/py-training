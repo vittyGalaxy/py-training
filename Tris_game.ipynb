{
 "cells": [
  {
   "cell_type": "markdown",
   "id": "714a4c09",
   "metadata": {},
   "source": [
    "# Tris game"
   ]
  },
  {
   "cell_type": "code",
   "execution_count": 30,
   "id": "605c7fda",
   "metadata": {},
   "outputs": [],
   "source": [
    "import random"
   ]
  },
  {
   "cell_type": "code",
   "execution_count": null,
   "id": "5f8e413b",
   "metadata": {},
   "outputs": [],
   "source": [
    "def disegna_tabella(tabella):\n",
    "    righe = [\n",
    "        (0, 1, 2),\n",
    "        (3, 4, 5),\n",
    "        (6, 7, 8)\n",
    "    ]\n",
    "    print(\"-------------------------------\")\n",
    "    for r, (a, b, c) in enumerate(righe):\n",
    "        print(f\" {tabella[a]} | {tabella[b]} | {tabella[c]} \")\n",
    "        if r < 2:\n",
    "            print(\"---+---+---\")"
   ]
  },
  {
   "cell_type": "code",
   "execution_count": 2,
   "id": "46eeced9",
   "metadata": {},
   "outputs": [],
   "source": [
    "def chi_inizia():\n",
    "    if random.randint(0, 1) == 0:\n",
    "        return \"computer\"\n",
    "    else:\n",
    "        return \"giocatore\""
   ]
  },
  {
   "cell_type": "code",
   "execution_count": 5,
   "id": "ec7999e7",
   "metadata": {},
   "outputs": [],
   "source": [
    "def gioca_ancora(in_letter):\n",
    "    print(\"Vuoi giocare ancora? (s = Si , n = No)\")\n",
    "    return str(in_letter).lower().startswith(\"s\")"
   ]
  },
  {
   "cell_type": "code",
   "execution_count": 4,
   "id": "6c1c0000",
   "metadata": {},
   "outputs": [],
   "source": [
    "def fai_mossa(tabella, lettera, mossa):\n",
    "    tabella[mossa] = lettera"
   ]
  },
  {
   "cell_type": "code",
   "execution_count": 3,
   "id": "420684b2",
   "metadata": {},
   "outputs": [],
   "source": [
    "def calcola_vincitore(tabella, lettera):\n",
    "    return ((tabella[6] == lettera and tabella[7] == lettera and tabella[8] == lettera) or\n",
    "            (tabella[3] == lettera and tabella[4] == lettera and tabella[5] == lettera) or\n",
    "            (tabella[0] == lettera and tabella[1] == lettera and tabella[2] == lettera) or\n",
    "            (tabella[6] == lettera and tabella[3] == lettera and tabella[0] == lettera) or \n",
    "            (tabella[7] == lettera and tabella[4] == lettera and tabella[1] == lettera) or\n",
    "            (tabella[8] == lettera and tabella[5] == lettera and tabella[2] == lettera) or\n",
    "            (tabella[6] == lettera and tabella[4] == lettera and tabella[2] == lettera) or\n",
    "            (tabella[8] == lettera and tabella[4] == lettera and tabella[0] == lettera))"
   ]
  },
  {
   "cell_type": "code",
   "execution_count": 6,
   "id": "39385c79",
   "metadata": {},
   "outputs": [],
   "source": [
    "def verifica_spazio_libero(tabella, mossa):\n",
    "    return tabella[mossa] == \" \""
   ]
  },
  {
   "cell_type": "code",
   "execution_count": 7,
   "id": "e3099bb0",
   "metadata": {},
   "outputs": [],
   "source": [
    "def crea_copia_tabella(tabella):\n",
    "    copiaTab = []\n",
    "    for i in tabella:\n",
    "        copiaTab.append(i)\n",
    "    return copiaTab"
   ]
  },
  {
   "cell_type": "code",
   "execution_count": 9,
   "id": "c0a305ac",
   "metadata": {},
   "outputs": [],
   "source": [
    "def mossa_giocatore_auto(mossa, tabella):\n",
    "    if mossa not in \"1 2 3 4 5 6 7 8 9\".split() or not verifica_spazio_libero(tabella, int(mossa)):\n",
    "        return None\n",
    "    return int(mossa)"
   ]
  },
  {
   "cell_type": "code",
   "execution_count": 10,
   "id": "89eb8b07",
   "metadata": {},
   "outputs": [],
   "source": [
    "def mossa_casuale(tabella, lista_mosse):\n",
    "    possibili_mosse = []\n",
    "    for i in lista_mosse:\n",
    "        if verifica_spazio_libero(tabella, i):\n",
    "            possibili_mosse.append(i)\n",
    "    \n",
    "    if len(possibili_mosse) != 0:\n",
    "        return random.choice(possibili_mosse)\n",
    "    else:\n",
    "        return None"
   ]
  },
  {
   "cell_type": "code",
   "execution_count": 11,
   "id": "32b091ab",
   "metadata": {},
   "outputs": [],
   "source": [
    "def mossa_computer(tabella, lettera_computer):\n",
    "    if lettera_computer == \"X\":\n",
    "        lettera_giocatore = \"O\"\n",
    "    else:\n",
    "        lettera_giocatore = \"X\"\n",
    "    \n",
    "    for i in range(0, 9):\n",
    "        copia = crea_copia_tabella(tabella)\n",
    "        if verifica_spazio_libero(copia, i):\n",
    "            fai_mossa(copia, lettera_computer, i)\n",
    "            if calcola_vincitore(copia, lettera_computer):\n",
    "                return i\n",
    "    \n",
    "    for i in range(0, 9):\n",
    "        copia = crea_copia_tabella(tabella)\n",
    "        if verifica_spazio_libero(copia, i):\n",
    "            fai_mossa(copia, lettera_giocatore, i)\n",
    "            if calcola_vincitore(copia, lettera_giocatore):\n",
    "                return i\n",
    "    \n",
    "    mossa = mossa_casuale(tabella, [0, 2, 6, 8])\n",
    "    if mossa != None:\n",
    "        return mossa\n",
    "    \n",
    "    if verifica_spazio_libero(tabella, 4):\n",
    "        return 5\n",
    "    \n",
    "    return mossa_casuale(tabella, [1, 3, 5, 7])"
   ]
  },
  {
   "cell_type": "code",
   "execution_count": null,
   "id": "5d01af06",
   "metadata": {},
   "outputs": [],
   "source": [
    "def tabella_completa(tabella):\n",
    "    for i in range(0, 9):\n",
    "        if verifica_spazio_libero(tabella, i):\n",
    "            return False\n",
    "    \n",
    "    return True"
   ]
  },
  {
   "cell_type": "code",
   "execution_count": null,
   "id": "cd13ffb1",
   "metadata": {},
   "outputs": [
    {
     "name": "stdout",
     "output_type": "stream",
     "text": [
      "Benvenuto, a Tris!\n",
      "Vuoi la X o la O\n",
      "Il giocatore parte per primo.\n",
      "-------------------------------\n",
      "   | X |   \n",
      "---+---+---\n",
      "   |   |   \n",
      "---+---+---\n",
      "   |   |   \n",
      "mossa = 1\n",
      "-------------------------------\n",
      "   | X |   \n",
      "---+---+---\n",
      "   |   |   \n",
      "---+---+---\n",
      "   |   |   \n",
      "La partita é finita in paritá.\n"
     ]
    }
   ],
   "source": [
    "# disegna_tabella([\" \"] * 10)\n",
    "print(\"Benvenuto, a Tris!\")\n",
    "\n",
    "moves = [\"1\", \"4\", \"5\", \"6\"]\n",
    "idx_move = 0\n",
    "\n",
    "# while True: # si dovrebbe commentare, no? Se no ci sarebbe un ciclo infinito\n",
    "tabella = [\" \"] * 10\n",
    "lettera_giocatore, lettera_computer = \"X\", \"O\"\n",
    "turno = chi_inizia()\n",
    "print(\"Il \" + turno + \" parte per primo.\")\n",
    "partita = True\n",
    "\n",
    "while partita:\n",
    "    if turno == \"giocatore\":\n",
    "        if idx_move == len(moves):\n",
    "            print(\"mosse finite\")\n",
    "            partita = False\n",
    "            break\n",
    "\n",
    "        # disegna_tabella(tabella)\n",
    "\n",
    "        # mossa = mossa_giocatore(tabella)\n",
    "        mossa = mossa_giocatore_auto(moves[idx_move], tabella)\n",
    "        if mossa is not None:\n",
    "            fai_mossa(tabella, lettera_giocatore, mossa)\n",
    "        else:\n",
    "            idx_move += 1\n",
    "\n",
    "        disegna_tabella(tabella)\n",
    "        print(f\"mossa = {mossa}\")\n",
    "\n",
    "        if calcola_vincitore(tabella, lettera_giocatore):\n",
    "            disegna_tabella(tabella)\n",
    "            print(\"Hai vinto!\")\n",
    "            partita = False\n",
    "        else:\n",
    "            if tabella_completa(tabella):\n",
    "                disegna_tabella(tabella)\n",
    "                print(\"La partita é finita in paritá.\")\n",
    "                break\n",
    "            else:\n",
    "                turno = \"computer\"\n",
    "                idx_move += 1\n",
    "\n",
    "    else:\n",
    "        mossa = mossa_computer(tabella, lettera_computer)\n",
    "        fai_mossa(tabella, lettera_computer, mossa)\n",
    "\n",
    "        if calcola_vincitore(tabella, lettera_computer):\n",
    "            disegna_tabella(tabella)\n",
    "            print(\"Il compuet ti ha sconfitto. Hai perso!\")\n",
    "            partita = False\n",
    "        else:\n",
    "            turno = \"giocatore\"\n",
    "    \n",
    "    # if not gioca_ancora():\n",
    "    #     break\n"
   ]
  },
  {
   "cell_type": "code",
   "execution_count": 3,
   "id": "94e45388",
   "metadata": {},
   "outputs": [
    {
     "name": "stdout",
     "output_type": "stream",
     "text": [
      "-------------------------------\n",
      "   |   |   \n",
      "---+---+---\n",
      "   |   |   \n",
      "---+---+---\n",
      "   |   |   \n"
     ]
    }
   ],
   "source": [
    "def disegna_tabella(tabella):\n",
    "    lista = [\n",
    "        (0, 1, 2),\n",
    "        (3, 4, 5),\n",
    "        (6, 7, 8),\n",
    "    ]\n",
    "    print(\"-------------------------------\")\n",
    "    for r, (a, b, c) in enumerate(lista):\n",
    "        print(f\" {tabella[a]} | {tabella[b]} | {tabella[c]} \")\n",
    "        if r < 2:\n",
    "            print(\"---+---+---\")\n",
    "\n",
    "tab = [\" \"] * 9\n",
    "disegna_tabella(tab)"
   ]
  },
  {
   "cell_type": "code",
   "execution_count": 4,
   "id": "9b4d47ca",
   "metadata": {},
   "outputs": [],
   "source": [
    "def calcola_vincitore(tabella, lettera):\n",
    "    return ((tabella[6] == lettera and tabella[7] == lettera and tabella[8] == lettera) or\n",
    "            (tabella[3] == lettera and tabella[4] == lettera and tabella[5] == lettera) or\n",
    "            (tabella[0] == lettera and tabella[1] == lettera and tabella[2] == lettera) or\n",
    "            (tabella[6] == lettera and tabella[3] == lettera and tabella[0] == lettera) or \n",
    "            (tabella[7] == lettera and tabella[4] == lettera and tabella[1] == lettera) or\n",
    "            (tabella[8] == lettera and tabella[5] == lettera and tabella[2] == lettera) or\n",
    "            (tabella[6] == lettera and tabella[4] == lettera and tabella[2] == lettera) or\n",
    "            (tabella[8] == lettera and tabella[4] == lettera and tabella[0] == lettera))"
   ]
  },
  {
   "cell_type": "code",
   "execution_count": 5,
   "id": "e635d717",
   "metadata": {},
   "outputs": [],
   "source": [
    "def verifica_spazio_libero(tabella, mossa):\n",
    "    return tabella[mossa] == \" \""
   ]
  },
  {
   "cell_type": "code",
   "execution_count": null,
   "id": "e1ae82ed",
   "metadata": {},
   "outputs": [],
   "source": [
    "def verifica_mossa(tabella, mossa):\n",
    "    if mossa not in \"0 1 2 3 4 5 6 7 8\".split() or verifica_spazio_libero(tabella, mossa):\n",
    "        return False\n",
    "    return True"
   ]
  },
  {
   "cell_type": "code",
   "execution_count": null,
   "id": "3021a3e3",
   "metadata": {},
   "outputs": [],
   "source": [
    "def mossa_funzionante(tabella, mossa, lettera):\n",
    "    while (not verifica_mossa(tabella, mossa)):\n",
    "        print(\"Mi dispiace, numero giá stato inserito o inesistente\")\n",
    "        mossa = input(\"Scegli il numero tra 0 a 8: \")\n",
    "    return lettera"
   ]
  },
  {
   "cell_type": "code",
   "execution_count": 8,
   "id": "3b0d7769",
   "metadata": {},
   "outputs": [],
   "source": [
    "# def fai_mossa():\n",
    "#     return input(\"Scegli il numero tra 0 a 8: \")"
   ]
  },
  {
   "cell_type": "code",
   "execution_count": 12,
   "id": "0056067c",
   "metadata": {},
   "outputs": [
    {
     "name": "stdout",
     "output_type": "stream",
     "text": [
      "Mi dispiace, numero giá stato inserito o inesistente\n"
     ]
    },
    {
     "ename": "TypeError",
     "evalue": "list indices must be integers or slices, not str",
     "output_type": "error",
     "traceback": [
      "\u001b[0;31m---------------------------------------------------------------------------\u001b[0m",
      "\u001b[0;31mTypeError\u001b[0m                                 Traceback (most recent call last)",
      "Cell \u001b[0;32mIn[12], line 5\u001b[0m\n\u001b[1;32m      2\u001b[0m     tabella[mossa] \u001b[38;5;241m=\u001b[39m mossa_funzionante(tabella, mossa, lettera)\n\u001b[1;32m      3\u001b[0m     disegna_tabella(tabella)\n\u001b[0;32m----> 5\u001b[0m \u001b[43mtabella_mossa\u001b[49m\u001b[43m(\u001b[49m\u001b[43m[\u001b[49m\u001b[38;5;124;43m\"\u001b[39;49m\u001b[38;5;124;43m \u001b[39;49m\u001b[38;5;124;43m\"\u001b[39;49m\u001b[43m]\u001b[49m\u001b[43m \u001b[49m\u001b[38;5;241;43m*\u001b[39;49m\u001b[43m \u001b[49m\u001b[38;5;241;43m9\u001b[39;49m\u001b[43m,\u001b[49m\u001b[43m \u001b[49m\u001b[38;5;241;43m4\u001b[39;49m\u001b[43m,\u001b[49m\u001b[43m \u001b[49m\u001b[38;5;124;43m\"\u001b[39;49m\u001b[38;5;124;43mX\u001b[39;49m\u001b[38;5;124;43m\"\u001b[39;49m\u001b[43m)\u001b[49m\n",
      "Cell \u001b[0;32mIn[12], line 2\u001b[0m, in \u001b[0;36mtabella_mossa\u001b[0;34m(tabella, mossa, lettera)\u001b[0m\n\u001b[1;32m      1\u001b[0m \u001b[38;5;28;01mdef\u001b[39;00m\u001b[38;5;250m \u001b[39m\u001b[38;5;21mtabella_mossa\u001b[39m(tabella, mossa, lettera):\n\u001b[0;32m----> 2\u001b[0m     tabella[mossa] \u001b[38;5;241m=\u001b[39m \u001b[43mmossa_funzionante\u001b[49m\u001b[43m(\u001b[49m\u001b[43mtabella\u001b[49m\u001b[43m,\u001b[49m\u001b[43m \u001b[49m\u001b[43mmossa\u001b[49m\u001b[43m,\u001b[49m\u001b[43m \u001b[49m\u001b[43mlettera\u001b[49m\u001b[43m)\u001b[49m\n\u001b[1;32m      3\u001b[0m     disegna_tabella(tabella)\n",
      "Cell \u001b[0;32mIn[7], line 2\u001b[0m, in \u001b[0;36mmossa_funzionante\u001b[0;34m(tabella, mossa, lettera)\u001b[0m\n\u001b[1;32m      1\u001b[0m \u001b[38;5;28;01mdef\u001b[39;00m\u001b[38;5;250m \u001b[39m\u001b[38;5;21mmossa_funzionante\u001b[39m(tabella, mossa, lettera):\n\u001b[0;32m----> 2\u001b[0m     \u001b[38;5;28;01mwhile\u001b[39;00m (\u001b[43mverifica_mossa\u001b[49m\u001b[43m(\u001b[49m\u001b[43mtabella\u001b[49m\u001b[43m,\u001b[49m\u001b[43m \u001b[49m\u001b[43mmossa\u001b[49m\u001b[43m)\u001b[49m):\n\u001b[1;32m      3\u001b[0m         \u001b[38;5;28mprint\u001b[39m(\u001b[38;5;124m\"\u001b[39m\u001b[38;5;124mMi dispiace, numero giá stato inserito o inesistente\u001b[39m\u001b[38;5;124m\"\u001b[39m)\n\u001b[1;32m      4\u001b[0m         mossa \u001b[38;5;241m=\u001b[39m \u001b[38;5;28minput\u001b[39m(\u001b[38;5;124m\"\u001b[39m\u001b[38;5;124mScegli il numero tra 0 a 8: \u001b[39m\u001b[38;5;124m\"\u001b[39m)\n",
      "Cell \u001b[0;32mIn[6], line 2\u001b[0m, in \u001b[0;36mverifica_mossa\u001b[0;34m(tabella, mossa)\u001b[0m\n\u001b[1;32m      1\u001b[0m \u001b[38;5;28;01mdef\u001b[39;00m\u001b[38;5;250m \u001b[39m\u001b[38;5;21mverifica_mossa\u001b[39m(tabella, mossa):\n\u001b[0;32m----> 2\u001b[0m     \u001b[38;5;28;01mif\u001b[39;00m mossa \u001b[38;5;241m==\u001b[39m \u001b[38;5;124m\"\u001b[39m\u001b[38;5;124m 0 1 2 3 4 5 6 7 8\u001b[39m\u001b[38;5;124m\"\u001b[39m\u001b[38;5;241m.\u001b[39msplit() \u001b[38;5;129;01mor\u001b[39;00m \u001b[43mverifica_spazio_libero\u001b[49m\u001b[43m(\u001b[49m\u001b[43mtabella\u001b[49m\u001b[43m,\u001b[49m\u001b[43m \u001b[49m\u001b[43mmossa\u001b[49m\u001b[43m)\u001b[49m:\n\u001b[1;32m      3\u001b[0m         \u001b[38;5;28;01mreturn\u001b[39;00m \u001b[38;5;28;01mTrue\u001b[39;00m\n\u001b[1;32m      5\u001b[0m     \u001b[38;5;28;01mreturn\u001b[39;00m \u001b[38;5;28;01mFalse\u001b[39;00m\n",
      "Cell \u001b[0;32mIn[5], line 2\u001b[0m, in \u001b[0;36mverifica_spazio_libero\u001b[0;34m(tabella, mossa)\u001b[0m\n\u001b[1;32m      1\u001b[0m \u001b[38;5;28;01mdef\u001b[39;00m\u001b[38;5;250m \u001b[39m\u001b[38;5;21mverifica_spazio_libero\u001b[39m(tabella, mossa):\n\u001b[0;32m----> 2\u001b[0m     \u001b[38;5;28;01mreturn\u001b[39;00m \u001b[43mtabella\u001b[49m\u001b[43m[\u001b[49m\u001b[43mmossa\u001b[49m\u001b[43m]\u001b[49m \u001b[38;5;241m==\u001b[39m \u001b[38;5;124m\"\u001b[39m\u001b[38;5;124m \u001b[39m\u001b[38;5;124m\"\u001b[39m\n",
      "\u001b[0;31mTypeError\u001b[0m: list indices must be integers or slices, not str"
     ]
    }
   ],
   "source": [
    "def tabella_mossa(tabella, mossa, lettera):\n",
    "    tabella[mossa] = mossa_funzionante(tabella, mossa, lettera)\n",
    "    disegna_tabella(tabella)\n",
    "\n",
    "tabella_mossa([\" \"] * 9, 4, \"X\")"
   ]
  },
  {
   "cell_type": "code",
   "execution_count": 10,
   "id": "475c6b98",
   "metadata": {},
   "outputs": [
    {
     "data": {
      "text/plain": [
       "('X', 'O')"
      ]
     },
     "execution_count": 10,
     "metadata": {},
     "output_type": "execute_result"
    }
   ],
   "source": [
    "def scelta_lettera(scelta):\n",
    "    scelta = scelta.upper()\n",
    "    while(scelta != \"X\") and (scelta != \"O\"):\n",
    "        scelta = input(\"Non hai rispettato la scelta di X o O, metti uno di loro: \").upper()\n",
    "    if scelta == \"X\":\n",
    "        return (\"X\", \"O\")\n",
    "    else:\n",
    "        return (\"O\", \"X\")\n",
    "\n",
    "scelta_lettera(\"x\")"
   ]
  },
  {
   "cell_type": "code",
   "execution_count": 11,
   "id": "f627bfe0",
   "metadata": {},
   "outputs": [],
   "source": [
    "def tabella_completa(tabella):\n",
    "    for i in range(9):\n",
    "        if tabella[i] == verifica_spazio_libero(tabella, i):\n",
    "            return False\n",
    "    \n",
    "    return True"
   ]
  },
  {
   "cell_type": "code",
   "execution_count": 18,
   "id": "da47f8bf",
   "metadata": {},
   "outputs": [
    {
     "name": "stdout",
     "output_type": "stream",
     "text": [
      "-------------------------------\n",
      "   |   |   \n",
      "---+---+---\n",
      "   |   |   \n",
      "---+---+---\n",
      "   |   |   \n",
      "Giocatore1, tocca a te\n"
     ]
    },
    {
     "ename": "TypeError",
     "evalue": "list indices must be integers or slices, not str",
     "output_type": "error",
     "traceback": [
      "\u001b[0;31m---------------------------------------------------------------------------\u001b[0m",
      "\u001b[0;31mTypeError\u001b[0m                                 Traceback (most recent call last)",
      "Cell \u001b[0;32mIn[18], line 8\u001b[0m\n\u001b[1;32m      6\u001b[0m \u001b[38;5;28mprint\u001b[39m(\u001b[38;5;124m\"\u001b[39m\u001b[38;5;124mGiocatore1, tocca a te\u001b[39m\u001b[38;5;124m\"\u001b[39m)\n\u001b[1;32m      7\u001b[0m mossa \u001b[38;5;241m=\u001b[39m \u001b[38;5;28minput\u001b[39m(\u001b[38;5;124m\"\u001b[39m\u001b[38;5;124mScegli il numero tra 0 a 8: \u001b[39m\u001b[38;5;124m\"\u001b[39m)\n\u001b[0;32m----> 8\u001b[0m \u001b[43mtabella_mossa\u001b[49m\u001b[43m(\u001b[49m\u001b[43mtabella\u001b[49m\u001b[43m,\u001b[49m\u001b[43m \u001b[49m\u001b[43mmossa\u001b[49m\u001b[43m,\u001b[49m\u001b[43m \u001b[49m\u001b[43mgiocatore1\u001b[49m\u001b[43m)\u001b[49m\n\u001b[1;32m      9\u001b[0m \u001b[38;5;28;01mif\u001b[39;00m calcola_vincitore(tabella, giocatore1):\n\u001b[1;32m     10\u001b[0m     \u001b[38;5;28mprint\u001b[39m(\u001b[38;5;124m\"\u001b[39m\u001b[38;5;124mComplimenti! Il giocatore1 ha vinto!\u001b[39m\u001b[38;5;124m\"\u001b[39m)\n",
      "Cell \u001b[0;32mIn[14], line 2\u001b[0m, in \u001b[0;36mtabella_mossa\u001b[0;34m(tabella, mossa, lettera)\u001b[0m\n\u001b[1;32m      1\u001b[0m \u001b[38;5;28;01mdef\u001b[39;00m\u001b[38;5;250m \u001b[39m\u001b[38;5;21mtabella_mossa\u001b[39m(tabella, mossa, lettera):\n\u001b[0;32m----> 2\u001b[0m     \u001b[43mtabella\u001b[49m\u001b[43m[\u001b[49m\u001b[43mmossa\u001b[49m\u001b[43m]\u001b[49m \u001b[38;5;241m=\u001b[39m mossa_funzionante(tabella, mossa, lettera)\n\u001b[1;32m      3\u001b[0m     disegna_tabella(tabella)\n",
      "\u001b[0;31mTypeError\u001b[0m: list indices must be integers or slices, not str"
     ]
    }
   ],
   "source": [
    "tabella = [\" \"] * 9\n",
    "scelta = input(\"Scegli X o O: \")\n",
    "giocatore1, giocatore2 = scelta_lettera(scelta)\n",
    "disegna_tabella(tabella)\n",
    "while(True):\n",
    "    print(\"Giocatore1, tocca a te\")\n",
    "    mossa = input(\"Scegli il numero tra 0 a 8: \")\n",
    "    tabella_mossa(tabella, mossa, giocatore1)\n",
    "    if calcola_vincitore(tabella, giocatore1):\n",
    "        print(\"Complimenti! Il giocatore1 ha vinto!\")\n",
    "        break\n",
    "\n",
    "    print(\"Giocatore2, tocca a te\")\n",
    "    mossa = fai_mossa(tabella)\n",
    "    tabella_mossa(tabella, mossa, giocatore2)\n",
    "    disegna_tabella(tabella)\n",
    "    if calcola_vincitore(tabella, giocatore2):\n",
    "        print(\"Complimenti! Il giocatore2 ha vinto!\")\n",
    "        break"
   ]
  }
 ],
 "metadata": {
  "kernelspec": {
   "display_name": "env_learning",
   "language": "python",
   "name": "python3"
  },
  "language_info": {
   "codemirror_mode": {
    "name": "ipython",
    "version": 3
   },
   "file_extension": ".py",
   "mimetype": "text/x-python",
   "name": "python",
   "nbconvert_exporter": "python",
   "pygments_lexer": "ipython3",
   "version": "3.10.12"
  }
 },
 "nbformat": 4,
 "nbformat_minor": 5
}
