{
 "cells": [
  {
   "cell_type": "markdown",
   "id": "714a4c09",
   "metadata": {},
   "source": [
    "# Tris game"
   ]
  },
  {
   "cell_type": "code",
   "execution_count": null,
   "id": "cd13ffb1",
   "metadata": {},
   "outputs": [
    {
     "name": "stdout",
     "output_type": "stream",
     "text": [
      " |   |\n",
      "    |      |    \n",
      " |   |\n",
      "-------------------\n",
      " |   |\n",
      "    |      |    \n",
      " |   |\n",
      "-------------------\n",
      " |   |\n",
      "    |      |    \n",
      " |   |\n"
     ]
    }
   ],
   "source": [
    "import random\n",
    "\n",
    "def disegna_tabella(tabella):\n",
    "    print(\" |   |\")\n",
    "    print(\" \" + tabella[7] + \"  |   \" + tabella[8] + \"  |   \" + tabella[9])\n",
    "    print(\" |   |\")\n",
    "    print(\"-------------------\")\n",
    "    print(\" |   |\")\n",
    "    print(\" \" + tabella[4] + \"  |   \" + tabella[5] + \"  |   \" + tabella[6])\n",
    "    print(\" |   |\")\n",
    "    print(\"-------------------\")\n",
    "    print(\" |   |\")\n",
    "    print(\" \" + tabella[4] + \"  |   \" + tabella[5] + \"  |   \" + tabella[6])\n",
    "    print(\" |   |\")\n",
    "\n",
    "disegna_tabella([\" \"] * 10)\n",
    "\n",
    "def letteraGiocatore():\n",
    "    lettera = \"\"\n",
    "    while not(lettera == \"x\" or lettera == \"o\"):\n",
    "        print(\"Vuoi la X o la O\")\n",
    "        lettera = input().upper()\n",
    "    \n",
    "    if lettera == \"X\":\n",
    "        return (\"X\", \"O\")\n",
    "    else:\n",
    "        return (\"O\", \"X\")\n",
    "\n",
    "def chi_inizia():\n",
    "    if random.randint(0, 1) == 0:\n",
    "        return \"computer\"\n",
    "    else:\n",
    "        return \"giocatore\"\n",
    "\n",
    "def gioca_ancora():\n",
    "    print(\"Vuoi giocare ancora? (s = Si , n = No)\")\n",
    "    return input().lower.startswith(\"s\")\n",
    "\n",
    "def mossa(tabella, lettera, mossa):\n",
    "    tabella[mossa] = lettera\n",
    "\n",
    "def vincitore(tabella, lettera):\n",
    "    return ((tabella[7] == lettera and tabella[8] == lettera and tabella[9] == lettera) or\n",
    "            (tabella[4] == lettera and tabella[5] == lettera and tabella[6] == lettera) or\n",
    "            (tabella[1] == lettera and tabella[2] == lettera and tabella[3] == lettera) or\n",
    "            (tabella[7] == lettera and tabella[4] == lettera and tabella[1] == lettera) or \n",
    "            (tabella[8] == lettera and tabella[5] == lettera and tabella[2] == lettera) or\n",
    "            (tabella[9] == lettera and tabella[6] == lettera and tabella[3] == lettera) or\n",
    "            (tabella[7] == lettera and tabella[5] == lettera and tabella[3] == lettera) or\n",
    "            (tabella[9] == lettera and tabella[5] == lettera and tabella[1] == lettera))"
   ]
  }
 ],
 "metadata": {
  "kernelspec": {
   "display_name": "env_learning",
   "language": "python",
   "name": "python3"
  },
  "language_info": {
   "codemirror_mode": {
    "name": "ipython",
    "version": 3
   },
   "file_extension": ".py",
   "mimetype": "text/x-python",
   "name": "python",
   "nbconvert_exporter": "python",
   "pygments_lexer": "ipython3",
   "version": "3.10.12"
  }
 },
 "nbformat": 4,
 "nbformat_minor": 5
}
