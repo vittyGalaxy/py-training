{
 "cells": [
  {
   "cell_type": "markdown",
   "id": "714a4c09",
   "metadata": {},
   "source": [
    "# Tris game"
   ]
  },
  {
   "cell_type": "code",
   "execution_count": 47,
   "id": "605c7fda",
   "metadata": {},
   "outputs": [],
   "source": [
    "import random"
   ]
  },
  {
   "cell_type": "code",
   "execution_count": 48,
   "id": "5f8e413b",
   "metadata": {},
   "outputs": [],
   "source": [
    "def disegna_tabella(tabella):\n",
    "    print(\" |   |\")\n",
    "    print(\"\" + tabella[7] + \"|  \" + tabella[8] + \"|   \" + tabella[9])\n",
    "    print(\" |   |\")\n",
    "    print(\"-------------------\")\n",
    "    print(\" |   |\")\n",
    "    print(\"\" + tabella[4] + \"|  \" + tabella[5] + \"|   \" + tabella[6])\n",
    "    print(\" |   |\")\n",
    "    print(\"-------------------\")\n",
    "    print(\" |   |\")\n",
    "    print(\"\" + tabella[4] + \"|  \" + tabella[5] + \"|  \" + tabella[6])\n",
    "    print(\" |   |\")"
   ]
  },
  {
   "cell_type": "code",
   "execution_count": 49,
   "id": "198773f0",
   "metadata": {},
   "outputs": [],
   "source": [
    "def letteraGiocatore():\n",
    "    lettera = \"\"\n",
    "    while not(lettera == \"X\" or lettera == \"O\"):\n",
    "        print(\"Vuoi la X o la O\")\n",
    "        lettera = input().upper()\n",
    "    \n",
    "        if lettera == \"X\":\n",
    "            return (\"X\", \"O\")\n",
    "        else:\n",
    "            return (\"O\", \"X\")"
   ]
  },
  {
   "cell_type": "code",
   "execution_count": 50,
   "id": "46eeced9",
   "metadata": {},
   "outputs": [],
   "source": [
    "def chi_inizia():\n",
    "    if random.randint(0, 1) == 0:\n",
    "        return \"computer\"\n",
    "    else:\n",
    "        return \"giocatore\""
   ]
  },
  {
   "cell_type": "code",
   "execution_count": 51,
   "id": "ec7999e7",
   "metadata": {},
   "outputs": [],
   "source": [
    "def gioca_ancora():\n",
    "    print(\"Vuoi giocare ancora? (s = Si , n = No)\")\n",
    "    return input().lower().startswith(\"s\")"
   ]
  },
  {
   "cell_type": "code",
   "execution_count": 52,
   "id": "6c1c0000",
   "metadata": {},
   "outputs": [],
   "source": [
    "def fai_mossa(tabella, lettera, mossa):\n",
    "    tabella[mossa] = lettera"
   ]
  },
  {
   "cell_type": "code",
   "execution_count": 53,
   "id": "420684b2",
   "metadata": {},
   "outputs": [],
   "source": [
    "def vincitore(tabella, lettera):\n",
    "    return ((tabella[7] == lettera and tabella[8] == lettera and tabella[9] == lettera) or\n",
    "            (tabella[4] == lettera and tabella[5] == lettera and tabella[6] == lettera) or\n",
    "            (tabella[1] == lettera and tabella[2] == lettera and tabella[3] == lettera) or\n",
    "            (tabella[7] == lettera and tabella[4] == lettera and tabella[1] == lettera) or \n",
    "            (tabella[8] == lettera and tabella[5] == lettera and tabella[2] == lettera) or\n",
    "            (tabella[9] == lettera and tabella[6] == lettera and tabella[3] == lettera) or\n",
    "            (tabella[7] == lettera and tabella[5] == lettera and tabella[3] == lettera) or\n",
    "            (tabella[9] == lettera and tabella[5] == lettera and tabella[1] == lettera))"
   ]
  },
  {
   "cell_type": "code",
   "execution_count": 54,
   "id": "39385c79",
   "metadata": {},
   "outputs": [],
   "source": [
    "def spazio_libero(tabella, mossa):\n",
    "    return tabella[mossa] == \" \""
   ]
  },
  {
   "cell_type": "code",
   "execution_count": 55,
   "id": "e3099bb0",
   "metadata": {},
   "outputs": [],
   "source": [
    "def crea_copia_tabella(tabella):\n",
    "    copiaTab = []\n",
    "    for i in tabella:\n",
    "        copiaTab.append(i)\n",
    "    return copiaTab"
   ]
  },
  {
   "cell_type": "code",
   "execution_count": 56,
   "id": "4fddaa01",
   "metadata": {},
   "outputs": [],
   "source": [
    "def mossa_giocatore(tabella):\n",
    "    mossa = \" \"\n",
    "    while mossa not in \"1 2 3 4 5 6 7 8 9\".split() or not spazio_libero(tabella, int(mossa)):\n",
    "        print(\"Quale sará la tua prossima mossa? (1-9)\")\n",
    "        mossa = input()\n",
    "    return int(mossa)"
   ]
  },
  {
   "cell_type": "code",
   "execution_count": 57,
   "id": "89eb8b07",
   "metadata": {},
   "outputs": [],
   "source": [
    "def mossa_casuale(tabella, lista_mosse):\n",
    "    possibili_mosse = []\n",
    "    for i in lista_mosse:\n",
    "        if spazio_libero(tabella, i):\n",
    "            possibili_mosse.append(i)\n",
    "    \n",
    "    if len(possibili_mosse) != 0:\n",
    "        return random.choice(possibili_mosse)\n",
    "    else:\n",
    "        return None"
   ]
  },
  {
   "cell_type": "code",
   "execution_count": 58,
   "id": "32b091ab",
   "metadata": {},
   "outputs": [],
   "source": [
    "def mossa_computer(tabella, lettera_computer):\n",
    "    if lettera_computer == \"X\":\n",
    "        lettera_giocatore = \"O\"\n",
    "    else:\n",
    "        lettera_giocatore = \"X\"\n",
    "    \n",
    "    for i in range(1, 10):\n",
    "        copia = crea_copia_tabella(tabella)\n",
    "        if spazio_libero(copia, i):\n",
    "            fai_mossa(copia, lettera_computer, i)\n",
    "            if vincitore(copia, lettera_computer):\n",
    "                return i\n",
    "    \n",
    "    for i in range(1, 10):\n",
    "        copia = crea_copia_tabella(tabella)\n",
    "        if spazio_libero(copia, i):\n",
    "            fai_mossa(copia, lettera_giocatore, i)\n",
    "            if vincitore(copia, lettera_giocatore):\n",
    "                return i\n",
    "    \n",
    "    mossa = mossa_casuale(tabella, [1, 3, 7, 9])\n",
    "    if mossa != None:\n",
    "        return mossa\n",
    "    \n",
    "    if spazio_libero(tabella, 5):\n",
    "        return 5\n",
    "    \n",
    "    return mossa_casuale(tabella, [2, 4, 6, 8])"
   ]
  },
  {
   "cell_type": "code",
   "execution_count": 59,
   "id": "5d01af06",
   "metadata": {},
   "outputs": [],
   "source": [
    "def tabella_completa(tabella):\n",
    "    for i in range(1, 10):\n",
    "        if spazio_libero(tabella, i):\n",
    "            return False\n",
    "        else:\n",
    "            return True"
   ]
  },
  {
   "cell_type": "code",
   "execution_count": 60,
   "id": "cd13ffb1",
   "metadata": {},
   "outputs": [
    {
     "name": "stdout",
     "output_type": "stream",
     "text": [
      " |   |\n",
      " |   |    \n",
      " |   |\n",
      "-------------------\n",
      " |   |\n",
      " |   |    \n",
      " |   |\n",
      "-------------------\n",
      " |   |\n",
      " |   |   \n",
      " |   |\n",
      "Benvenuto, a Tris!\n",
      "Vuoi la X o la O\n"
     ]
    },
    {
     "name": "stdout",
     "output_type": "stream",
     "text": [
      "Il computer parte per primo.\n",
      " |   |\n",
      " |   |   O\n",
      " |   |\n",
      "-------------------\n",
      " |   |\n",
      " |   |    \n",
      " |   |\n",
      "-------------------\n",
      " |   |\n",
      " |   |   \n",
      " |   |\n",
      "Quale sará la tua prossima mossa? (1-9)\n",
      " |   |\n",
      " |   |   O\n",
      " |   |\n",
      "-------------------\n",
      " |   |\n",
      " |  X|    \n",
      " |   |\n",
      "-------------------\n",
      " |   |\n",
      " |  X|   \n",
      " |   |\n",
      "Quale sará la tua prossima mossa? (1-9)\n",
      "Quale sará la tua prossima mossa? (1-9)\n",
      "Quale sará la tua prossima mossa? (1-9)\n",
      " |   |\n",
      "X|   |   O\n",
      " |   |\n",
      "-------------------\n",
      " |   |\n",
      " |  X|    \n",
      " |   |\n",
      "-------------------\n",
      " |   |\n",
      " |  X|   \n",
      " |   |\n",
      "La partita é finita in paritá.\n",
      "Vuoi giocare ancora? (s = Si , n = No)\n"
     ]
    }
   ],
   "source": [
    "disegna_tabella([\" \"] * 10)\n",
    "\n",
    "print(\"Benvenuto, a Tris!\")\n",
    "\n",
    "while True:\n",
    "    tabella = [\" \"] * 10\n",
    "    lettera_giocatore, lettera_computer = letteraGiocatore()\n",
    "    turno = chi_inizia()\n",
    "    print(\"Il \" + turno + \" parte per primo.\")\n",
    "    partita = True\n",
    "\n",
    "    while partita:\n",
    "        if turno == \"giocatore\":\n",
    "            disegna_tabella(tabella)\n",
    "            mossa = mossa_giocatore(tabella)\n",
    "            fai_mossa(tabella, lettera_giocatore, mossa)\n",
    "        \n",
    "            if vincitore(tabella, lettera_giocatore):\n",
    "                disegna_tabella(tabella)\n",
    "                print(\"Hai vinto!\")\n",
    "                partita = False\n",
    "            else:\n",
    "                if tabella_completa(tabella):\n",
    "                    disegna_tabella(tabella)\n",
    "                    print(\"La partita é finita in paritá.\")\n",
    "                    break\n",
    "                else:\n",
    "                    turno = \"computer\"\n",
    "        else:\n",
    "            mossa = mossa_computer(tabella, lettera_computer)\n",
    "            fai_mossa(tabella, lettera_computer, mossa)\n",
    "\n",
    "            if vincitore(tabella, lettera_computer):\n",
    "                disegna_tabella(tabella)\n",
    "                print(\"Il compuet ti ha sconfitto. Hai perso!\")\n",
    "                partita = False\n",
    "            else:\n",
    "                turno = \"giocatore\"\n",
    "    \n",
    "    if not gioca_ancora():\n",
    "        break\n"
   ]
  }
 ],
 "metadata": {
  "kernelspec": {
   "display_name": "env_learning",
   "language": "python",
   "name": "python3"
  },
  "language_info": {
   "codemirror_mode": {
    "name": "ipython",
    "version": 3
   },
   "file_extension": ".py",
   "mimetype": "text/x-python",
   "name": "python",
   "nbconvert_exporter": "python",
   "pygments_lexer": "ipython3",
   "version": "3.10.12"
  }
 },
 "nbformat": 4,
 "nbformat_minor": 5
}
