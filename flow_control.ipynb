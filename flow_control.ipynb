{
 "cells": [
  {
   "cell_type": "markdown",
   "id": "d87803d6",
   "metadata": {},
   "source": [
    "# If\n",
    "L'if é una condizione dove se succede una determinata cosa il codice deve andare su un ramo dove ci sará altro codice. I due rami sono True \n",
    "e False (Vero e Falso). La condizione é formato da 3 elementi: variabile, operatore di confronto, variabili o numeri o stringhe."
   ]
  },
  {
   "cell_type": "code",
   "execution_count": null,
   "id": "7cdb7443",
   "metadata": {},
   "outputs": [
    {
     "name": "stdout",
     "output_type": "stream",
     "text": [
      "Benvenuto Mario!\n",
      "2\n",
      "4\n",
      "I numeri sono uguali\n",
      "True\n",
      "None\n"
     ]
    }
   ],
   "source": [
    "def controllo(nome):\n",
    "    if nome == \"Mario\": # if VARIABILE operatore di confronto e numeri, stringhe o variabili\n",
    "        print(\"Benvenuto Mario!\")\n",
    "\n",
    "controllo(\"Mario\") # Stamperá il benvenuto\n",
    "controllo(\"Saro\")\n",
    "#-----------------------------------------------------------------------------------------------------\n",
    "def maggiore(x, y):\n",
    "    if x > y: # Se x é maggiore di y\n",
    "        return x\n",
    "    if x < y: # Se x é minore di y\n",
    "        return y\n",
    "    if x == y: # Se x é uguale a y\n",
    "        return \"I numeri sono uguali\"\n",
    "print(maggiore(1, 2))\n",
    "print(maggiore(4, 3))\n",
    "print(maggiore(5, 5))\n",
    "#-----------------------------------------------------------------------------------------------------\n",
    "def operare(x ,y):\n",
    "    if (x > 3) and (y > 5): # Si possono mettere pure gli operatori logici visto che la condizione risponde in modo booleano True e False\n",
    "        return True\n",
    "\n",
    "print(operare(5, 8)) # True\n",
    "print(operare(1, 3)) # None"
   ]
  },
  {
   "cell_type": "markdown",
   "id": "da9bafbe",
   "metadata": {},
   "source": [
    "# Else and Elif\n",
    "Quando si va nel ramo falso é l'else, succede quando una condizione non viene rispettata. Elif si mette quando il primo if deve andare nel ramo False quindi nella parte dell'Else, ma se nell'else devi mettere l'if basta mettere elif al poto di else per dire (else if)."
   ]
  },
  {
   "cell_type": "code",
   "execution_count": 6,
   "id": "c9aeaee7",
   "metadata": {},
   "outputs": [
    {
     "name": "stdout",
     "output_type": "stream",
     "text": [
      "x maggiore di 3\n",
      "x minore uguale a 3\n",
      "Sei minorenne\n",
      "Sei maggiorenne\n",
      "Sei maggiorenne\n",
      "Sei quasi maggiorenne\n",
      "Sei quasi maggiorenne\n",
      "Sei minorenne\n"
     ]
    }
   ],
   "source": [
    "x = 5\n",
    "if x > 3: # True\n",
    "    print(\"x maggiore di 3\")\n",
    "else:\n",
    "    print(\"x minore uguale a 3\")\n",
    "\n",
    "x = 2\n",
    "if x > 3: # False\n",
    "    print(\"x maggiore di 3\")\n",
    "else:\n",
    "    print(\"x minore uguale a 3\")\n",
    "\n",
    "#------------------------------------------------------------\n",
    "def controllo_eta(eta):\n",
    "    if eta >= 18:\n",
    "        print(\"Sei maggiorenne\")\n",
    "    else:\n",
    "        print(\"Sei minorenne\")\n",
    "\n",
    "controllo_eta(9)\n",
    "controllo_eta(20)\n",
    "#------------------------------------------------------------\n",
    "def controllo_eta_2(eta):\n",
    "    if eta >= 18:\n",
    "        print(\"Sei maggiorenne\")\n",
    "    elif eta >= 16: # Un else che ha incorporato una if dove ha anche una condizione\n",
    "        print(\"Sei quasi maggiorenne\")\n",
    "    else:\n",
    "        print(\"Sei minorenne\")\n",
    "\n",
    "controllo_eta_2(22)\n",
    "controllo_eta_2(16)\n",
    "controllo_eta_2(17)\n",
    "controllo_eta_2(12)"
   ]
  }
 ],
 "metadata": {
  "kernelspec": {
   "display_name": "env_learning",
   "language": "python",
   "name": "python3"
  },
  "language_info": {
   "codemirror_mode": {
    "name": "ipython",
    "version": 3
   },
   "file_extension": ".py",
   "mimetype": "text/x-python",
   "name": "python",
   "nbconvert_exporter": "python",
   "pygments_lexer": "ipython3",
   "version": "3.10.12"
  }
 },
 "nbformat": 4,
 "nbformat_minor": 5
}
