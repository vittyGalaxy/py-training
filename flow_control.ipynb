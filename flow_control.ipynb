{
 "cells": [
  {
   "cell_type": "markdown",
   "id": "d87803d6",
   "metadata": {},
   "source": [
    "# If\n",
    "L'if é una condizione dove se succede una determinata cosa il codice deve andare su un ramo dove ci sará altro codice. I due rami sono True \n",
    "e False (Vero e Falso). La condizione é formato da 3 elementi: variabile, operatore di confronto, variabili o numeri o stringhe."
   ]
  },
  {
   "cell_type": "code",
   "execution_count": null,
   "id": "7cdb7443",
   "metadata": {},
   "outputs": [
    {
     "name": "stdout",
     "output_type": "stream",
     "text": [
      "Benvenuto Mario!\n",
      "2\n",
      "4\n",
      "I numeri sono uguali\n",
      "True\n",
      "None\n"
     ]
    }
   ],
   "source": [
    "def controllo(nome):\n",
    "    if nome == \"Mario\": # if VARIABILE operatore di confronto e numeri, stringhe o variabili\n",
    "        print(\"Benvenuto Mario!\")\n",
    "\n",
    "controllo(\"Mario\") # Stamperá il benvenuto\n",
    "controllo(\"Saro\")\n",
    "#-----------------------------------------------------------------------------------------------------\n",
    "def maggiore(x, y):\n",
    "    if x > y: # Se x é maggiore di y\n",
    "        return x\n",
    "    if x < y: # Se x é minore di y\n",
    "        return y\n",
    "    if x == y: # Se x é uguale a y\n",
    "        return \"I numeri sono uguali\"\n",
    "print(maggiore(1, 2))\n",
    "print(maggiore(4, 3))\n",
    "print(maggiore(5, 5))\n",
    "#-----------------------------------------------------------------------------------------------------\n",
    "def operare(x ,y):\n",
    "    if (x > 3) and (y > 5): # Si possono mettere pure gli operatori logici visto che la condizione risponde in modo booleano True e False\n",
    "        return True\n",
    "\n",
    "print(operare(5, 8)) # True\n",
    "print(operare(1, 3)) # None"
   ]
  },
  {
   "cell_type": "markdown",
   "id": "da9bafbe",
   "metadata": {},
   "source": [
    "# Else and Elif\n",
    "Quando si va nel ramo falso é l'else, succede quando una condizione non viene rispettata. Elif si mette quando il primo if deve andare nel ramo False quindi nella parte dell'Else, ma se nell'else devi mettere l'if basta mettere elif al poto di else per dire (else if)."
   ]
  },
  {
   "cell_type": "code",
   "execution_count": 6,
   "id": "c9aeaee7",
   "metadata": {},
   "outputs": [
    {
     "name": "stdout",
     "output_type": "stream",
     "text": [
      "x maggiore di 3\n",
      "x minore uguale a 3\n",
      "Sei minorenne\n",
      "Sei maggiorenne\n",
      "Sei maggiorenne\n",
      "Sei quasi maggiorenne\n",
      "Sei quasi maggiorenne\n",
      "Sei minorenne\n"
     ]
    }
   ],
   "source": [
    "x = 5\n",
    "if x > 3: # True\n",
    "    print(\"x maggiore di 3\")\n",
    "else:\n",
    "    print(\"x minore uguale a 3\")\n",
    "\n",
    "x = 2\n",
    "if x > 3: # False\n",
    "    print(\"x maggiore di 3\")\n",
    "else:\n",
    "    print(\"x minore uguale a 3\")\n",
    "\n",
    "#------------------------------------------------------------\n",
    "def controllo_eta(eta):\n",
    "    if eta >= 18:\n",
    "        print(\"Sei maggiorenne\")\n",
    "    else:\n",
    "        print(\"Sei minorenne\")\n",
    "\n",
    "controllo_eta(9)\n",
    "controllo_eta(20)\n",
    "#------------------------------------------------------------\n",
    "def controllo_eta_2(eta):\n",
    "    if eta >= 18:\n",
    "        print(\"Sei maggiorenne\")\n",
    "    elif eta >= 16: # Un else che ha incorporato una if dove ha anche una condizione\n",
    "        print(\"Sei quasi maggiorenne\")\n",
    "    else:\n",
    "        print(\"Sei minorenne\")\n",
    "\n",
    "controllo_eta_2(22)\n",
    "controllo_eta_2(16)\n",
    "controllo_eta_2(17)\n",
    "controllo_eta_2(12)"
   ]
  },
  {
   "cell_type": "markdown",
   "id": "4c382fd6",
   "metadata": {},
   "source": [
    "# If nested\n",
    "Gli if annidati si trovano dentro altri if."
   ]
  },
  {
   "cell_type": "code",
   "execution_count": 8,
   "id": "4d22808b",
   "metadata": {},
   "outputs": [
    {
     "name": "stdout",
     "output_type": "stream",
     "text": [
      "Il numero e' maggiore di 6\n",
      "Il numero e' compreso tra 6 e 30\n",
      "Il numero e' minore di 15\n"
     ]
    }
   ],
   "source": [
    "num = 10\n",
    "\n",
    "if num >= 6:\n",
    "    print(\"Il numero e' maggiore di 6\")\n",
    "    if num <= 30:\n",
    "        print(\"Il numero e' compreso tra 6 e 30\")\n",
    "        if num <= 15:\n",
    "            print(\"Il numero e' minore di 15\")"
   ]
  },
  {
   "cell_type": "markdown",
   "id": "55b276b7",
   "metadata": {},
   "source": [
    "# Try, Except, Finally\n",
    "Try prova delle righe di codice e se c'é un errore si va nelle righe di codice dell'except. Il finally vá alla fine di tutto e viene eseguito qualunque cosa succeda."
   ]
  },
  {
   "cell_type": "code",
   "execution_count": 17,
   "id": "48740d19",
   "metadata": {},
   "outputs": [
    {
     "name": "stdout",
     "output_type": "stream",
     "text": [
      "0.75\n",
      "Attento, c'e' un errore\n",
      "Attento, c'e' un errore\n",
      "Attento, hai diviso per 0\n",
      "Programma terminato\n",
      "0.6\n",
      "Programma terminato\n"
     ]
    }
   ],
   "source": [
    "def divide(a , b):\n",
    "    try:\n",
    "        t = a / b\n",
    "        print(t)\n",
    "    except:\n",
    "        print(\"Attento, c'e' un errore\")\n",
    "\n",
    "divide(3, 4)\n",
    "divide(3, 0)\n",
    "#-----------------------------------------------------------------\n",
    "def divisione(a , b):\n",
    "    try:\n",
    "        t = a / c # funziona except anche se la variabile non esiste\n",
    "        print(t)\n",
    "    except:\n",
    "        print(\"Attento, c'e' un errore\")\n",
    "\n",
    "divisione(3, 0)\n",
    "#-----------------------------------------------------------------\n",
    "def div(a , b):\n",
    "    try:\n",
    "        t = a / b \n",
    "        print(t)\n",
    "    except ZeroDivisionError: # Se si divide per 0, se si mette TypeError invece ce lo dice lui che é un errore non il print\n",
    "        print(\"Attento, hai diviso per 0\")\n",
    "    finally: # Anche se c'é un errore lo esegue comunque\n",
    "        print(\"Programma terminato\")\n",
    "\n",
    "div(3, 0)\n",
    "div(3, 5)"
   ]
  },
  {
   "cell_type": "markdown",
   "id": "9ee0956d",
   "metadata": {},
   "source": [
    "# For\n",
    "Il for é un ciclo determinato per fare ciclare dei pezzi di codice. Si usa mettendo for variabile_temporanea in (lista_elementi o iterazioni):."
   ]
  },
  {
   "cell_type": "code",
   "execution_count": 26,
   "id": "c9d5b26b",
   "metadata": {},
   "outputs": [
    {
     "name": "stdout",
     "output_type": "stream",
     "text": [
      "Benvenuto/a!\n",
      "Benvenuto/a!\n",
      "Benvenuto/a!\n",
      "Benvenuto/a!\n",
      "\n",
      "Benvenuto/a!\n",
      "Benvenuto/a!\n",
      "Benvenuto/a!\n",
      "Benvenuto/a!\n",
      "\n",
      "Anna\n",
      "Giacomo\n",
      "Matteo\n",
      "Luca\n",
      "\n",
      "Anna\n",
      "Giacomo\n",
      "Programma terminato!\n",
      "\n",
      "23\n",
      "7\n",
      "9\n"
     ]
    }
   ],
   "source": [
    "lista = [\"Anna\", \"Giacomo\", \"Matteo\", \"Luca\"]\n",
    "\n",
    "for nomi in lista: # lista ha 4 elementi quindi fará 4 volte questo codice\n",
    "    print(\"Benvenuto/a!\")\n",
    "\n",
    "print()\n",
    "\n",
    "for i in range(4): # range da 0 a n-1 quindi da 0 a 3 (0, 1, 2, 3)\n",
    "    print(\"Benvenuto/a!\")\n",
    "\n",
    "print()\n",
    "\n",
    "for nomi in lista: # La variabile nomi ogni turno ha un valore diverso in cui avrá l'elemento della lista\n",
    "    print(nomi)\n",
    "\n",
    "print()\n",
    "\n",
    "for nomi in lista:\n",
    "    print(nomi)\n",
    "    if nomi == \"Giacomo\":\n",
    "        break # Break é un istruzione per fare uscire dai cicli\n",
    "\n",
    "print(\"Programma terminato!\")\n",
    "print()\n",
    "\n",
    "lista = [1, 23, 3, 7, 9, 2, 4]\n",
    "for i in lista:\n",
    "    if i < 5:\n",
    "        continue\n",
    "    print(i)"
   ]
  },
  {
   "cell_type": "markdown",
   "id": "c023fc6d",
   "metadata": {},
   "source": [
    "# While\n",
    "Il while é un ciclo indefinito, deve soddisfare una condizione per uscire. Per usarla si deve scrivere while condizione:."
   ]
  },
  {
   "cell_type": "code",
   "execution_count": 29,
   "id": "23b44b7b",
   "metadata": {},
   "outputs": [
    {
     "name": "stdout",
     "output_type": "stream",
     "text": [
      "[29, 7, 34, 89, 8]\n",
      "0\n",
      "1\n",
      "2\n",
      "3\n",
      "4\n",
      "5\n",
      "6\n",
      "7\n",
      "8\n",
      "9\n"
     ]
    }
   ],
   "source": [
    "lista = [8, 89, 34, 7, 29]\n",
    "\n",
    "lista2 = []\n",
    "\n",
    "lenght = len(lista)\n",
    "\n",
    "while len(lista2) != lenght: # lunghezza della lista2 é diverso dalla lunghezza d quella della lista1\n",
    "    num = lista.pop()\n",
    "    lista2.append(num)\n",
    "\n",
    "print(lista2)\n",
    "#-------------------------------------------------------------------------------------------------------------------\n",
    "i = 0\n",
    "while i < 10:\n",
    "    print(i)\n",
    "    i += 1"
   ]
  },
  {
   "cell_type": "markdown",
   "id": "af5d90de",
   "metadata": {},
   "source": [
    "# Nested Loop\n",
    "Il loop annidato é quando c'é un loop dentro un altro loop."
   ]
  },
  {
   "cell_type": "code",
   "execution_count": null,
   "id": "709e7595",
   "metadata": {},
   "outputs": [
    {
     "name": "stdout",
     "output_type": "stream",
     "text": [
      "160\n"
     ]
    }
   ],
   "source": [
    "lista = [[12, 34, 34], [2, 5, 67], [2, 4]]\n",
    "\n",
    "total = 0\n",
    "\n",
    "for regione in lista:\n",
    "    for e in regione: # loop annidato\n",
    "        total += e\n",
    "\n",
    "print(total)"
   ]
  },
  {
   "cell_type": "markdown",
   "id": "7c3c6228",
   "metadata": {},
   "source": [
    "# Create a list in advanced way\n",
    "Questo é un sistema avanzato per creare una lista, mettendo in una riga di codice sia for che if."
   ]
  },
  {
   "cell_type": "code",
   "execution_count": 3,
   "id": "86e80b35",
   "metadata": {},
   "outputs": [
    {
     "name": "stdout",
     "output_type": "stream",
     "text": [
      "[155, 160, 153]\n",
      "[10, 4, 16, 24, 6]\n"
     ]
    }
   ],
   "source": [
    "lista = [155, 160, 153, 146, 149]\n",
    "\n",
    "altezze = [alt for alt in lista if alt > 150]\n",
    "\n",
    "print(altezze)\n",
    "\n",
    "lista = [5, 2, 8, 12, 3]\n",
    "b = [x * 2 for x in lista]\n",
    "\n",
    "print(b)\n"
   ]
  },
  {
   "cell_type": "markdown",
   "id": "214e4bc1",
   "metadata": {},
   "source": [
    "# Creating a dictionary with two lists\n",
    "Questo é un modo per creare un dictionary."
   ]
  },
  {
   "cell_type": "code",
   "execution_count": 9,
   "id": "b89a739f",
   "metadata": {},
   "outputs": [
    {
     "name": "stdout",
     "output_type": "stream",
     "text": [
      "[('a', '13'), ('b', '2'), ('c', '5'), ('d', '2')]\n",
      "{'a': '13', 'b': '2', 'c': '5', 'd': '2'}\n"
     ]
    }
   ],
   "source": [
    "lettere = [\"a\", \"b\", \"c\", \"d\", \"e\"]\n",
    "punti = [\"1\" \"3\", \"2\", \"5\", \"2\"]\n",
    "\n",
    "a = list(zip(lettere, punti))\n",
    "print(a)\n",
    "\n",
    "dictionary = {key:value for key, value in a}\n",
    "print(dictionary)"
   ]
  },
  {
   "cell_type": "markdown",
   "id": "c37bda69",
   "metadata": {},
   "source": [
    "# Module\n",
    "Un modulo é una raccolta di istruzioni Python destinate ad essere usate. I moduli possono essere chiamati pacchetti o librerie. Un pacchetto é una directory che contiene una collezione di moduli. Per richiamare un modulo bisogna scrivere: from nome_modulo import nome_oggetto. Una libreria potrebbe rallentare il codice, quindi bisogna importare quello che abbiamo bisogno."
   ]
  },
  {
   "cell_type": "code",
   "execution_count": 10,
   "id": "589104d9",
   "metadata": {},
   "outputs": [
    {
     "name": "stdout",
     "output_type": "stream",
     "text": [
      "2025-06-12 11:16:38.546532\n"
     ]
    }
   ],
   "source": [
    "from datetime import datetime\n",
    "\n",
    "ora_esatta = datetime.now()\n",
    "print(ora_esatta)"
   ]
  },
  {
   "cell_type": "markdown",
   "id": "8fb31f5c",
   "metadata": {},
   "source": [
    "# Sort out the data"
   ]
  },
  {
   "cell_type": "code",
   "execution_count": null,
   "id": "a75e050d",
   "metadata": {},
   "outputs": [
    {
     "name": "stdout",
     "output_type": "stream",
     "text": [
      "['Tentazioni:Aldo Bruno:1990', ' Attacco cartico:Marino Carra:1988', ' Santo subito!:Gio Batta:2001', ' Sempre tuo:Stefano Cosmi:2997']\n",
      "[['Tentazioni', 'Aldo Bruno', '1990'], [' Attacco cartico', 'Marino Carra', '1988'], [' Santo subito!', 'Gio Batta', '2001'], [' Sempre tuo', 'Stefano Cosmi', '2997']]\n",
      "Il libro \"Tentazioni\" é stato scritto da Aldo Bruno nel 1990. \n",
      "\n",
      "Il libro \" Attacco cartico\" é stato scritto da Marino Carra nel 1988. \n",
      "\n",
      "Il libro \" Santo subito!\" é stato scritto da Gio Batta nel 2001. \n",
      "\n",
      "Il libro \" Sempre tuo\" é stato scritto da Stefano Cosmi nel 2997. \n",
      "\n"
     ]
    }
   ],
   "source": [
    "libri = \"Tentazioni:Aldo Bruno:1990, Attacco cartico:Marino Carra:1988, Santo subito!:Gio Batta:2001, Sempre tuo:Stefano Cosmi:2997\"\n",
    "lista_libri = libri.split(\",\") # divide dalla stringa le ,\n",
    "print(lista_libri)\n",
    "\n",
    "lista_libri_dettagli = []\n",
    "\n",
    "for libro in lista_libri:\n",
    "    lista_libri_dettagli.append(libro.split(\":\")) # aggiungo a lista_libri_dettagli la separazione dei :\n",
    "\n",
    "print(lista_libri_dettagli)\n",
    "\n",
    "titolo = []\n",
    "autore = []\n",
    "data = []\n",
    "\n",
    "for libro in lista_libri_dettagli:\n",
    "    titolo.append(libro[0])\n",
    "    autore.append(libro[1])\n",
    "    data.append(libro[2])\n",
    "\n",
    "for i in range(0, len(lista_libri_dettagli)):\n",
    "    print(\"Il libro \\\"{titolo}\\\" é stato scritto da {autore} nel {data}. \\n\".format(titolo=titolo[i], autore=autore[i], data=data[i]))\n"
   ]
  }
 ],
 "metadata": {
  "kernelspec": {
   "display_name": "env_learning",
   "language": "python",
   "name": "python3"
  },
  "language_info": {
   "codemirror_mode": {
    "name": "ipython",
    "version": 3
   },
   "file_extension": ".py",
   "mimetype": "text/x-python",
   "name": "python",
   "nbconvert_exporter": "python",
   "pygments_lexer": "ipython3",
   "version": "3.10.12"
  }
 },
 "nbformat": 4,
 "nbformat_minor": 5
}
