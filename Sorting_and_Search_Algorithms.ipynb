{
 "cells": [
  {
   "cell_type": "markdown",
   "id": "44ca460c",
   "metadata": {},
   "source": [
    "# Sorting and Search Algorithms I (Bubble sort)\n",
    "Quello che adesso vedremo é un algoritmo di ordinamento dove andra ordinare una lista dal numero piú piccolo al numero piú grande. Come algoritmo di ordinamento ho usato il bubble sort."
   ]
  },
  {
   "cell_type": "code",
   "execution_count": 2,
   "id": "67fbc677",
   "metadata": {},
   "outputs": [
    {
     "name": "stdout",
     "output_type": "stream",
     "text": [
      "[1, 2, 4, 6, 16, 34, 78]\n"
     ]
    }
   ],
   "source": [
    "def bubble_sort(lst):\n",
    "    scambio_necessario = True\n",
    "    while scambio_necessario:\n",
    "        scambio_necessario = False\n",
    "        for i in range(len(lst) - 1):\n",
    "            if lst[i] > lst[i + 1]:\n",
    "                temp = lst[i]\n",
    "                lst[i] = lst[i + 1]\n",
    "                lst[i + 1] = temp\n",
    "                bubble_sort(lst)\n",
    "    \n",
    "    return lst\n",
    "\n",
    "print(bubble_sort([34, 16, 2, 78, 4, 6, 1]))"
   ]
  },
  {
   "cell_type": "markdown",
   "id": "6d2d3e60",
   "metadata": {},
   "source": [
    "# Sorting and Search Algorithms II (Merge sort)"
   ]
  },
  {
   "cell_type": "code",
   "execution_count": null,
   "metadata": {},
   "outputs": [
    {
     "name": "stdout",
     "output_type": "stream",
     "text": [
      "[1, 2, 3, 4, 5, 6, 7, 8, 9]\n"
     ]
    }
   ],
   "source": [
    "def merge_sort(lst):\n",
    "    if len(lst) <= 1:\n",
    "        return lst\n",
    "    else:\n",
    "        midpoint = len(lst) // 2\n",
    "        left = merge_sort(lst[:midpoint])\n",
    "        right = merge_sort(lst[midpoint:])\n",
    "\n",
    "        new_lst = []\n",
    "        while len(left) > 0 and len(right) > 0:\n",
    "            if left[0] < right[0]:\n",
    "                new_lst.append(left[0])\n",
    "                del left[0]\n",
    "            else:\n",
    "                new_lst.append(right[0])\n",
    "                del right[0]\n",
    "        \n",
    "        new_lst.extend(left)\n",
    "        new_lst.extend(right)\n",
    "\n",
    "        return new_lst\n",
    "\n",
    "print(merge_sort([2, 5, 3, 8, 6, 9, 1, 4, 7]))"
   ]
  }
 ],
 "metadata": {
  "kernelspec": {
   "display_name": "env_learning",
   "language": "python",
   "name": "python3"
  },
  "language_info": {
   "codemirror_mode": {
    "name": "ipython",
    "version": 3
   },
   "file_extension": ".py",
   "mimetype": "text/x-python",
   "name": "python",
   "nbconvert_exporter": "python",
   "pygments_lexer": "ipython3",
   "version": "3.10.12"
  }
 },
 "nbformat": 4,
 "nbformat_minor": 5
}
