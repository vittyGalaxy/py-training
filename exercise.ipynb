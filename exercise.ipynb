{
 "cells": [
  {
   "cell_type": "markdown",
   "id": "70c9f74f",
   "metadata": {},
   "source": [
    "# Exercise1: List\n",
    "    Crea una lista chiamata abilità e riempila con i seguenti elementi: \"comunicazione\",\"memoria\",\"ragionamento\",\"concentrazione\".\n",
    "\n",
    "    Crea una lista chiamata voti e riempila con i seguenti elementi: 87, 95, 89, 75.\n",
    "\n",
    "    Unisci le due liste in modo che vengano accoppiati. Converti in lista il risultato e salvalo in una variabile.\n",
    "\n",
    "    Stampa a video la variabile.\n",
    "\n",
    "    Aggiungi ora una nuova abilità, \"agilità mentale\" alla lista abilità. Poi aggiungi 80 alla lista voti."
   ]
  },
  {
   "cell_type": "code",
   "execution_count": 3,
   "id": "76109fd0",
   "metadata": {},
   "outputs": [
    {
     "name": "stdout",
     "output_type": "stream",
     "text": [
      "['comunicazione', 'memoria', 'ragionamento', 'concentrazione', 'agilitá mentale']\n",
      "[87, 95, 89, 75, 80]\n",
      "[('comunicazione', 87), ('memoria', 95), ('ragionamento', 89), ('concentrazione', 75), ('agilitá mentale', 80)]\n"
     ]
    }
   ],
   "source": [
    "abilita = [\"comunicazione\", \"memoria\", \"ragionamento\", \"concentrazione\"]\n",
    "voti = [87, 95, 89, 75]\n",
    "\n",
    "abilita.append(\"agilitá mentale\")\n",
    "voti.append(80)\n",
    "print(abilita)\n",
    "print(voti)\n",
    "unione = list(zip(abilita, voti))\n",
    "\n",
    "print(unione)"
   ]
  },
  {
   "cell_type": "markdown",
   "id": "cb29d57b",
   "metadata": {},
   "source": [
    "# Exercise2: Directory\n",
    "    Sei il gestore di un bar in pieno centro della tua città e vuoi gestire i prezzi dei prodotti che hai in vendita e modificarli a tuo piacimento.\n",
    "\n",
    "    Per fare questo utilizzerai il seguente dictionary:\n",
    "\n",
    "        bar = {\"caffè\": 1, \"cappuccino\": 2, \"cornetto\": 2, \"spremuta\": 3}\n",
    "\n",
    "    Domande per questo compito\n",
    "\n",
    "    Stampa a terminale il valore assegnato alla key cornetto.\n",
    "\n",
    "    Aumenta il prezzo del caffè a 2 e poi stampa il nuovo valore.\n",
    "\n",
    "    Crea una variabile prodotti ed assegnagli tutte le chiavi del tuo dictionary e poi stampa la variabile.\n",
    "\n",
    "    Inserisci due nuovi prodotti nel tuo listino, contemporaneamente, cioccolata con valore 3 e krapfen con valore 2. Stampa il risultato dell'aggiornamento.\n",
    "\n",
    "    Togli dal listino i krapfen e salva il prezzo nella variabile krapfen e poi stampa la variabile."
   ]
  },
  {
   "cell_type": "code",
   "execution_count": 9,
   "id": "d4f35868",
   "metadata": {},
   "outputs": [
    {
     "name": "stdout",
     "output_type": "stream",
     "text": [
      "2\n",
      "2\n",
      "dict_keys(['caffé', 'cappuccino', 'cornetto', 'spremuta'])\n",
      "{'caffé': 2, 'cappuccino': 2, 'cornetto': 2, 'spremuta': 3, 'cioccolata': 3, 'krapfen': 2}\n",
      "2\n"
     ]
    }
   ],
   "source": [
    "bar = {\"caffé\": 1, \"cappuccino\": 2, \"cornetto\": 2, \"spremuta\": 3}\n",
    "print(bar[\"cornetto\"])\n",
    "\n",
    "bar[\"caffé\"] = 2\n",
    "print(bar[\"caffé\"])\n",
    "\n",
    "prodotti = bar.keys()\n",
    "print(prodotti)\n",
    "\n",
    "bar.update({\"cioccolata\": 3, \"krapfen\": 2})\n",
    "print(bar)\n",
    "\n",
    "krapfen = bar.pop(\"krapfen\")\n",
    "print(krapfen)"
   ]
  },
  {
   "cell_type": "markdown",
   "id": "12fdd985",
   "metadata": {},
   "source": [
    "# Exercise3: Functions\n",
    "    Definisci una funzione ripeti che ha due parametri, cosa e numero.\n",
    "\n",
    "    Poi assegna ad una variabile chiamata testo il risultato della funzione. Gli argomenti della funzione sono a tua scelta, il parametro cosa deve essere una stringa.\n",
    "\n",
    "    Infine stampa a video la variabile testo."
   ]
  },
  {
   "cell_type": "code",
   "execution_count": 13,
   "id": "d6654b46",
   "metadata": {},
   "outputs": [
    {
     "name": "stdout",
     "output_type": "stream",
     "text": [
      "Ciao3\n"
     ]
    }
   ],
   "source": [
    "def ripeti(cosa, numero):\n",
    "    return cosa + str(numero)\n",
    "\n",
    "testo = ripeti(\"Ciao\", 3)\n",
    "print(testo)"
   ]
  },
  {
   "cell_type": "markdown",
   "id": "fcd7faef",
   "metadata": {},
   "source": [
    "# Exercise4: Recursion\n",
    "    Scrivi una funzione ricorsiva somma che dato un numero n sommi tutti gli interi positivi fino ad n."
   ]
  },
  {
   "cell_type": "code",
   "execution_count": 17,
   "id": "cbef99f6",
   "metadata": {},
   "outputs": [
    {
     "name": "stdout",
     "output_type": "stream",
     "text": [
      "55\n"
     ]
    }
   ],
   "source": [
    "def somma(n):\n",
    "    if n == 1:\n",
    "        return 1\n",
    "    else:\n",
    "        return n + somma(n - 1)\n",
    "\n",
    "n = 10\n",
    "print(somma(n))"
   ]
  },
  {
   "cell_type": "markdown",
   "id": "66123818",
   "metadata": {},
   "source": [
    "# Exercise5: If, Else, Elif\n",
    "    La scuola Giovanni Pascoli ha notato che gli studenti preferiscono ricevere i voti delle lettere piuttosto che in numeri.\n",
    "\n",
    "    Il tuo compito è quello di creare una funzione convertitore  che converte un voto numerico inserito nella valutazione in lettere corretta.\n",
    "\n",
    "    La tua funzione prendere il numero inserito e lo converte come spiegato di seguito:\n",
    "\n",
    "        9.0 o più alto \"A\"\n",
    "\n",
    "        7.0 o più alto \"B\"\n",
    "\n",
    "        6.0 o più alto \"C\"\n",
    "\n",
    "        5.0 o più alto \"D\"\n",
    "\n",
    "        0.0 o più alto \"F\""
   ]
  },
  {
   "cell_type": "code",
   "execution_count": 20,
   "id": "68fca747",
   "metadata": {},
   "outputs": [
    {
     "name": "stdout",
     "output_type": "stream",
     "text": [
      "A\n",
      "A\n",
      "B\n",
      "B\n",
      "C\n",
      "D\n",
      "F\n",
      "F\n",
      "F\n"
     ]
    }
   ],
   "source": [
    "def voti(voto):\n",
    "    if voto >= 9.0:\n",
    "        return \"A\"\n",
    "    elif voto >= 7.0:\n",
    "        return \"B\"\n",
    "    elif voto >= 6.0:\n",
    "        return \"C\"\n",
    "    elif voto >= 5.0:\n",
    "        return \"D\"\n",
    "    else:\n",
    "        return \"F\"\n",
    "\n",
    "print(voti(10.0))\n",
    "print(voti(9.0))\n",
    "print(voti(8.0))\n",
    "print(voti(7.0))\n",
    "print(voti(6.0))\n",
    "print(voti(5.0))\n",
    "print(voti(4.0))\n",
    "print(voti(3.0))\n",
    "print(voti(1.0))"
   ]
  },
  {
   "cell_type": "markdown",
   "id": "747e4d09",
   "metadata": {},
   "source": [
    "# Exercise6: Flow\n",
    "    Crea una funzione super_potenza con due parametri, x e y. Se il risultato di x elevato alla y è più grande di 4000 ritorna True altrimenti False.\n",
    "\n",
    "    Crea una funzione diviso_10 con un parametro x. La funzione ritorna True se x è divisibile per 10 in caso contrario False. Suggerimento: l'operatore modulo % ti sarà di aiuto.\n",
    "\n",
    "    Crea una funzione in_mezzo con tre parametri, num, alto e basso. La funziona restituisce True se il numero è più alto del numero più basso e più basso del numero più alto (in pratica deve essere compreso tra i due numeri) altrimenti False. "
   ]
  },
  {
   "cell_type": "code",
   "execution_count": 23,
   "id": "62f9f227",
   "metadata": {},
   "outputs": [
    {
     "name": "stdout",
     "output_type": "stream",
     "text": [
      "False\n",
      "True\n",
      "False\n",
      "True\n",
      "False\n",
      "True\n",
      "False\n",
      "False\n"
     ]
    }
   ],
   "source": [
    "def super_potenza(x, y):\n",
    "    if (x ** y) > 4000:\n",
    "        return True\n",
    "    else:\n",
    "        return False\n",
    "\n",
    "def diviso_10(x):\n",
    "    if (x % 10) == 0:\n",
    "        return True\n",
    "    else:\n",
    "        return False\n",
    "\n",
    "def in_mezzo(num, alto, basso):\n",
    "    if (num > basso) and (num < alto):\n",
    "        return True\n",
    "    else:\n",
    "        return False\n",
    "\n",
    "print(super_potenza(2, 7))\n",
    "print(super_potenza(2, 15))\n",
    "\n",
    "print(diviso_10(32))\n",
    "print(diviso_10(50))\n",
    "\n",
    "print(in_mezzo(5, 9, 6))\n",
    "print(in_mezzo(5, 9, 1))\n",
    "print(in_mezzo(3, 9, 3))\n",
    "print(in_mezzo(9, 9, 1))"
   ]
  },
  {
   "cell_type": "markdown",
   "id": "99dabae8",
   "metadata": {},
   "source": [
    "# Exercise7: Loop\n",
    "    Utilizza un loop while per continuare a giocare fino a quando il giocatore non decide di fermarsi o finisce i soldi."
   ]
  },
  {
   "cell_type": "code",
   "execution_count": 9,
   "id": "ea13b7b4",
   "metadata": {},
   "outputs": [
    {
     "name": "stdout",
     "output_type": "stream",
     "text": [
      "Hai perso!\n",
      "soldi: 50\n",
      "Hai vinto!\n",
      "soldi: 75\n",
      "Hai perso!\n",
      "soldi: 0\n"
     ]
    }
   ],
   "source": [
    "from numpy import random\n",
    "\n",
    "x = 1\n",
    "\n",
    "def  testa_o_croce(soldi_in_palio, scelta, soldi):\n",
    "    vincita = random.randint(0, 2)\n",
    "    if (scelta == vincita):\n",
    "        print(\"Hai vinto!\")\n",
    "        soldi += soldi_in_palio\n",
    "    else:\n",
    "        print(\"Hai perso!\")\n",
    "        soldi -= soldi_in_palio\n",
    "    return soldi\n",
    "\n",
    "soldi = 100\n",
    "while ((x != 0) and (soldi > 0)):\n",
    "    t_c = int(input(\"Inserisci 0 per testa e 1 per croce: \"))\n",
    "    s = int(input(\"Inserisci soldi in palio: \"))\n",
    "    soldi = testa_o_croce(s, t_c, soldi)\n",
    "    print(\"soldi: \" + str(soldi))\n",
    "    x = int(input(\"Inserisci 0 se vuoi interrompere, qualsiasi numero per continuare: \"))"
   ]
  },
  {
   "cell_type": "markdown",
   "id": "888b3ecd",
   "metadata": {},
   "source": [
    "# Exercise8: Data analysis\n",
    "    Sei l'analista dei dati di \"Il Pettine\", il nuovo parrucchiere in franchising.\n",
    "\n",
    "    Il tuo compito è quello di esaminare gli elenchi dei dati raccolti nelle ultime due settimane.\n",
    "\n",
    "    Calcolerai alcune importanti metriche che servono per pianificare l'attività per il resto del mese.\n",
    "\n",
    "\n",
    "    Ti sono state fornite tre liste:\n",
    "\n",
    "    acconciature: i nomi dei tagli offerti.\n",
    "\n",
    "    prezzi: il prezzo di ogni acconciatura nel listino delle acconciature.\n",
    "\n",
    "    ultima_settimana: il numero di ogni acconciatura in \"acconciature\" acquistate la settimana scorsa.\n",
    "\n",
    "    Crea una variabile prezzo_totale con valore 0.\n",
    "\n",
    "    Con un loop aggiungi i valori della lista prezzi a prezzo_totale .\n",
    "\n",
    "    Dopo il ciclo, crea una variabile chiamata prezzo_medio, che è il prezzo_totale diviso per il numero di prezzi.\n",
    "\n",
    "    Stampa il prezzo medio concatenandolo alla stringa \"Il prezzo medio è: \".\n",
    "\n",
    "    Aumenta i prezzi di 2 utilizzando il metodo avanzato per creare una nuova lista chiamata nuovi_prezzi. Poi stampa a video la lista.\n",
    "\n",
    "    Crea una variabile incasso_totale. Con un loop per ogni acconciatura presente, calcola l'incasso moltiplicando il valore corrispondente nella lista prezzi per il valore corrispondente di ultima_settimana e la somma deve finire nella variabile incasso_totale. Infine stampa incasso_totale.\n",
    "\n",
    "    Suggerimento: ricordati la funzione range() e len() e che le liste hanno lo stesso numero di elementi. "
   ]
  },
  {
   "cell_type": "code",
   "execution_count": 4,
   "id": "de9cd883",
   "metadata": {},
   "outputs": [
    {
     "name": "stdout",
     "output_type": "stream",
     "text": [
      "Il prezzo medio e': 27.5\n",
      "[22, 32, 27, 22, 22, 32, 47, 32]\n",
      "640\n"
     ]
    }
   ],
   "source": [
    "acconciature = [\"alto\", \"curvo\", \"dreadlocks\", \"popolo\", \"ballo\", \"spazzola\", \"moicano\", \"tiptap\"]\n",
    "prezzi = [20, 30, 25, 20, 20, 30, 45, 30]\n",
    "ultima_settimana = [2, 1, 4, 5, 8, 3, 2, 1]\n",
    "prezzo_totale = 0\n",
    "\n",
    "prezzo_totale = sum(prezzi)\n",
    "\n",
    "prezzo_medio = prezzo_totale / len(prezzi)\n",
    "print(\"Il prezzo medio e': \" + str(prezzo_medio))\n",
    "\n",
    "nuovi_prezzi = [prezzo + 2 for prezzo in prezzi]\n",
    "print(nuovi_prezzi)\n",
    "\n",
    "incasso_totale = sum(p * u for p, u in zip(prezzi, ultima_settimana))\n",
    "\n",
    "print(incasso_totale)"
   ]
  },
  {
   "cell_type": "markdown",
   "id": "12423f6a",
   "metadata": {},
   "source": [
    "# Exercise9: Regular expression\n",
    "    Scrivi lo schema regex che ti fa trovare tutte le coppie di numeri all'interno del testo e salvai in una lista.\n",
    "\n",
    "    Risultato previsto: ['31', '12', '50', '52', '17', '10']\n",
    "\n",
    "    Utilizzando le informazioni contenute nel pdf allegato nell'ultima lezione della sezione. Cerca di svolgere in autonomia il seguente esercizio.\n",
    "\n",
    "    Salva in una lista tutte le parole che iniziano con la lettera maiuscola.\n",
    "\n",
    "    Risultato previsto: ['Joshua', 'Salve', 'Professor', 'Falken', 'David', 'Oh', 'Dio', 'Non', 'Non', 'Falken', 'Falken', 'Joshua', 'Mi', 'La', 'Anche', 'Tempo', 'Tempo', 'David', 'Quale', 'Joshua', 'Dovrebbe', 'Mi', 'David', 'Oh', 'Quale', 'Joshua', 'Vincere']"
   ]
  },
  {
   "cell_type": "code",
   "execution_count": 2,
   "id": "42e67b95",
   "metadata": {},
   "outputs": [
    {
     "name": "stdout",
     "output_type": "stream",
     "text": [
      "['31', '12', '50', '52', '17', '10']\n",
      "[]\n"
     ]
    }
   ],
   "source": [
    "import re\n",
    "\n",
    "c = re.compile(r\"\\d\\d\")\n",
    "f = c.findall('''Joshua: Salve, Professor Falken.\n",
    "\n",
    "David: Oh, mio Dio. Non esatta identificazione. Non sono Falken. Falken è morto.\n",
    "\n",
    "Joshua: Mi dispiace sentirlo, professore. La partita di ieri è stata interrotta. \n",
    "Anche se l'obiettivo finale non è stato ancora raggiunto, la soluzione è prossima. \n",
    "Tempo già trascorso: 31 ore, 12 minuti, 50 secondi. Tempo residuo: 52 ore, 17 minuti, 10 secondi.\n",
    "\n",
    "David: Quale è l'obiettivo finale?\n",
    "\n",
    "Joshua: Dovrebbe saperlo, professore. Mi ha programmato lei.\n",
    "\n",
    "David: Oh, andiamo! Quale è l'obiettivo finale?\n",
    "\n",
    "Joshua: Vincere la partita.''')\n",
    "print(f)\n",
    "\n",
    "a = re.compile(r\"[A-Z][a-z]{1, 10}\")\n",
    "f = a.findall('''Joshua: Salve, Professor Falken.\n",
    "\n",
    "David: Oh, mio Dio. Non esatta identificazione. Non sono Falken. Falken è morto.\n",
    "\n",
    "Joshua: Mi dispiace sentirlo, professore. La partita di ieri è stata interrotta. \n",
    "Anche se l'obiettivo finale non è stato ancora raggiunto, la soluzione è prossima. \n",
    "Tempo già trascorso: 31 ore, 12 minuti, 50 secondi. Tempo residuo: 52 ore, 17 minuti, 10 secondi.\n",
    "\n",
    "David: Quale è l'obiettivo finale?\n",
    "\n",
    "Joshua: Dovrebbe saperlo, professore. Mi ha programmato lei.\n",
    "\n",
    "David: Oh, andiamo! Quale è l'obiettivo finale?\n",
    "\n",
    "Joshua: Vincere la partita.''')\n",
    "print(f)"
   ]
  }
 ],
 "metadata": {
  "kernelspec": {
   "display_name": "env_learning",
   "language": "python",
   "name": "python3"
  },
  "language_info": {
   "codemirror_mode": {
    "name": "ipython",
    "version": 3
   },
   "file_extension": ".py",
   "mimetype": "text/x-python",
   "name": "python",
   "nbconvert_exporter": "python",
   "pygments_lexer": "ipython3",
   "version": "3.10.12"
  }
 },
 "nbformat": 4,
 "nbformat_minor": 5
}
