{
 "cells": [
  {
   "cell_type": "markdown",
   "id": "70c9f74f",
   "metadata": {},
   "source": [
    "# Exercise1: List\n",
    "    Crea una lista chiamata abilità e riempila con i seguenti elementi: \"comunicazione\",\"memoria\",\"ragionamento\",\"concentrazione\".\n",
    "\n",
    "    Crea una lista chiamata voti e riempila con i seguenti elementi: 87, 95, 89, 75.\n",
    "\n",
    "    Unisci le due liste in modo che vengano accoppiati. Converti in lista il risultato e salvalo in una variabile.\n",
    "\n",
    "    Stampa a video la variabile.\n",
    "\n",
    "    Aggiungi ora una nuova abilità, \"agilità mentale\" alla lista abilità. Poi aggiungi 80 alla lista voti."
   ]
  },
  {
   "cell_type": "code",
   "execution_count": 3,
   "id": "76109fd0",
   "metadata": {},
   "outputs": [
    {
     "name": "stdout",
     "output_type": "stream",
     "text": [
      "['comunicazione', 'memoria', 'ragionamento', 'concentrazione', 'agilitá mentale']\n",
      "[87, 95, 89, 75, 80]\n",
      "[('comunicazione', 87), ('memoria', 95), ('ragionamento', 89), ('concentrazione', 75), ('agilitá mentale', 80)]\n"
     ]
    }
   ],
   "source": [
    "abilita = [\"comunicazione\", \"memoria\", \"ragionamento\", \"concentrazione\"]\n",
    "voti = [87, 95, 89, 75]\n",
    "\n",
    "abilita.append(\"agilitá mentale\")\n",
    "voti.append(80)\n",
    "print(abilita)\n",
    "print(voti)\n",
    "unione = list(zip(abilita, voti))\n",
    "\n",
    "print(unione)"
   ]
  },
  {
   "cell_type": "markdown",
   "id": "cb29d57b",
   "metadata": {},
   "source": [
    "# Exercise2: Directory\n",
    "    Sei il gestore di un bar in pieno centro della tua città e vuoi gestire i prezzi dei prodotti che hai in vendita e modificarli a tuo piacimento.\n",
    "\n",
    "    Per fare questo utilizzerai il seguente dictionary:\n",
    "\n",
    "        bar = {\"caffè\": 1, \"cappuccino\": 2, \"cornetto\": 2, \"spremuta\": 3}\n",
    "\n",
    "    Domande per questo compito\n",
    "\n",
    "    Stampa a terminale il valore assegnato alla key cornetto.\n",
    "\n",
    "    Aumenta il prezzo del caffè a 2 e poi stampa il nuovo valore.\n",
    "\n",
    "    Crea una variabile prodotti ed assegnagli tutte le chiavi del tuo dictionary e poi stampa la variabile.\n",
    "\n",
    "    Inserisci due nuovi prodotti nel tuo listino, contemporaneamente, cioccolata con valore 3 e krapfen con valore 2. Stampa il risultato dell'aggiornamento.\n",
    "\n",
    "    Togli dal listino i krapfen e salva il prezzo nella variabile krapfen e poi stampa la variabile."
   ]
  },
  {
   "cell_type": "code",
   "execution_count": 9,
   "id": "d4f35868",
   "metadata": {},
   "outputs": [
    {
     "name": "stdout",
     "output_type": "stream",
     "text": [
      "2\n",
      "2\n",
      "dict_keys(['caffé', 'cappuccino', 'cornetto', 'spremuta'])\n",
      "{'caffé': 2, 'cappuccino': 2, 'cornetto': 2, 'spremuta': 3, 'cioccolata': 3, 'krapfen': 2}\n",
      "2\n"
     ]
    }
   ],
   "source": [
    "bar = {\"caffé\": 1, \"cappuccino\": 2, \"cornetto\": 2, \"spremuta\": 3}\n",
    "print(bar[\"cornetto\"])\n",
    "\n",
    "bar[\"caffé\"] = 2\n",
    "print(bar[\"caffé\"])\n",
    "\n",
    "prodotti = bar.keys()\n",
    "print(prodotti)\n",
    "\n",
    "bar.update({\"cioccolata\": 3, \"krapfen\": 2})\n",
    "print(bar)\n",
    "\n",
    "krapfen = bar.pop(\"krapfen\")\n",
    "print(krapfen)"
   ]
  },
  {
   "cell_type": "markdown",
   "id": "12fdd985",
   "metadata": {},
   "source": [
    "# Exercise3: Functions\n",
    "    Definisci una funzione ripeti che ha due parametri, cosa e numero.\n",
    "\n",
    "    Poi assegna ad una variabile chiamata testo il risultato della funzione. Gli argomenti della funzione sono a tua scelta, il parametro cosa deve essere una stringa.\n",
    "\n",
    "    Infine stampa a video la variabile testo."
   ]
  },
  {
   "cell_type": "code",
   "execution_count": 13,
   "id": "d6654b46",
   "metadata": {},
   "outputs": [
    {
     "name": "stdout",
     "output_type": "stream",
     "text": [
      "Ciao3\n"
     ]
    }
   ],
   "source": [
    "def ripeti(cosa, numero):\n",
    "    return cosa + str(numero)\n",
    "\n",
    "testo = ripeti(\"Ciao\", 3)\n",
    "print(testo)"
   ]
  },
  {
   "cell_type": "markdown",
   "id": "fcd7faef",
   "metadata": {},
   "source": [
    "# Exercise4: Recursion\n",
    "    Scrivi una funzione ricorsiva somma che dato un numero n sommi tutti gli interi positivi fino ad n."
   ]
  },
  {
   "cell_type": "code",
   "execution_count": 17,
   "id": "cbef99f6",
   "metadata": {},
   "outputs": [
    {
     "name": "stdout",
     "output_type": "stream",
     "text": [
      "55\n"
     ]
    }
   ],
   "source": [
    "def somma(n):\n",
    "    if n == 1:\n",
    "        return 1\n",
    "    else:\n",
    "        return n + somma(n - 1)\n",
    "\n",
    "n = 10\n",
    "print(somma(n))"
   ]
  },
  {
   "cell_type": "markdown",
   "id": "66123818",
   "metadata": {},
   "source": [
    "# Exercise5: If, Else, Elif\n",
    "    La scuola Giovanni Pascoli ha notato che gli studenti preferiscono ricevere i voti delle lettere piuttosto che in numeri.\n",
    "\n",
    "    Il tuo compito è quello di creare una funzione convertitore  che converte un voto numerico inserito nella valutazione in lettere corretta.\n",
    "\n",
    "    La tua funzione prendere il numero inserito e lo converte come spiegato di seguito:\n",
    "\n",
    "        9.0 o più alto \"A\"\n",
    "\n",
    "        7.0 o più alto \"B\"\n",
    "\n",
    "        6.0 o più alto \"C\"\n",
    "\n",
    "        5.0 o più alto \"D\"\n",
    "\n",
    "        0.0 o più alto \"F\""
   ]
  },
  {
   "cell_type": "code",
   "execution_count": 20,
   "id": "68fca747",
   "metadata": {},
   "outputs": [
    {
     "name": "stdout",
     "output_type": "stream",
     "text": [
      "A\n",
      "A\n",
      "B\n",
      "B\n",
      "C\n",
      "D\n",
      "F\n",
      "F\n",
      "F\n"
     ]
    }
   ],
   "source": [
    "def voti(voto):\n",
    "    if voto >= 9.0:\n",
    "        return \"A\"\n",
    "    elif voto >= 7.0:\n",
    "        return \"B\"\n",
    "    elif voto >= 6.0:\n",
    "        return \"C\"\n",
    "    elif voto >= 5.0:\n",
    "        return \"D\"\n",
    "    else:\n",
    "        return \"F\"\n",
    "\n",
    "print(voti(10.0))\n",
    "print(voti(9.0))\n",
    "print(voti(8.0))\n",
    "print(voti(7.0))\n",
    "print(voti(6.0))\n",
    "print(voti(5.0))\n",
    "print(voti(4.0))\n",
    "print(voti(3.0))\n",
    "print(voti(1.0))"
   ]
  }
 ],
 "metadata": {
  "kernelspec": {
   "display_name": "env_learning",
   "language": "python",
   "name": "python3"
  },
  "language_info": {
   "codemirror_mode": {
    "name": "ipython",
    "version": 3
   },
   "file_extension": ".py",
   "mimetype": "text/x-python",
   "name": "python",
   "nbconvert_exporter": "python",
   "pygments_lexer": "ipython3",
   "version": "3.10.12"
  }
 },
 "nbformat": 4,
 "nbformat_minor": 5
}
