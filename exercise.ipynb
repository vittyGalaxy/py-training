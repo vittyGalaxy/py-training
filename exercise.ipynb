{
 "cells": [
  {
   "cell_type": "markdown",
   "id": "70c9f74f",
   "metadata": {},
   "source": [
    "# Exercise1: List\n",
    "    Crea una lista chiamata abilità e riempila con i seguenti elementi: \"comunicazione\",\"memoria\",\"ragionamento\",\"concentrazione\".\n",
    "\n",
    "    Crea una lista chiamata voti e riempila con i seguenti elementi: 87, 95, 89, 75.\n",
    "\n",
    "    Unisci le due liste in modo che vengano accoppiati. Converti in lista il risultato e salvalo in una variabile.\n",
    "\n",
    "    Stampa a video la variabile.\n",
    "\n",
    "    Aggiungi ora una nuova abilità, \"agilità mentale\" alla lista abilità. Poi aggiungi 80 alla lista voti."
   ]
  },
  {
   "cell_type": "code",
   "execution_count": 3,
   "id": "76109fd0",
   "metadata": {},
   "outputs": [
    {
     "name": "stdout",
     "output_type": "stream",
     "text": [
      "['comunicazione', 'memoria', 'ragionamento', 'concentrazione', 'agilitá mentale']\n",
      "[87, 95, 89, 75, 80]\n",
      "[('comunicazione', 87), ('memoria', 95), ('ragionamento', 89), ('concentrazione', 75), ('agilitá mentale', 80)]\n"
     ]
    }
   ],
   "source": [
    "abilita = [\"comunicazione\", \"memoria\", \"ragionamento\", \"concentrazione\"]\n",
    "voti = [87, 95, 89, 75]\n",
    "\n",
    "abilita.append(\"agilitá mentale\")\n",
    "voti.append(80)\n",
    "print(abilita)\n",
    "print(voti)\n",
    "unione = list(zip(abilita, voti))\n",
    "\n",
    "print(unione)"
   ]
  },
  {
   "cell_type": "markdown",
   "id": "cb29d57b",
   "metadata": {},
   "source": [
    "# Exercise2: Directory\n",
    "    Sei il gestore di un bar in pieno centro della tua città e vuoi gestire i prezzi dei prodotti che hai in vendita e modificarli a tuo piacimento.\n",
    "\n",
    "Per fare questo utilizzerai il seguente dictionary:\n",
    "\n",
    "    bar = {\"caffè\": 1, \"cappuccino\": 2, \"cornetto\": 2, \"spremuta\": 3}\n",
    "\n",
    "Domande per questo compito\n",
    "\n",
    "Stampa a terminale il valore assegnato alla key cornetto.\n",
    "\n",
    "Aumenta il prezzo del caffè a 2 e poi stampa il nuovo valore.\n",
    "\n",
    "Crea una variabile prodotti ed assegnagli tutte le chiavi del tuo dictionary e poi stampa la variabile.\n",
    "\n",
    "Inserisci due nuovi prodotti nel tuo listino, contemporaneamente, cioccolata con valore 3 e krapfen con valore 2. Stampa il risultato dell'aggiornamento.\n",
    "\n",
    "Togli dal listino i krapfen e salva il prezzo nella variabile krapfen e poi stampa la variabile."
   ]
  },
  {
   "cell_type": "code",
   "execution_count": 9,
   "id": "d4f35868",
   "metadata": {},
   "outputs": [
    {
     "name": "stdout",
     "output_type": "stream",
     "text": [
      "2\n",
      "2\n",
      "dict_keys(['caffé', 'cappuccino', 'cornetto', 'spremuta'])\n",
      "{'caffé': 2, 'cappuccino': 2, 'cornetto': 2, 'spremuta': 3, 'cioccolata': 3, 'krapfen': 2}\n",
      "2\n"
     ]
    }
   ],
   "source": [
    "bar = {\"caffé\": 1, \"cappuccino\": 2, \"cornetto\": 2, \"spremuta\": 3}\n",
    "print(bar[\"cornetto\"])\n",
    "\n",
    "bar[\"caffé\"] = 2\n",
    "print(bar[\"caffé\"])\n",
    "\n",
    "prodotti = bar.keys()\n",
    "print(prodotti)\n",
    "\n",
    "bar.update({\"cioccolata\": 3, \"krapfen\": 2})\n",
    "print(bar)\n",
    "\n",
    "krapfen = bar.pop(\"krapfen\")\n",
    "print(krapfen)"
   ]
  }
 ],
 "metadata": {
  "kernelspec": {
   "display_name": "env_learning",
   "language": "python",
   "name": "python3"
  },
  "language_info": {
   "codemirror_mode": {
    "name": "ipython",
    "version": 3
   },
   "file_extension": ".py",
   "mimetype": "text/x-python",
   "name": "python",
   "nbconvert_exporter": "python",
   "pygments_lexer": "ipython3",
   "version": "3.10.12"
  }
 },
 "nbformat": 4,
 "nbformat_minor": 5
}
