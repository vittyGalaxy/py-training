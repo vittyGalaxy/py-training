{
 "cells": [
  {
   "cell_type": "markdown",
   "id": "ca734f78",
   "metadata": {},
   "source": [
    "# Regular expression I\n",
    "per le Regular expression anche detto Regex si importa la libreria re."
   ]
  },
  {
   "cell_type": "code",
   "execution_count": null,
   "id": "b2eb12e6",
   "metadata": {},
   "outputs": [
    {
     "name": "stdout",
     "output_type": "stream",
     "text": [
      "032/234566 é un numero di telefono?\n",
      "False\n"
     ]
    }
   ],
   "source": [
    "def num_tel(testo):\n",
    "    if len(testo) != 10:\n",
    "        return False\n",
    "    for i in range(0, 3):\n",
    "        if not testo[i].isdecimal():\n",
    "            return False\n",
    "    if testo[3] != \"/\":\n",
    "        return False\n",
    "    for i in range(4, 10):\n",
    "        if not testo[i].isdecimal():\n",
    "            return False\n",
    "    return True\n",
    "\n",
    "print(\"032/234566 é un numero di telefono?\")\n",
    "print(num_tel(\"a32/234566\"))"
   ]
  },
  {
   "cell_type": "code",
   "execution_count": 2,
   "id": "94a39d9a",
   "metadata": {},
   "outputs": [
    {
     "name": "stdout",
     "output_type": "stream",
     "text": [
      "True\n"
     ]
    }
   ],
   "source": [
    "import re\n",
    "\n",
    "cosa_tel = re.compile(r\"\\d\\d\\d/\\d\\d\\d\\d\\d\\d\")\n",
    "n = cosa_tel.search(\"032/234566 é un numero di telefono?\")\n",
    "print(bool(n))"
   ]
  },
  {
   "cell_type": "markdown",
   "id": "f779358d",
   "metadata": {},
   "source": [
    "# Regular expression II"
   ]
  },
  {
   "cell_type": "code",
   "execution_count": 11,
   "id": "0af72ea1",
   "metadata": {},
   "outputs": [
    {
     "name": "stdout",
     "output_type": "stream",
     "text": [
      "4567\n",
      "True\n",
      "4567\n",
      "67\n",
      "(45)\n",
      "Superman\n",
      "Superwoman\n",
      "Superman\n"
     ]
    }
   ],
   "source": [
    "import re\n",
    "\n",
    "num = re.compile(r\"\\d\\d\\d\\d\")\n",
    "testo = num.search(\"Cerca il numero 4567\")\n",
    "\n",
    "print(testo.group())\n",
    "print(bool(testo.group()))\n",
    "\n",
    "num = re.compile(r\"(\\d\\d)(\\d\\d)\")\n",
    "testo = num.search(\"Cerca il numro 4567\")\n",
    "\n",
    "print(testo.group(0))\n",
    "print(testo.group(2))\n",
    "\n",
    "num = re.compile(r\"(\\(\\d\\d\\))(\\d\\d)\")\n",
    "testo = num.search(\"Cerca il numro (45)67\")\n",
    "\n",
    "print(testo.group(1))\n",
    "\n",
    "testo = re.compile(r\"Super(man|woman)\")\n",
    "frase = testo.search(\"Io amo Superman!\")\n",
    "\n",
    "print(frase.group())\n",
    "\n",
    "testo = re.compile(r\"Super(man|woman)\")\n",
    "frase = testo.search(\"Io amo Superwoman!\")\n",
    "\n",
    "print(frase.group())\n",
    "\n",
    "testo = re.compile(r\"Super(wo)?man\")\n",
    "frase = testo.search(\"Io amo Superman!\")\n",
    "\n",
    "print(frase.group())"
   ]
  },
  {
   "cell_type": "markdown",
   "id": "6925d6b3",
   "metadata": {},
   "source": [
    "# Regular expression III"
   ]
  },
  {
   "cell_type": "code",
   "execution_count": 16,
   "id": "143f9ee6",
   "metadata": {},
   "outputs": [
    {
     "name": "stdout",
     "output_type": "stream",
     "text": [
      "Superman\n",
      "Superwoman\n",
      "Superwowowoman\n",
      "Parola non trovata\n"
     ]
    }
   ],
   "source": [
    "testo = re.compile(r\"Super(wo)*man\")\n",
    "frase = testo.search(\"Io amo Superman!\")\n",
    "\n",
    "print(frase.group())\n",
    "\n",
    "testo = re.compile(r\"Super(wo)*man\")\n",
    "frase = testo.search(\"Io amo Superwoman!\")\n",
    "\n",
    "print(frase.group())\n",
    "\n",
    "testo = re.compile(r\"Super(wo)*man\")\n",
    "frase = testo.search(\"Io amo Superwowowoman!\")\n",
    "\n",
    "print(frase.group())\n",
    "\n",
    "try:\n",
    "    testo = re.compile(r\"Super(wo)+man\")\n",
    "    frase = testo.search(\"Io amo Superman!\")\n",
    "    print(frase.group())\n",
    "except:\n",
    "    print(\"Parola non trovata\")"
   ]
  },
  {
   "cell_type": "code",
   "execution_count": 20,
   "id": "2606bd0e",
   "metadata": {},
   "outputs": [
    {
     "name": "stdout",
     "output_type": "stream",
     "text": [
      "BlaBla\n",
      "BlaBlaBla\n",
      "BlaBlaBlaBla\n"
     ]
    }
   ],
   "source": [
    "import re\n",
    "\n",
    "r = re.compile(r\"(Bla){2}\") # Quante volte ripeterá Bla\n",
    "f = r.search(\"Esempio BlaBla\")\n",
    "print(f.group())\n",
    "\n",
    "r = re.compile(r\"(Bla){3}\") # Quante volte ripeterá Bla\n",
    "f = r.search(\"Esempio BlaBlaBla\")\n",
    "print(f.group())\n",
    "\n",
    "r = re.compile(r\"(Bla){3,5}\") # Range di quante volte ripeterá Bla\n",
    "f = r.search(\"Esempio BlaBlaBlaBla\")\n",
    "print(f.group())"
   ]
  },
  {
   "cell_type": "markdown",
   "id": "48780b27",
   "metadata": {},
   "source": [
    "# Regular expression IV\n",
    "\\d: numeri\n",
    "\\D: caratteri non numerici\n",
    "\\w: identifica ogni lettera, numero e carattere\n",
    "\\W: opposto a \\w\n",
    "\\s: ogni spazio, tabulazione o carattere nuova linea\n",
    "\\S: opposto a \\s"
   ]
  },
  {
   "cell_type": "code",
   "execution_count": 21,
   "id": "7d04af1b",
   "metadata": {},
   "outputs": [
    {
     "name": "stdout",
     "output_type": "stream",
     "text": [
      "['123/4567', '234/5678']\n"
     ]
    }
   ],
   "source": [
    "n_tel = re.compile(r\"\\d\\d\\d/\\d\\d\\d\\d\")\n",
    "frase = n_tel.findall(\"Num1: 123/4567 Num2: 234/5678\")\n",
    "\n",
    "print(frase)"
   ]
  },
  {
   "cell_type": "markdown",
   "id": "43c2d410",
   "metadata": {},
   "source": [
    "# Regular expression V"
   ]
  },
  {
   "cell_type": "code",
   "execution_count": 24,
   "id": "372e11ed",
   "metadata": {},
   "outputs": [
    {
     "name": "stdout",
     "output_type": "stream",
     "text": [
      "12\n",
      "12 numero 23\n",
      "12 numero 23\n"
     ]
    }
   ],
   "source": [
    "import re\n",
    "\n",
    "p = re.compile(r\"^12\")\n",
    "mo = p.search(\"12 numero 23\")\n",
    "\n",
    "print(mo.group())\n",
    "\n",
    "p = re.compile(r\"^12 (\\w*) 23$\")\n",
    "mo = p.search(\"12 numero 23\")\n",
    "\n",
    "print(mo.group())\n",
    "\n",
    "p = re.compile(r\"^12.{8}23$\")\n",
    "mo = p.search(\"12 numero 23\")\n",
    "\n",
    "print(mo.group())"
   ]
  }
 ],
 "metadata": {
  "kernelspec": {
   "display_name": "env_learning",
   "language": "python",
   "name": "python3"
  },
  "language_info": {
   "codemirror_mode": {
    "name": "ipython",
    "version": 3
   },
   "file_extension": ".py",
   "mimetype": "text/x-python",
   "name": "python",
   "nbconvert_exporter": "python",
   "pygments_lexer": "ipython3",
   "version": "3.10.12"
  }
 },
 "nbformat": 4,
 "nbformat_minor": 5
}
