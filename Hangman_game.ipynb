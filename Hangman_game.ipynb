{
 "cells": [
  {
   "cell_type": "markdown",
   "id": "a285520f",
   "metadata": {},
   "source": [
    "# Hangman game"
   ]
  },
  {
   "cell_type": "code",
   "execution_count": 5,
   "id": "79b026ac",
   "metadata": {},
   "outputs": [
    {
     "name": "stdout",
     "output_type": "stream",
     "text": [
      "si\n",
      "no\n",
      "no\n",
      "no\n",
      "no\n",
      "['_', '_', '_', '_', '_']\n",
      "Mario\n"
     ]
    }
   ],
   "source": [
    "import random\n",
    "\n",
    "lista_parole = [\"Mario\", \"Joshua\", \"Falken\"]\n",
    "\n",
    "scelta_parola = random.choice(lista_parole)\n",
    "\n",
    "indovina = input(\"Indovina la letterea: \")\n",
    "\n",
    "for l in scelta_parola:\n",
    "    if l == indovina:\n",
    "        print(\"si\")\n",
    "    else:\n",
    "        print(\"no\")\n",
    "\n",
    "campo_gioco = []\n",
    "for i in scelta_parola:\n",
    "    campo_gioco += \"_\"\n",
    "\n",
    "print(campo_gioco)\n",
    "print(scelta_parola)"
   ]
  }
 ],
 "metadata": {
  "kernelspec": {
   "display_name": "env_learning",
   "language": "python",
   "name": "python3"
  },
  "language_info": {
   "codemirror_mode": {
    "name": "ipython",
    "version": 3
   },
   "file_extension": ".py",
   "mimetype": "text/x-python",
   "name": "python",
   "nbconvert_exporter": "python",
   "pygments_lexer": "ipython3",
   "version": "3.10.12"
  }
 },
 "nbformat": 4,
 "nbformat_minor": 5
}
