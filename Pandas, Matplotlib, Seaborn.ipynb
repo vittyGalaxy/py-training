{
 "cells": [
  {
   "cell_type": "markdown",
   "id": "eff8b307",
   "metadata": {},
   "source": [
    "# Pandas"
   ]
  },
  {
   "cell_type": "code",
   "execution_count": null,
   "id": "45e08456",
   "metadata": {},
   "outputs": [],
   "source": [
    "import pandas as pd"
   ]
  },
  {
   "cell_type": "code",
   "execution_count": 2,
   "id": "82cb4516",
   "metadata": {},
   "outputs": [
    {
     "name": "stdout",
     "output_type": "stream",
     "text": [
      "0    10\n",
      "1    20\n",
      "2    30\n",
      "3    40\n",
      "dtype: int64\n",
      "    Product  Price\n",
      "0    Laptop   1000\n",
      "1     Mouse     20\n",
      "2  Keyboard     50\n",
      "3   Monitor    200\n"
     ]
    }
   ],
   "source": [
    "example_series = pd.Series([10, 20, 30, 40])\n",
    "print(example_series)\n",
    "\n",
    "date = {\n",
    "    \"Product\": [\"Laptop\", \"Mouse\", \"Keyboard\", \"Monitor\"],\n",
    "    \"Price\": [1000, 20, 50, 200]\n",
    "}\n",
    "df_example = pd.DataFrame(date)\n",
    "print(df_example)"
   ]
  },
  {
   "cell_type": "markdown",
   "id": "f51b08b3",
   "metadata": {},
   "source": [
    "# Creating and manipulating Dataframes"
   ]
  },
  {
   "cell_type": "code",
   "execution_count": 9,
   "id": "1e9c5b73",
   "metadata": {},
   "outputs": [
    {
     "name": "stdout",
     "output_type": "stream",
     "text": [
      "      Name  Age    City\n",
      "0    Alice   25    Roma\n",
      "1      Bob   30  Milano\n",
      "2  Charlie   35  Napoli\n",
      "3    Diana   40  Torino\n",
      "\n",
      "         Age    City\n",
      "Name                \n",
      "Alice     25    Roma\n",
      "Bob       30  Milano\n",
      "Charlie   35  Napoli\n",
      "Diana     40  Torino\n",
      "\n",
      "0      Alice\n",
      "1        Bob\n",
      "2    Charlie\n",
      "3      Diana\n",
      "Name: Name, dtype: object\n",
      "\n",
      "      Name  Age\n",
      "0    Alice   25\n",
      "1      Bob   30\n",
      "2  Charlie   35\n",
      "3    Diana   40\n",
      "\n",
      "         Age    City\n",
      "Name                \n",
      "Alice     25    Roma\n",
      "Bob       30  Milano\n",
      "Charlie   35  Napoli\n",
      "\n",
      "    Name  Age\n",
      "0  Alice   25\n",
      "1    Bob   30\n",
      "\n"
     ]
    }
   ],
   "source": [
    "date = {\n",
    "    \"Name\": [\"Alice\", \"Bob\", \"Charlie\", \"Diana\"],\n",
    "    \"Age\": [25, 30, 35, 40],\n",
    "    \"City\": [\"Roma\", \"Milano\", \"Napoli\", \"Torino\"]\n",
    "}\n",
    "\n",
    "df = pd.DataFrame(date)\n",
    "print(df)\n",
    "print()\n",
    "\n",
    "df_indexed = df.set_index(\"Name\")\n",
    "print(df_indexed)\n",
    "print()\n",
    "\n",
    "name = df[\"Name\"]\n",
    "print(name)\n",
    "print()\n",
    "\n",
    "selected_data = df[[\"Name\", \"Age\"]]\n",
    "print(selected_data)\n",
    "print()\n",
    "\n",
    "extract_loc = df_indexed.loc[\"Alice\": \"Charlie\", [\"Age\", \"City\"]]\n",
    "print(extract_loc)\n",
    "print()\n",
    "\n",
    "extract_iloc = df.iloc[0:2, 0:2]\n",
    "print(extract_iloc)\n",
    "print()"
   ]
  },
  {
   "cell_type": "markdown",
   "id": "3931b553",
   "metadata": {},
   "source": [
    "# Basic DataFrame Operations"
   ]
  },
  {
   "cell_type": "code",
   "execution_count": 18,
   "id": "12fb2cee",
   "metadata": {},
   "outputs": [
    {
     "name": "stdout",
     "output_type": "stream",
     "text": [
      "      Name  Age    City\n",
      "0    Alice   25    Roma\n",
      "1      Bob   30  Milano\n",
      "2  Charlie   35  Napoli\n",
      "3    Diana   40  Torino\n",
      "\n",
      "      Name  Age    City\n",
      "2  Charlie   35  Napoli\n",
      "3    Diana   40  Torino\n",
      "\n",
      "      Name  Age    City\n",
      "0    Alice   25    Roma\n",
      "1      Bob   30  Milano\n",
      "2  Charlie   35  Napoli\n",
      "3    Diana   40  Torino\n",
      "\n",
      "      Name  Age    City\n",
      "3    Diana   40  Torino\n",
      "2  Charlie   35  Napoli\n",
      "1      Bob   30  Milano\n",
      "0    Alice   25    Roma\n",
      "\n",
      "      Name  Age    City\n",
      "1      Bob   30  Milano\n",
      "2  Charlie   35  Napoli\n",
      "0    Alice   25    Roma\n",
      "3    Diana   40  Torino\n",
      "\n",
      "      Name  Age    City\n",
      "3    Diana   40  Torino\n",
      "0    Alice   25    Roma\n",
      "2  Charlie   35  Napoli\n",
      "1      Bob   30  Milano\n",
      "\n",
      "\n",
      "      Name  Age    City\n",
      "3    Diana   40  Torino\n",
      "0    Alice   25    Roma\n",
      "2  Charlie   35  Napoli\n",
      "1      Bob   30  Milano\n",
      "      Name  Age    City\n",
      "0    Alice   25    Roma\n",
      "1      Bob   30  Milano\n",
      "2  Charlie   35  Napoli\n",
      "3    Diana   40  Torino\n"
     ]
    }
   ],
   "source": [
    "date = {\n",
    "    \"Name\": [\"Alice\", \"Bob\", \"Charlie\", \"Diana\"],\n",
    "    \"Age\": [25, 30, 35, 40],\n",
    "    \"City\": [\"Roma\", \"Milano\", \"Napoli\", \"Torino\"]\n",
    "}\n",
    "\n",
    "df = pd.DataFrame(date)\n",
    "print(df)\n",
    "print()\n",
    "\n",
    "age_filter = df[\"Age\"] > 30\n",
    "df_filtered = df[age_filter]\n",
    "print(df_filtered)\n",
    "print()\n",
    "\n",
    "# Ordiniamo i DataFrame\n",
    "\n",
    "df_ordered = df.sort_values(by=\"Age\") # dal piú piccolo al piú grande\n",
    "print(df_ordered)\n",
    "print()\n",
    "\n",
    "df_ordered = df.sort_values(by=\"Age\", ascending=False) # dal piú grande al piú piccolo\n",
    "print(df_ordered)\n",
    "print()\n",
    "\n",
    "df_multi_ordered = df.sort_values(by=[\"City\", \"Age\"])\n",
    "print(df_multi_ordered)\n",
    "print()\n",
    "\n",
    "df_multi_ordered = df.sort_values(by=[\"City\", \"Age\"], ascending=False)\n",
    "print(df_multi_ordered)\n",
    "print(\"\\n\")\n",
    "\n",
    "df.sort_values(by=\"Age\", inplace=True)\n",
    "print(df_multi_ordered)\n",
    "print(df)"
   ]
  },
  {
   "cell_type": "code",
   "execution_count": 20,
   "id": "300e4b60",
   "metadata": {},
   "outputs": [
    {
     "name": "stdout",
     "output_type": "stream",
     "text": [
      "City\n",
      "Milano    30.0\n",
      "Napoli    35.0\n",
      "Roma      25.0\n",
      "Torino    40.0\n",
      "Name: Age, dtype: float64\n",
      "\n",
      "City\n",
      "Milano    1\n",
      "Napoli    1\n",
      "Roma      1\n",
      "Torino    1\n",
      "dtype: int64\n",
      "\n"
     ]
    }
   ],
   "source": [
    "groups = df.groupby(\"City\")\n",
    "average_age = groups[\"Age\"].mean()\n",
    "print(average_age)\n",
    "print()\n",
    "\n",
    "count = groups.size()\n",
    "print(count)\n",
    "print()"
   ]
  },
  {
   "cell_type": "code",
   "execution_count": 22,
   "id": "28a23fa9",
   "metadata": {},
   "outputs": [
    {
     "name": "stdout",
     "output_type": "stream",
     "text": [
      "City\n",
      "Milano    30.0\n",
      "Napoli    35.0\n",
      "Torino    40.0\n",
      "Name: Age, dtype: float64\n",
      "\n"
     ]
    }
   ],
   "source": [
    "df_filter = df[df[\"Age\"] > 25]\n",
    "average_age = df_filter.groupby(\"City\")[\"Age\"].mean().sort_values()\n",
    "print(average_age)\n",
    "print()"
   ]
  },
  {
   "cell_type": "markdown",
   "id": "384263c7",
   "metadata": {},
   "source": [
    "# Read and write CSV, Excel and other formats files"
   ]
  },
  {
   "cell_type": "code",
   "execution_count": 28,
   "id": "8225fb0e",
   "metadata": {},
   "outputs": [
    {
     "name": "stdout",
     "output_type": "stream",
     "text": [
      "      Name  Age    City\n",
      "0    Alice   25    Roma\n",
      "1      Bob   30  Milano\n",
      "2  Charlie   35  Napoli\n",
      "3    Diana   40  Torino\n",
      "      Name  Age    City\n",
      "0    Alice   25    Roma\n",
      "1      Bob   30  Milano\n",
      "2  Charlie   35  Napoli\n",
      "3    Diana   40  Torino\n"
     ]
    },
    {
     "ename": "ValueError",
     "evalue": "Excel file format cannot be determined, you must specify an engine manually.",
     "output_type": "error",
     "traceback": [
      "\u001b[0;31m---------------------------------------------------------------------------\u001b[0m",
      "\u001b[0;31mValueError\u001b[0m                                Traceback (most recent call last)",
      "Cell \u001b[0;32mIn[29], line 7\u001b[0m\n\u001b[1;32m      4\u001b[0m df_csv\u001b[38;5;241m.\u001b[39mto_csv(\u001b[38;5;124m\"\u001b[39m\u001b[38;5;124mfoo.csv\u001b[39m\u001b[38;5;124m\"\u001b[39m, index\u001b[38;5;241m=\u001b[39m\u001b[38;5;28;01mFalse\u001b[39;00m)\n\u001b[1;32m      5\u001b[0m \u001b[38;5;28mprint\u001b[39m(df)\n\u001b[0;32m----> 7\u001b[0m df_excel \u001b[38;5;241m=\u001b[39m \u001b[43mpd\u001b[49m\u001b[38;5;241;43m.\u001b[39;49m\u001b[43mread_excel\u001b[49m\u001b[43m(\u001b[49m\u001b[38;5;124;43m\"\u001b[39;49m\u001b[38;5;124;43mfoo.xlsx\u001b[39;49m\u001b[38;5;124;43m\"\u001b[39;49m\u001b[43m,\u001b[49m\u001b[43m \u001b[49m\u001b[43msheet_name\u001b[49m\u001b[38;5;241;43m=\u001b[39;49m\u001b[38;5;124;43m\"\u001b[39;49m\u001b[38;5;124;43mJanuary\u001b[39;49m\u001b[38;5;124;43m\"\u001b[39;49m\u001b[43m)\u001b[49m\n\u001b[1;32m      8\u001b[0m \u001b[38;5;28mprint\u001b[39m(df_excel\u001b[38;5;241m.\u001b[39mhead())\n\u001b[1;32m     10\u001b[0m df_excel\u001b[38;5;241m.\u001b[39mto_excel(\u001b[38;5;124m\"\u001b[39m\u001b[38;5;124mfoo.xlsx\u001b[39m\u001b[38;5;124m\"\u001b[39m, index\u001b[38;5;241m=\u001b[39m\u001b[38;5;28;01mFalse\u001b[39;00m, sheet_name\u001b[38;5;241m=\u001b[39m\u001b[38;5;124m\"\u001b[39m\u001b[38;5;124mRisult\u001b[39m\u001b[38;5;124m\"\u001b[39m)\n",
      "File \u001b[0;32m~/Development/vitty/py-training/env_learning/lib/python3.10/site-packages/pandas/io/excel/_base.py:495\u001b[0m, in \u001b[0;36mread_excel\u001b[0;34m(io, sheet_name, header, names, index_col, usecols, dtype, engine, converters, true_values, false_values, skiprows, nrows, na_values, keep_default_na, na_filter, verbose, parse_dates, date_parser, date_format, thousands, decimal, comment, skipfooter, storage_options, dtype_backend, engine_kwargs)\u001b[0m\n\u001b[1;32m    493\u001b[0m \u001b[38;5;28;01mif\u001b[39;00m \u001b[38;5;129;01mnot\u001b[39;00m \u001b[38;5;28misinstance\u001b[39m(io, ExcelFile):\n\u001b[1;32m    494\u001b[0m     should_close \u001b[38;5;241m=\u001b[39m \u001b[38;5;28;01mTrue\u001b[39;00m\n\u001b[0;32m--> 495\u001b[0m     io \u001b[38;5;241m=\u001b[39m \u001b[43mExcelFile\u001b[49m\u001b[43m(\u001b[49m\n\u001b[1;32m    496\u001b[0m \u001b[43m        \u001b[49m\u001b[43mio\u001b[49m\u001b[43m,\u001b[49m\n\u001b[1;32m    497\u001b[0m \u001b[43m        \u001b[49m\u001b[43mstorage_options\u001b[49m\u001b[38;5;241;43m=\u001b[39;49m\u001b[43mstorage_options\u001b[49m\u001b[43m,\u001b[49m\n\u001b[1;32m    498\u001b[0m \u001b[43m        \u001b[49m\u001b[43mengine\u001b[49m\u001b[38;5;241;43m=\u001b[39;49m\u001b[43mengine\u001b[49m\u001b[43m,\u001b[49m\n\u001b[1;32m    499\u001b[0m \u001b[43m        \u001b[49m\u001b[43mengine_kwargs\u001b[49m\u001b[38;5;241;43m=\u001b[39;49m\u001b[43mengine_kwargs\u001b[49m\u001b[43m,\u001b[49m\n\u001b[1;32m    500\u001b[0m \u001b[43m    \u001b[49m\u001b[43m)\u001b[49m\n\u001b[1;32m    501\u001b[0m \u001b[38;5;28;01melif\u001b[39;00m engine \u001b[38;5;129;01mand\u001b[39;00m engine \u001b[38;5;241m!=\u001b[39m io\u001b[38;5;241m.\u001b[39mengine:\n\u001b[1;32m    502\u001b[0m     \u001b[38;5;28;01mraise\u001b[39;00m \u001b[38;5;167;01mValueError\u001b[39;00m(\n\u001b[1;32m    503\u001b[0m         \u001b[38;5;124m\"\u001b[39m\u001b[38;5;124mEngine should not be specified when passing \u001b[39m\u001b[38;5;124m\"\u001b[39m\n\u001b[1;32m    504\u001b[0m         \u001b[38;5;124m\"\u001b[39m\u001b[38;5;124man ExcelFile - ExcelFile already has the engine set\u001b[39m\u001b[38;5;124m\"\u001b[39m\n\u001b[1;32m    505\u001b[0m     )\n",
      "File \u001b[0;32m~/Development/vitty/py-training/env_learning/lib/python3.10/site-packages/pandas/io/excel/_base.py:1554\u001b[0m, in \u001b[0;36mExcelFile.__init__\u001b[0;34m(self, path_or_buffer, engine, storage_options, engine_kwargs)\u001b[0m\n\u001b[1;32m   1550\u001b[0m     ext \u001b[38;5;241m=\u001b[39m inspect_excel_format(\n\u001b[1;32m   1551\u001b[0m         content_or_path\u001b[38;5;241m=\u001b[39mpath_or_buffer, storage_options\u001b[38;5;241m=\u001b[39mstorage_options\n\u001b[1;32m   1552\u001b[0m     )\n\u001b[1;32m   1553\u001b[0m     \u001b[38;5;28;01mif\u001b[39;00m ext \u001b[38;5;129;01mis\u001b[39;00m \u001b[38;5;28;01mNone\u001b[39;00m:\n\u001b[0;32m-> 1554\u001b[0m         \u001b[38;5;28;01mraise\u001b[39;00m \u001b[38;5;167;01mValueError\u001b[39;00m(\n\u001b[1;32m   1555\u001b[0m             \u001b[38;5;124m\"\u001b[39m\u001b[38;5;124mExcel file format cannot be determined, you must specify \u001b[39m\u001b[38;5;124m\"\u001b[39m\n\u001b[1;32m   1556\u001b[0m             \u001b[38;5;124m\"\u001b[39m\u001b[38;5;124man engine manually.\u001b[39m\u001b[38;5;124m\"\u001b[39m\n\u001b[1;32m   1557\u001b[0m         )\n\u001b[1;32m   1559\u001b[0m engine \u001b[38;5;241m=\u001b[39m config\u001b[38;5;241m.\u001b[39mget_option(\u001b[38;5;124mf\u001b[39m\u001b[38;5;124m\"\u001b[39m\u001b[38;5;124mio.excel.\u001b[39m\u001b[38;5;132;01m{\u001b[39;00mext\u001b[38;5;132;01m}\u001b[39;00m\u001b[38;5;124m.reader\u001b[39m\u001b[38;5;124m\"\u001b[39m, silent\u001b[38;5;241m=\u001b[39m\u001b[38;5;28;01mTrue\u001b[39;00m)\n\u001b[1;32m   1560\u001b[0m \u001b[38;5;28;01mif\u001b[39;00m engine \u001b[38;5;241m==\u001b[39m \u001b[38;5;124m\"\u001b[39m\u001b[38;5;124mauto\u001b[39m\u001b[38;5;124m\"\u001b[39m:\n",
      "\u001b[0;31mValueError\u001b[0m: Excel file format cannot be determined, you must specify an engine manually."
     ]
    }
   ],
   "source": [
    "df_csv = pd.read_csv(\"foo.csv\")\n",
    "print(df_csv.head())\n",
    "\n",
    "df_csv.to_csv(\"foo.csv\", index=False)\n",
    "print(df)\n",
    "\n",
    "df_excel = pd.read_excel(\"foo.xlsx\", sheet_name=\"January\")\n",
    "print(df_excel.head())\n",
    "\n",
    "df_excel.to_excel(\"foo.xlsx\", index=False, sheet_name=\"Risult\")"
   ]
  },
  {
   "cell_type": "code",
   "execution_count": 32,
   "id": "8378566c",
   "metadata": {},
   "outputs": [
    {
     "ename": "ValueError",
     "evalue": "Expected object or value",
     "output_type": "error",
     "traceback": [
      "\u001b[0;31m---------------------------------------------------------------------------\u001b[0m",
      "\u001b[0;31mValueError\u001b[0m                                Traceback (most recent call last)",
      "Cell \u001b[0;32mIn[32], line 1\u001b[0m\n\u001b[0;32m----> 1\u001b[0m df_json \u001b[38;5;241m=\u001b[39m \u001b[43mpd\u001b[49m\u001b[38;5;241;43m.\u001b[39;49m\u001b[43mread_json\u001b[49m\u001b[43m(\u001b[49m\u001b[38;5;124;43m\"\u001b[39;49m\u001b[38;5;124;43mfoo.json\u001b[39;49m\u001b[38;5;124;43m\"\u001b[39;49m\u001b[43m)\u001b[49m\n\u001b[1;32m      2\u001b[0m \u001b[38;5;28mprint\u001b[39m(df_json\u001b[38;5;241m.\u001b[39mhead())\n\u001b[1;32m      3\u001b[0m df_json\u001b[38;5;241m.\u001b[39mto_json(\u001b[38;5;124m\"\u001b[39m\u001b[38;5;124mfoo.json\u001b[39m\u001b[38;5;124m\"\u001b[39m)\n",
      "File \u001b[0;32m~/Development/vitty/py-training/env_learning/lib/python3.10/site-packages/pandas/io/json/_json.py:815\u001b[0m, in \u001b[0;36mread_json\u001b[0;34m(path_or_buf, orient, typ, dtype, convert_axes, convert_dates, keep_default_dates, precise_float, date_unit, encoding, encoding_errors, lines, chunksize, compression, nrows, storage_options, dtype_backend, engine)\u001b[0m\n\u001b[1;32m    813\u001b[0m     \u001b[38;5;28;01mreturn\u001b[39;00m json_reader\n\u001b[1;32m    814\u001b[0m \u001b[38;5;28;01melse\u001b[39;00m:\n\u001b[0;32m--> 815\u001b[0m     \u001b[38;5;28;01mreturn\u001b[39;00m \u001b[43mjson_reader\u001b[49m\u001b[38;5;241;43m.\u001b[39;49m\u001b[43mread\u001b[49m\u001b[43m(\u001b[49m\u001b[43m)\u001b[49m\n",
      "File \u001b[0;32m~/Development/vitty/py-training/env_learning/lib/python3.10/site-packages/pandas/io/json/_json.py:1014\u001b[0m, in \u001b[0;36mJsonReader.read\u001b[0;34m(self)\u001b[0m\n\u001b[1;32m   1012\u001b[0m         obj \u001b[38;5;241m=\u001b[39m \u001b[38;5;28mself\u001b[39m\u001b[38;5;241m.\u001b[39m_get_object_parser(\u001b[38;5;28mself\u001b[39m\u001b[38;5;241m.\u001b[39m_combine_lines(data_lines))\n\u001b[1;32m   1013\u001b[0m \u001b[38;5;28;01melse\u001b[39;00m:\n\u001b[0;32m-> 1014\u001b[0m     obj \u001b[38;5;241m=\u001b[39m \u001b[38;5;28;43mself\u001b[39;49m\u001b[38;5;241;43m.\u001b[39;49m\u001b[43m_get_object_parser\u001b[49m\u001b[43m(\u001b[49m\u001b[38;5;28;43mself\u001b[39;49m\u001b[38;5;241;43m.\u001b[39;49m\u001b[43mdata\u001b[49m\u001b[43m)\u001b[49m\n\u001b[1;32m   1015\u001b[0m \u001b[38;5;28;01mif\u001b[39;00m \u001b[38;5;28mself\u001b[39m\u001b[38;5;241m.\u001b[39mdtype_backend \u001b[38;5;129;01mis\u001b[39;00m \u001b[38;5;129;01mnot\u001b[39;00m lib\u001b[38;5;241m.\u001b[39mno_default:\n\u001b[1;32m   1016\u001b[0m     \u001b[38;5;28;01mreturn\u001b[39;00m obj\u001b[38;5;241m.\u001b[39mconvert_dtypes(\n\u001b[1;32m   1017\u001b[0m         infer_objects\u001b[38;5;241m=\u001b[39m\u001b[38;5;28;01mFalse\u001b[39;00m, dtype_backend\u001b[38;5;241m=\u001b[39m\u001b[38;5;28mself\u001b[39m\u001b[38;5;241m.\u001b[39mdtype_backend\n\u001b[1;32m   1018\u001b[0m     )\n",
      "File \u001b[0;32m~/Development/vitty/py-training/env_learning/lib/python3.10/site-packages/pandas/io/json/_json.py:1040\u001b[0m, in \u001b[0;36mJsonReader._get_object_parser\u001b[0;34m(self, json)\u001b[0m\n\u001b[1;32m   1038\u001b[0m obj \u001b[38;5;241m=\u001b[39m \u001b[38;5;28;01mNone\u001b[39;00m\n\u001b[1;32m   1039\u001b[0m \u001b[38;5;28;01mif\u001b[39;00m typ \u001b[38;5;241m==\u001b[39m \u001b[38;5;124m\"\u001b[39m\u001b[38;5;124mframe\u001b[39m\u001b[38;5;124m\"\u001b[39m:\n\u001b[0;32m-> 1040\u001b[0m     obj \u001b[38;5;241m=\u001b[39m \u001b[43mFrameParser\u001b[49m\u001b[43m(\u001b[49m\u001b[43mjson\u001b[49m\u001b[43m,\u001b[49m\u001b[43m \u001b[49m\u001b[38;5;241;43m*\u001b[39;49m\u001b[38;5;241;43m*\u001b[39;49m\u001b[43mkwargs\u001b[49m\u001b[43m)\u001b[49m\u001b[38;5;241;43m.\u001b[39;49m\u001b[43mparse\u001b[49m\u001b[43m(\u001b[49m\u001b[43m)\u001b[49m\n\u001b[1;32m   1042\u001b[0m \u001b[38;5;28;01mif\u001b[39;00m typ \u001b[38;5;241m==\u001b[39m \u001b[38;5;124m\"\u001b[39m\u001b[38;5;124mseries\u001b[39m\u001b[38;5;124m\"\u001b[39m \u001b[38;5;129;01mor\u001b[39;00m obj \u001b[38;5;129;01mis\u001b[39;00m \u001b[38;5;28;01mNone\u001b[39;00m:\n\u001b[1;32m   1043\u001b[0m     \u001b[38;5;28;01mif\u001b[39;00m \u001b[38;5;129;01mnot\u001b[39;00m \u001b[38;5;28misinstance\u001b[39m(dtype, \u001b[38;5;28mbool\u001b[39m):\n",
      "File \u001b[0;32m~/Development/vitty/py-training/env_learning/lib/python3.10/site-packages/pandas/io/json/_json.py:1176\u001b[0m, in \u001b[0;36mParser.parse\u001b[0;34m(self)\u001b[0m\n\u001b[1;32m   1174\u001b[0m \u001b[38;5;129m@final\u001b[39m\n\u001b[1;32m   1175\u001b[0m \u001b[38;5;28;01mdef\u001b[39;00m\u001b[38;5;250m \u001b[39m\u001b[38;5;21mparse\u001b[39m(\u001b[38;5;28mself\u001b[39m):\n\u001b[0;32m-> 1176\u001b[0m     \u001b[38;5;28;43mself\u001b[39;49m\u001b[38;5;241;43m.\u001b[39;49m\u001b[43m_parse\u001b[49m\u001b[43m(\u001b[49m\u001b[43m)\u001b[49m\n\u001b[1;32m   1178\u001b[0m     \u001b[38;5;28;01mif\u001b[39;00m \u001b[38;5;28mself\u001b[39m\u001b[38;5;241m.\u001b[39mobj \u001b[38;5;129;01mis\u001b[39;00m \u001b[38;5;28;01mNone\u001b[39;00m:\n\u001b[1;32m   1179\u001b[0m         \u001b[38;5;28;01mreturn\u001b[39;00m \u001b[38;5;28;01mNone\u001b[39;00m\n",
      "File \u001b[0;32m~/Development/vitty/py-training/env_learning/lib/python3.10/site-packages/pandas/io/json/_json.py:1392\u001b[0m, in \u001b[0;36mFrameParser._parse\u001b[0;34m(self)\u001b[0m\n\u001b[1;32m   1388\u001b[0m orient \u001b[38;5;241m=\u001b[39m \u001b[38;5;28mself\u001b[39m\u001b[38;5;241m.\u001b[39morient\n\u001b[1;32m   1390\u001b[0m \u001b[38;5;28;01mif\u001b[39;00m orient \u001b[38;5;241m==\u001b[39m \u001b[38;5;124m\"\u001b[39m\u001b[38;5;124mcolumns\u001b[39m\u001b[38;5;124m\"\u001b[39m:\n\u001b[1;32m   1391\u001b[0m     \u001b[38;5;28mself\u001b[39m\u001b[38;5;241m.\u001b[39mobj \u001b[38;5;241m=\u001b[39m DataFrame(\n\u001b[0;32m-> 1392\u001b[0m         \u001b[43mujson_loads\u001b[49m\u001b[43m(\u001b[49m\u001b[43mjson\u001b[49m\u001b[43m,\u001b[49m\u001b[43m \u001b[49m\u001b[43mprecise_float\u001b[49m\u001b[38;5;241;43m=\u001b[39;49m\u001b[38;5;28;43mself\u001b[39;49m\u001b[38;5;241;43m.\u001b[39;49m\u001b[43mprecise_float\u001b[49m\u001b[43m)\u001b[49m, dtype\u001b[38;5;241m=\u001b[39m\u001b[38;5;28;01mNone\u001b[39;00m\n\u001b[1;32m   1393\u001b[0m     )\n\u001b[1;32m   1394\u001b[0m \u001b[38;5;28;01melif\u001b[39;00m orient \u001b[38;5;241m==\u001b[39m \u001b[38;5;124m\"\u001b[39m\u001b[38;5;124msplit\u001b[39m\u001b[38;5;124m\"\u001b[39m:\n\u001b[1;32m   1395\u001b[0m     decoded \u001b[38;5;241m=\u001b[39m {\n\u001b[1;32m   1396\u001b[0m         \u001b[38;5;28mstr\u001b[39m(k): v\n\u001b[1;32m   1397\u001b[0m         \u001b[38;5;28;01mfor\u001b[39;00m k, v \u001b[38;5;129;01min\u001b[39;00m ujson_loads(json, precise_float\u001b[38;5;241m=\u001b[39m\u001b[38;5;28mself\u001b[39m\u001b[38;5;241m.\u001b[39mprecise_float)\u001b[38;5;241m.\u001b[39mitems()\n\u001b[1;32m   1398\u001b[0m     }\n",
      "\u001b[0;31mValueError\u001b[0m: Expected object or value"
     ]
    }
   ],
   "source": [
    "df_json = pd.read_json(\"foo.json\")\n",
    "print(df_json.head())\n",
    "df_json.to_json(\"foo.json\")"
   ]
  },
  {
   "cell_type": "markdown",
   "id": "f9050098",
   "metadata": {},
   "source": [
    "# Data cleaning and preparation"
   ]
  },
  {
   "cell_type": "code",
   "execution_count": 36,
   "id": "8519b969",
   "metadata": {},
   "outputs": [
    {
     "name": "stdout",
     "output_type": "stream",
     "text": [
      "Original DataFrame:\n",
      "    Name   Age    City\n",
      "0  Alice  25.0    Roma\n",
      "1    Bob   NaN  Milano\n",
      "2   None  35.0  Napoli\n",
      "3  Diana  40.0    None\n",
      "\n",
      "Missing values (True indicates a missing value):\n",
      "    Name    Age   City\n",
      "0  False  False  False\n",
      "1  False   True  False\n",
      "2   True  False  False\n",
      "3  False  False   True\n",
      "\n",
      "\n",
      "DataFrame after removing rows with missing values:\n",
      "    Name   Age  City\n",
      "0  Alice  25.0  Roma\n",
      "\n",
      "DataFrame after replacing missing values:\n",
      "      Name        Age           City\n",
      "0    Alice  25.000000           Roma\n",
      "1      Bob  33.333333         Milano\n",
      "2  Unknown  35.000000         Napoli\n",
      "3    Diana  40.000000  Not specified\n"
     ]
    }
   ],
   "source": [
    "data = {\n",
    "    \"Name\": [\"Alice\", \"Bob\", None, \"Diana\"],\n",
    "    \"Age\": [25, None, 35, 40],\n",
    "    \"City\": [\"Roma\", \"Milano\", \"Napoli\", None]\n",
    "}\n",
    "\n",
    "df = pd.DataFrame(data)\n",
    "print(\"Original DataFrame:\")\n",
    "print(df)\n",
    "print(\"\\nMissing values (True indicates a missing value):\")\n",
    "print(df.isnull())\n",
    "print()\n",
    "\n",
    "df_dropna = df.dropna()\n",
    "print(\"\\nDataFrame after removing rows with missing values:\")\n",
    "print(df_dropna)\n",
    "\n",
    "average_age = df[\"Age\"].mean()\n",
    "df[\"Age\"] = df[\"Age\"].fillna(average_age)\n",
    "\n",
    "df[\"Name\"] = df[\"Name\"].fillna(\"Unknown\")\n",
    "df[\"City\"] = df[\"City\"].fillna(\"Not specified\")\n",
    "print(\"\\nDataFrame after replacing missing values:\")\n",
    "print(df)"
   ]
  },
  {
   "cell_type": "code",
   "execution_count": 39,
   "id": "e87d300f",
   "metadata": {},
   "outputs": [
    {
     "name": "stdout",
     "output_type": "stream",
     "text": [
      "DataFrame before conversion:\n",
      "   Year Sales\n",
      "0  2020  1000\n",
      "1  2021  1500\n",
      "2  2022  2000\n",
      "\n",
      "DataFrame after type conversion:\n",
      "   Year   Sales\n",
      "0  2020  1000.0\n",
      "1  2021  1500.0\n",
      "2  2022  2000.0\n"
     ]
    }
   ],
   "source": [
    "data_convert = {\n",
    "    \"Year\": [\"2020\", \"2021\", \"2022\"],\n",
    "    \"Sales\": [\"1000\", \"1500\", \"2000\"]\n",
    "}\n",
    "\n",
    "df_convert = pd.DataFrame(data_convert)\n",
    "print(\"DataFrame before conversion:\")\n",
    "print(df_convert)\n",
    "print()\n",
    "\n",
    "df_convert[\"Year\"] = df_convert[\"Year\"].astype(int)\n",
    "df_convert[\"Sales\"] = df_convert[\"Sales\"].astype(float)\n",
    "\n",
    "print(\"DataFrame after type conversion:\")\n",
    "print(df_convert)"
   ]
  },
  {
   "cell_type": "code",
   "execution_count": 41,
   "id": "8fff8003",
   "metadata": {},
   "outputs": [
    {
     "name": "stdout",
     "output_type": "stream",
     "text": [
      "Names before transformation:\n",
      "      Name\n",
      "0    alice\n",
      "1      BOB\n",
      "2  ChArLiE\n",
      "3    dIaNa\n",
      "\n",
      "Names after transformation:\n",
      "      Name\n",
      "0    Alice\n",
      "1      Bob\n",
      "2  Charlie\n",
      "3    Diana\n",
      "\n",
      "Names after applying custom function:\n",
      "                 Name\n",
      "0    Alice (Customer)\n",
      "1      Bob (Customer)\n",
      "2  Charlie (Customer)\n",
      "3    Diana (Customer)\n"
     ]
    }
   ],
   "source": [
    "data_names = {\n",
    "    \"Name\": [\"alice\", \"BOB\", \"ChArLiE\", \"dIaNa\"]\n",
    "}\n",
    "\n",
    "df_names = pd.DataFrame(data_names)\n",
    "print(\"Names before transformation:\")\n",
    "print(df_names)\n",
    "\n",
    "df_names[\"Name\"] = df_names[\"Name\"].str.title()\n",
    "print(\"\\nNames after transformation:\")\n",
    "print(df_names)\n",
    "\n",
    "#------------------------------------------------------------\n",
    "def add_suffix(name):\n",
    "    return name + \" (Customer)\"\n",
    "\n",
    "df_names[\"Name\"] = df_names[\"Name\"].apply(add_suffix)\n",
    "print(\"\\nNames after applying custom function:\")\n",
    "print(df_names)"
   ]
  },
  {
   "cell_type": "markdown",
   "id": "456baa76",
   "metadata": {},
   "source": [
    "# Practical exercises with Pandas"
   ]
  },
  {
   "cell_type": "code",
   "execution_count": 11,
   "id": "3e06f263",
   "metadata": {},
   "outputs": [
    {
     "name": "stdout",
     "output_type": "stream",
     "text": [
      "nOriginal DataFrame:\n",
      "      Name   Age    City\n",
      "0    Alice  25.0    Roma\n",
      "1      Bob  30.0  Milano\n",
      "2  Charlie   NaN  Napoli\n",
      "3    Diana  40.0    None\n",
      "4     None  28.0  Torino\n",
      "DataFrame with only 'Name' and 'Age':\n",
      "      Name   Age\n",
      "0    Alice  25.0\n",
      "1      Bob  30.0\n",
      "2  Charlie   NaN\n",
      "3    Diana  40.0\n",
      "4     None  28.0\n",
      "\n",
      "Filtered DataFrame (Age >= 30):\n",
      "    Name   Age    City\n",
      "1    Bob  30.0  Milano\n",
      "3  Diana  40.0    None\n",
      "\n",
      "DataFrame after removing rows with missing values:\n",
      "    Name   Age    City\n",
      "0  Alice  25.0    Roma\n",
      "1    Bob  30.0  Milano\n",
      "\n",
      "DataFrame after replacing missing values:\n",
      "      Name    Age           City\n",
      "0    Alice  25.00           Roma\n",
      "1      Bob  30.00         Milano\n",
      "2  Charlie  30.75         Napoli\n",
      "3    Diana  40.00  Not specified\n",
      "4  Unknown  28.00         Torino\n",
      "\n",
      "DataFrame after transformations:\n",
      "  Full_Name  Age_Years City_Residence Category\n",
      "0     Alice         25           Roma    Young\n",
      "1       Bob         30         Milano    Young\n",
      "2   Charlie         31         Napoli    Young\n",
      "3     Diana         40  Not specified   Mature\n",
      "4   Unknown         28         Torino    Young\n"
     ]
    }
   ],
   "source": [
    "import pandas as pd\n",
    "\n",
    "data = {\n",
    "    \"Name\": [\"Alice\", \"Bob\", \"Charlie\", \"Diana\", None],\n",
    "    \"Age\": [25, 30, None, 40, 28],\n",
    "    \"City\": [\"Roma\", \"Milano\", \"Napoli\", None, \"Torino\"]\n",
    "}\n",
    "\n",
    "df = pd.DataFrame(data)\n",
    "print(\"nOriginal DataFrame:\")\n",
    "print(df)\n",
    "\n",
    "df_selected = df[[\"Name\", \"Age\"]]\n",
    "print(\"DataFrame with only 'Name' and 'Age':\")\n",
    "print(df_selected)\n",
    "\n",
    "df_filtered = df[df[\"Age\"].notnull() & (df[\"Age\"] >= 30)]\n",
    "print(\"\\nFiltered DataFrame (Age >= 30):\")\n",
    "print(df_filtered)\n",
    "\n",
    "df_dropna = df.dropna()\n",
    "print(\"\\nDataFrame after removing rows with missing values:\")\n",
    "print(df_dropna)\n",
    "\n",
    "average_age = df[\"Age\"].mean()\n",
    "df_filled = df.copy()\n",
    "df_filled[\"Age\"] = df_filled[\"Age\"].fillna(average_age)\n",
    "df_filled[\"Name\"] = df_filled[\"Name\"].fillna(\"Unknown\")\n",
    "df_filled[\"City\"] = df_filled[\"City\"].fillna(\"Not specified\")\n",
    "\n",
    "print(\"\\nDataFrame after replacing missing values:\")\n",
    "print(df_filled)\n",
    "\n",
    "df_filled[\"Age\"] = df_filled[\"Age\"].round().astype(int)\n",
    "df_t = df_filled.rename(columns={\"Name\": \"Full_Name\", \"Age\": \"Age_Years\", \"City\": \"City_Residence\"})\n",
    "\n",
    "#------------------------------------------------------------------------------------------------------------------------------\n",
    "def c_age(age):\n",
    "    if age < 35:\n",
    "        return \"Young\"\n",
    "    else:\n",
    "        return \"Mature\"\n",
    "\n",
    "df_t[\"Category\"] = df_t[\"Age_Years\"].apply(c_age)\n",
    "print(\"\\nDataFrame after transformations:\")\n",
    "print(df_t)"
   ]
  },
  {
   "cell_type": "markdown",
   "id": "2bcaa5da",
   "metadata": {},
   "source": [
    "# Introduction to Matplotlib"
   ]
  },
  {
   "cell_type": "code",
   "execution_count": 13,
   "id": "d693eeb3",
   "metadata": {},
   "outputs": [
    {
     "data": {
      "image/png": "[encoded data removed]",
      "text/plain": [
       "<Figure size 640x480 with 1 Axes>"
      ]
     },
     "metadata": {},
     "output_type": "display_data"
    }
   ],
   "source": [
    "import matplotlib.pyplot as plt\n",
    "\n",
    "fig, ax = plt.subplots()\n",
    "\n",
    "x = [1, 2, 3, 4]\n",
    "y = [10, 20, 25, 30]\n",
    "\n",
    "ax.plot(x, y)\n",
    "ax.set_title(\"Sample Line Chart\")\n",
    "ax.set_xlabel(\"x axis\")\n",
    "ax.set_ylabel(\"y axis\")\n",
    "\n",
    "ax.grid(True)\n",
    "\n",
    "ax.plot(x, y, label=\"Line 1\")\n",
    "ax.legend()\n",
    "\n",
    "plt.show()"
   ]
  }
 ],
 "metadata": {
  "kernelspec": {
   "display_name": "env_learning",
   "language": "python",
   "name": "python3"
  },
  "language_info": {
   "codemirror_mode": {
    "name": "ipython",
    "version": 3
   },
   "file_extension": ".py",
   "mimetype": "text/x-python",
   "name": "python",
   "nbconvert_exporter": "python",
   "pygments_lexer": "ipython3",
   "version": "3.10.12"
  }
 },
 "nbformat": 4,
 "nbformat_minor": 5
}
