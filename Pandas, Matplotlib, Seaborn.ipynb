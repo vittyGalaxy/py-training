{
 "cells": [
  {
   "cell_type": "markdown",
   "id": "eff8b307",
   "metadata": {},
   "source": [
    "# Pandas"
   ]
  },
  {
   "cell_type": "code",
   "execution_count": null,
   "id": "45e08456",
   "metadata": {},
   "outputs": [],
   "source": [
    "import pandas as pd"
   ]
  },
  {
   "cell_type": "code",
   "execution_count": 2,
   "id": "82cb4516",
   "metadata": {},
   "outputs": [
    {
     "name": "stdout",
     "output_type": "stream",
     "text": [
      "0    10\n",
      "1    20\n",
      "2    30\n",
      "3    40\n",
      "dtype: int64\n",
      "    Product  Price\n",
      "0    Laptop   1000\n",
      "1     Mouse     20\n",
      "2  Keyboard     50\n",
      "3   Monitor    200\n"
     ]
    }
   ],
   "source": [
    "example_series = pd.Series([10, 20, 30, 40])\n",
    "print(example_series)\n",
    "\n",
    "date = {\n",
    "    \"Product\": [\"Laptop\", \"Mouse\", \"Keyboard\", \"Monitor\"],\n",
    "    \"Price\": [1000, 20, 50, 200]\n",
    "}\n",
    "df_example = pd.DataFrame(date)\n",
    "print(df_example)"
   ]
  },
  {
   "cell_type": "markdown",
   "id": "f51b08b3",
   "metadata": {},
   "source": [
    "# Creating and manipulating Dataframes"
   ]
  },
  {
   "cell_type": "code",
   "execution_count": 9,
   "id": "1e9c5b73",
   "metadata": {},
   "outputs": [
    {
     "name": "stdout",
     "output_type": "stream",
     "text": [
      "      Name  Age    City\n",
      "0    Alice   25    Roma\n",
      "1      Bob   30  Milano\n",
      "2  Charlie   35  Napoli\n",
      "3    Diana   40  Torino\n",
      "\n",
      "         Age    City\n",
      "Name                \n",
      "Alice     25    Roma\n",
      "Bob       30  Milano\n",
      "Charlie   35  Napoli\n",
      "Diana     40  Torino\n",
      "\n",
      "0      Alice\n",
      "1        Bob\n",
      "2    Charlie\n",
      "3      Diana\n",
      "Name: Name, dtype: object\n",
      "\n",
      "      Name  Age\n",
      "0    Alice   25\n",
      "1      Bob   30\n",
      "2  Charlie   35\n",
      "3    Diana   40\n",
      "\n",
      "         Age    City\n",
      "Name                \n",
      "Alice     25    Roma\n",
      "Bob       30  Milano\n",
      "Charlie   35  Napoli\n",
      "\n",
      "    Name  Age\n",
      "0  Alice   25\n",
      "1    Bob   30\n",
      "\n"
     ]
    }
   ],
   "source": [
    "date = {\n",
    "    \"Name\": [\"Alice\", \"Bob\", \"Charlie\", \"Diana\"],\n",
    "    \"Age\": [25, 30, 35, 40],\n",
    "    \"City\": [\"Roma\", \"Milano\", \"Napoli\", \"Torino\"]\n",
    "}\n",
    "\n",
    "df = pd.DataFrame(date)\n",
    "print(df)\n",
    "print()\n",
    "\n",
    "df_indexed = df.set_index(\"Name\")\n",
    "print(df_indexed)\n",
    "print()\n",
    "\n",
    "name = df[\"Name\"]\n",
    "print(name)\n",
    "print()\n",
    "\n",
    "selected_data = df[[\"Name\", \"Age\"]]\n",
    "print(selected_data)\n",
    "print()\n",
    "\n",
    "extract_loc = df_indexed.loc[\"Alice\": \"Charlie\", [\"Age\", \"City\"]]\n",
    "print(extract_loc)\n",
    "print()\n",
    "\n",
    "extract_iloc = df.iloc[0:2, 0:2]\n",
    "print(extract_iloc)\n",
    "print()"
   ]
  },
  {
   "cell_type": "markdown",
   "id": "3931b553",
   "metadata": {},
   "source": [
    "# Basic DataFrame Operations"
   ]
  },
  {
   "cell_type": "code",
   "execution_count": 18,
   "id": "12fb2cee",
   "metadata": {},
   "outputs": [
    {
     "name": "stdout",
     "output_type": "stream",
     "text": [
      "      Name  Age    City\n",
      "0    Alice   25    Roma\n",
      "1      Bob   30  Milano\n",
      "2  Charlie   35  Napoli\n",
      "3    Diana   40  Torino\n",
      "\n",
      "      Name  Age    City\n",
      "2  Charlie   35  Napoli\n",
      "3    Diana   40  Torino\n",
      "\n",
      "      Name  Age    City\n",
      "0    Alice   25    Roma\n",
      "1      Bob   30  Milano\n",
      "2  Charlie   35  Napoli\n",
      "3    Diana   40  Torino\n",
      "\n",
      "      Name  Age    City\n",
      "3    Diana   40  Torino\n",
      "2  Charlie   35  Napoli\n",
      "1      Bob   30  Milano\n",
      "0    Alice   25    Roma\n",
      "\n",
      "      Name  Age    City\n",
      "1      Bob   30  Milano\n",
      "2  Charlie   35  Napoli\n",
      "0    Alice   25    Roma\n",
      "3    Diana   40  Torino\n",
      "\n",
      "      Name  Age    City\n",
      "3    Diana   40  Torino\n",
      "0    Alice   25    Roma\n",
      "2  Charlie   35  Napoli\n",
      "1      Bob   30  Milano\n",
      "\n",
      "\n",
      "      Name  Age    City\n",
      "3    Diana   40  Torino\n",
      "0    Alice   25    Roma\n",
      "2  Charlie   35  Napoli\n",
      "1      Bob   30  Milano\n",
      "      Name  Age    City\n",
      "0    Alice   25    Roma\n",
      "1      Bob   30  Milano\n",
      "2  Charlie   35  Napoli\n",
      "3    Diana   40  Torino\n"
     ]
    }
   ],
   "source": [
    "date = {\n",
    "    \"Name\": [\"Alice\", \"Bob\", \"Charlie\", \"Diana\"],\n",
    "    \"Age\": [25, 30, 35, 40],\n",
    "    \"City\": [\"Roma\", \"Milano\", \"Napoli\", \"Torino\"]\n",
    "}\n",
    "\n",
    "df = pd.DataFrame(date)\n",
    "print(df)\n",
    "print()\n",
    "\n",
    "age_filter = df[\"Age\"] > 30\n",
    "df_filtered = df[age_filter]\n",
    "print(df_filtered)\n",
    "print()\n",
    "\n",
    "# Ordiniamo i DataFrame\n",
    "\n",
    "df_ordered = df.sort_values(by=\"Age\") # dal piú piccolo al piú grande\n",
    "print(df_ordered)\n",
    "print()\n",
    "\n",
    "df_ordered = df.sort_values(by=\"Age\", ascending=False) # dal piú grande al piú piccolo\n",
    "print(df_ordered)\n",
    "print()\n",
    "\n",
    "df_multi_ordered = df.sort_values(by=[\"City\", \"Age\"])\n",
    "print(df_multi_ordered)\n",
    "print()\n",
    "\n",
    "df_multi_ordered = df.sort_values(by=[\"City\", \"Age\"], ascending=False)\n",
    "print(df_multi_ordered)\n",
    "print(\"\\n\")\n",
    "\n",
    "df.sort_values(by=\"Age\", inplace=True)\n",
    "print(df_multi_ordered)\n",
    "print(df)"
   ]
  },
  {
   "cell_type": "code",
   "execution_count": 20,
   "id": "300e4b60",
   "metadata": {},
   "outputs": [
    {
     "name": "stdout",
     "output_type": "stream",
     "text": [
      "City\n",
      "Milano    30.0\n",
      "Napoli    35.0\n",
      "Roma      25.0\n",
      "Torino    40.0\n",
      "Name: Age, dtype: float64\n",
      "\n",
      "City\n",
      "Milano    1\n",
      "Napoli    1\n",
      "Roma      1\n",
      "Torino    1\n",
      "dtype: int64\n",
      "\n"
     ]
    }
   ],
   "source": [
    "groups = df.groupby(\"City\")\n",
    "average_age = groups[\"Age\"].mean()\n",
    "print(average_age)\n",
    "print()\n",
    "\n",
    "count = groups.size()\n",
    "print(count)\n",
    "print()"
   ]
  },
  {
   "cell_type": "code",
   "execution_count": 22,
   "id": "28a23fa9",
   "metadata": {},
   "outputs": [
    {
     "name": "stdout",
     "output_type": "stream",
     "text": [
      "City\n",
      "Milano    30.0\n",
      "Napoli    35.0\n",
      "Torino    40.0\n",
      "Name: Age, dtype: float64\n",
      "\n"
     ]
    }
   ],
   "source": [
    "df_filter = df[df[\"Age\"] > 25]\n",
    "average_age = df_filter.groupby(\"City\")[\"Age\"].mean().sort_values()\n",
    "print(average_age)\n",
    "print()"
   ]
  }
 ],
 "metadata": {
  "kernelspec": {
   "display_name": "env_learning",
   "language": "python",
   "name": "python3"
  },
  "language_info": {
   "codemirror_mode": {
    "name": "ipython",
    "version": 3
   },
   "file_extension": ".py",
   "mimetype": "text/x-python",
   "name": "python",
   "nbconvert_exporter": "python",
   "pygments_lexer": "ipython3",
   "version": "3.10.12"
  }
 },
 "nbformat": 4,
 "nbformat_minor": 5
}
